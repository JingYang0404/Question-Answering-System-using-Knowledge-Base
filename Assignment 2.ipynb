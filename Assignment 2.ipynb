{
 "cells": [
  {
   "cell_type": "markdown",
   "id": "3eb3ccaa",
   "metadata": {
    "scrolled": true
   },
   "source": [
    "# NLP Assignment 2"
   ]
  },
  {
   "cell_type": "markdown",
   "id": "be72e87b",
   "metadata": {},
   "source": [
    "About the dataset:\n",
    "\n",
    "The text files contains information about Cynthia Breazeal, a female scientists. Cynthia's career, early education, reseachers, awards are information available in the text files."
   ]
  },
  {
   "cell_type": "code",
   "execution_count": 1,
   "id": "38ad67bc",
   "metadata": {},
   "outputs": [],
   "source": [
    "#open text file in read mode\n",
    "text_file = open(\"cb1.txt\", \"r\")\n",
    "text_file2 = open(\"cb2.txt\", \"r\")\n",
    "\n",
    "#read whole file to a string\n",
    "data1 = text_file.read()\n",
    "data2 = text_file2.read()\n",
    "\n",
    "#close file\n",
    "text_file.close()\n",
    "text_file2.close()"
   ]
  },
  {
   "cell_type": "code",
   "execution_count": 2,
   "id": "8324a984",
   "metadata": {},
   "outputs": [
    {
     "name": "stderr",
     "output_type": "stream",
     "text": [
      "C:\\Users\\jingy\\anaconda3\\lib\\site-packages\\spacy\\util.py:910: UserWarning: [W095] Model 'en_core_web_sm' (3.4.1) was trained with spaCy v3.4 and may not be 100% compatible with the current version (3.6.0). If you see errors or degraded performance, download a newer compatible model or retrain your custom model with the current spaCy version. For more details and available updates, run: python -m spacy validate\n",
      "  warnings.warn(warn_msg)\n"
     ]
    }
   ],
   "source": [
    "import spacy\n",
    "from spacy.matcher import Matcher \n",
    "from spacy import displacy\n",
    "\n",
    "nlp = spacy.load(\"en_core_web_sm\")\n",
    "#nlp = spacy.load(\"en_core_web_md\")\n",
    "\n",
    "doc = nlp(data1)\n",
    "doc2 = nlp(data2)"
   ]
  },
  {
   "cell_type": "markdown",
   "id": "0035418b",
   "metadata": {},
   "source": [
    "### Using Spacy to display the entities and its type"
   ]
  },
  {
   "cell_type": "code",
   "execution_count": 3,
   "id": "274d0e70",
   "metadata": {
    "scrolled": true
   },
   "outputs": [
    {
     "data": {
      "text/html": [
       "<span class=\"tex2jax_ignore\"><div class=\"entities\" style=\"line-height: 2.5; direction: ltr\">\n",
       "<mark class=\"entity\" style=\"background: #aa9cfc; padding: 0.45em 0.6em; margin: 0 0.25em; line-height: 1; border-radius: 0.35em;\">\n",
       "    Cynthia Breazeal\n",
       "    <span style=\"font-size: 0.8em; font-weight: bold; line-height: 1; border-radius: 0.35em; vertical-align: middle; margin-left: 0.5rem\">PERSON</span>\n",
       "</mark>\n",
       " is an \n",
       "<mark class=\"entity\" style=\"background: #c887fb; padding: 0.45em 0.6em; margin: 0 0.25em; line-height: 1; border-radius: 0.35em;\">\n",
       "    American\n",
       "    <span style=\"font-size: 0.8em; font-weight: bold; line-height: 1; border-radius: 0.35em; vertical-align: middle; margin-left: 0.5rem\">NORP</span>\n",
       "</mark>\n",
       " robotics scientist and entrepreneur. \n",
       "<mark class=\"entity\" style=\"background: #aa9cfc; padding: 0.45em 0.6em; margin: 0 0.25em; line-height: 1; border-radius: 0.35em;\">\n",
       "    Cynthia Breazeal\n",
       "    <span style=\"font-size: 0.8em; font-weight: bold; line-height: 1; border-radius: 0.35em; vertical-align: middle; margin-left: 0.5rem\">PERSON</span>\n",
       "</mark>\n",
       " is a former chief scientist and chief experience officer of \n",
       "<mark class=\"entity\" style=\"background: #7aecec; padding: 0.45em 0.6em; margin: 0 0.25em; line-height: 1; border-radius: 0.35em;\">\n",
       "    Jibo\n",
       "    <span style=\"font-size: 0.8em; font-weight: bold; line-height: 1; border-radius: 0.35em; vertical-align: middle; margin-left: 0.5rem\">ORG</span>\n",
       "</mark>\n",
       ", a company she co-founded in \n",
       "<mark class=\"entity\" style=\"background: #bfe1d9; padding: 0.45em 0.6em; margin: 0 0.25em; line-height: 1; border-radius: 0.35em;\">\n",
       "    2012\n",
       "    <span style=\"font-size: 0.8em; font-weight: bold; line-height: 1; border-radius: 0.35em; vertical-align: middle; margin-left: 0.5rem\">DATE</span>\n",
       "</mark>\n",
       " that developed personal assistant robots. Currently, \n",
       "<mark class=\"entity\" style=\"background: #aa9cfc; padding: 0.45em 0.6em; margin: 0 0.25em; line-height: 1; border-radius: 0.35em;\">\n",
       "    Cynthia Breazeal\n",
       "    <span style=\"font-size: 0.8em; font-weight: bold; line-height: 1; border-radius: 0.35em; vertical-align: middle; margin-left: 0.5rem\">PERSON</span>\n",
       "</mark>\n",
       " is a professor of media arts and sciences at \n",
       "<mark class=\"entity\" style=\"background: #7aecec; padding: 0.45em 0.6em; margin: 0 0.25em; line-height: 1; border-radius: 0.35em;\">\n",
       "    MIT\n",
       "    <span style=\"font-size: 0.8em; font-weight: bold; line-height: 1; border-radius: 0.35em; vertical-align: middle; margin-left: 0.5rem\">ORG</span>\n",
       "</mark>\n",
       " and the director of \n",
       "<mark class=\"entity\" style=\"background: #7aecec; padding: 0.45em 0.6em; margin: 0 0.25em; line-height: 1; border-radius: 0.35em;\">\n",
       "    the Personal Robots\n",
       "    <span style=\"font-size: 0.8em; font-weight: bold; line-height: 1; border-radius: 0.35em; vertical-align: middle; margin-left: 0.5rem\">ORG</span>\n",
       "</mark>\n",
       " group at \n",
       "<mark class=\"entity\" style=\"background: #9cc9cc; padding: 0.45em 0.6em; margin: 0 0.25em; line-height: 1; border-radius: 0.35em;\">\n",
       "    the Media Lab\n",
       "    <span style=\"font-size: 0.8em; font-weight: bold; line-height: 1; border-radius: 0.35em; vertical-align: middle; margin-left: 0.5rem\">FAC</span>\n",
       "</mark>\n",
       ".  \n",
       "<mark class=\"entity\" style=\"background: #aa9cfc; padding: 0.45em 0.6em; margin: 0 0.25em; line-height: 1; border-radius: 0.35em;\">\n",
       "    Cynthia Breazeal\n",
       "    <span style=\"font-size: 0.8em; font-weight: bold; line-height: 1; border-radius: 0.35em; vertical-align: middle; margin-left: 0.5rem\">PERSON</span>\n",
       "</mark>\n",
       " most recent work has focused on the theme of living everyday life in the presence of \n",
       "<mark class=\"entity\" style=\"background: #7aecec; padding: 0.45em 0.6em; margin: 0 0.25em; line-height: 1; border-radius: 0.35em;\">\n",
       "    AI\n",
       "    <span style=\"font-size: 0.8em; font-weight: bold; line-height: 1; border-radius: 0.35em; vertical-align: middle; margin-left: 0.5rem\">ORG</span>\n",
       "</mark>\n",
       ", and gradually gaining insight into the long-term impacts of social robots.</br></br>\n",
       "<mark class=\"entity\" style=\"background: #aa9cfc; padding: 0.45em 0.6em; margin: 0 0.25em; line-height: 1; border-radius: 0.35em;\">\n",
       "    Cynthia Breazeal\n",
       "    <span style=\"font-size: 0.8em; font-weight: bold; line-height: 1; border-radius: 0.35em; vertical-align: middle; margin-left: 0.5rem\">PERSON</span>\n",
       "</mark>\n",
       " is the daughter of \n",
       "<mark class=\"entity\" style=\"background: #e4e7d2; padding: 0.45em 0.6em; margin: 0 0.25em; line-height: 1; border-radius: 0.35em;\">\n",
       "    two\n",
       "    <span style=\"font-size: 0.8em; font-weight: bold; line-height: 1; border-radius: 0.35em; vertical-align: middle; margin-left: 0.5rem\">CARDINAL</span>\n",
       "</mark>\n",
       " scientists, \n",
       "<mark class=\"entity\" style=\"background: #aa9cfc; padding: 0.45em 0.6em; margin: 0 0.25em; line-height: 1; border-radius: 0.35em;\">\n",
       "    Cynthia Breazeal\n",
       "    <span style=\"font-size: 0.8em; font-weight: bold; line-height: 1; border-radius: 0.35em; vertical-align: middle; margin-left: 0.5rem\">PERSON</span>\n",
       "</mark>\n",
       " had early access to the fields of computer science and engineering. Under the guidance of \n",
       "<mark class=\"entity\" style=\"background: #aa9cfc; padding: 0.45em 0.6em; margin: 0 0.25em; line-height: 1; border-radius: 0.35em;\">\n",
       "    Cynthia Breazeal\n",
       "    <span style=\"font-size: 0.8em; font-weight: bold; line-height: 1; border-radius: 0.35em; vertical-align: middle; margin-left: 0.5rem\">PERSON</span>\n",
       "</mark>\n",
       "  parents, \n",
       "<mark class=\"entity\" style=\"background: #aa9cfc; padding: 0.45em 0.6em; margin: 0 0.25em; line-height: 1; border-radius: 0.35em;\">\n",
       "    Cynthia Breazeal\n",
       "    <span style=\"font-size: 0.8em; font-weight: bold; line-height: 1; border-radius: 0.35em; vertical-align: middle; margin-left: 0.5rem\">PERSON</span>\n",
       "</mark>\n",
       " earned a Bachelor of Science in electrical and computer engineering from \n",
       "<mark class=\"entity\" style=\"background: #7aecec; padding: 0.45em 0.6em; margin: 0 0.25em; line-height: 1; border-radius: 0.35em;\">\n",
       "    the University of California\n",
       "    <span style=\"font-size: 0.8em; font-weight: bold; line-height: 1; border-radius: 0.35em; vertical-align: middle; margin-left: 0.5rem\">ORG</span>\n",
       "</mark>\n",
       ", \n",
       "<mark class=\"entity\" style=\"background: #feca74; padding: 0.45em 0.6em; margin: 0 0.25em; line-height: 1; border-radius: 0.35em;\">\n",
       "    Santa Barbara\n",
       "    <span style=\"font-size: 0.8em; font-weight: bold; line-height: 1; border-radius: 0.35em; vertical-align: middle; margin-left: 0.5rem\">GPE</span>\n",
       "</mark>\n",
       ", in \n",
       "<mark class=\"entity\" style=\"background: #bfe1d9; padding: 0.45em 0.6em; margin: 0 0.25em; line-height: 1; border-radius: 0.35em;\">\n",
       "    1989\n",
       "    <span style=\"font-size: 0.8em; font-weight: bold; line-height: 1; border-radius: 0.35em; vertical-align: middle; margin-left: 0.5rem\">DATE</span>\n",
       "</mark>\n",
       ". \n",
       "<mark class=\"entity\" style=\"background: #aa9cfc; padding: 0.45em 0.6em; margin: 0 0.25em; line-height: 1; border-radius: 0.35em;\">\n",
       "    Cynthia Breazeal\n",
       "    <span style=\"font-size: 0.8em; font-weight: bold; line-height: 1; border-radius: 0.35em; vertical-align: middle; margin-left: 0.5rem\">PERSON</span>\n",
       "</mark>\n",
       " earned \n",
       "<mark class=\"entity\" style=\"background: #7aecec; padding: 0.45em 0.6em; margin: 0 0.25em; line-height: 1; border-radius: 0.35em;\">\n",
       "    Mater Study\n",
       "    <span style=\"font-size: 0.8em; font-weight: bold; line-height: 1; border-radius: 0.35em; vertical-align: middle; margin-left: 0.5rem\">ORG</span>\n",
       "</mark>\n",
       " in \n",
       "<mark class=\"entity\" style=\"background: #bfe1d9; padding: 0.45em 0.6em; margin: 0 0.25em; line-height: 1; border-radius: 0.35em;\">\n",
       "    1993\n",
       "    <span style=\"font-size: 0.8em; font-weight: bold; line-height: 1; border-radius: 0.35em; vertical-align: middle; margin-left: 0.5rem\">DATE</span>\n",
       "</mark>\n",
       ". \n",
       "<mark class=\"entity\" style=\"background: #aa9cfc; padding: 0.45em 0.6em; margin: 0 0.25em; line-height: 1; border-radius: 0.35em;\">\n",
       "    Cynthia Breazeal\n",
       "    <span style=\"font-size: 0.8em; font-weight: bold; line-height: 1; border-radius: 0.35em; vertical-align: middle; margin-left: 0.5rem\">PERSON</span>\n",
       "</mark>\n",
       " earned \n",
       "<mark class=\"entity\" style=\"background: #7aecec; padding: 0.45em 0.6em; margin: 0 0.25em; line-height: 1; border-radius: 0.35em;\">\n",
       "    Doctorate\n",
       "    <span style=\"font-size: 0.8em; font-weight: bold; line-height: 1; border-radius: 0.35em; vertical-align: middle; margin-left: 0.5rem\">ORG</span>\n",
       "</mark>\n",
       " in \n",
       "<mark class=\"entity\" style=\"background: #bfe1d9; padding: 0.45em 0.6em; margin: 0 0.25em; line-height: 1; border-radius: 0.35em;\">\n",
       "    2000\n",
       "    <span style=\"font-size: 0.8em; font-weight: bold; line-height: 1; border-radius: 0.35em; vertical-align: middle; margin-left: 0.5rem\">DATE</span>\n",
       "</mark>\n",
       " in electrical engineering and computer science, both from \n",
       "<mark class=\"entity\" style=\"background: #7aecec; padding: 0.45em 0.6em; margin: 0 0.25em; line-height: 1; border-radius: 0.35em;\">\n",
       "    MIT\n",
       "    <span style=\"font-size: 0.8em; font-weight: bold; line-height: 1; border-radius: 0.35em; vertical-align: middle; margin-left: 0.5rem\">ORG</span>\n",
       "</mark>\n",
       ". \n",
       "<mark class=\"entity\" style=\"background: #aa9cfc; padding: 0.45em 0.6em; margin: 0 0.25em; line-height: 1; border-radius: 0.35em;\">\n",
       "    Cynthia Breazeal\n",
       "    <span style=\"font-size: 0.8em; font-weight: bold; line-height: 1; border-radius: 0.35em; vertical-align: middle; margin-left: 0.5rem\">PERSON</span>\n",
       "</mark>\n",
       " decided to switch her focus to social robotics after watching a \n",
       "<mark class=\"entity\" style=\"background: #7aecec; padding: 0.45em 0.6em; margin: 0 0.25em; line-height: 1; border-radius: 0.35em;\">\n",
       "    NASA\n",
       "    <span style=\"font-size: 0.8em; font-weight: bold; line-height: 1; border-radius: 0.35em; vertical-align: middle; margin-left: 0.5rem\">ORG</span>\n",
       "</mark>\n",
       " robot.</br>\n",
       "<mark class=\"entity\" style=\"background: #aa9cfc; padding: 0.45em 0.6em; margin: 0 0.25em; line-height: 1; border-radius: 0.35em;\">\n",
       "    Cynthia Breazeal\n",
       "    <span style=\"font-size: 0.8em; font-weight: bold; line-height: 1; border-radius: 0.35em; vertical-align: middle; margin-left: 0.5rem\">PERSON</span>\n",
       "</mark>\n",
       " developed the robot \n",
       "<mark class=\"entity\" style=\"background: #bfeeb7; padding: 0.45em 0.6em; margin: 0 0.25em; line-height: 1; border-radius: 0.35em;\">\n",
       "    Kismet\n",
       "    <span style=\"font-size: 0.8em; font-weight: bold; line-height: 1; border-radius: 0.35em; vertical-align: middle; margin-left: 0.5rem\">PRODUCT</span>\n",
       "</mark>\n",
       " as a doctoral thesis under \n",
       "<mark class=\"entity\" style=\"background: #aa9cfc; padding: 0.45em 0.6em; margin: 0 0.25em; line-height: 1; border-radius: 0.35em;\">\n",
       "    Rodney Brooks\n",
       "    <span style=\"font-size: 0.8em; font-weight: bold; line-height: 1; border-radius: 0.35em; vertical-align: middle; margin-left: 0.5rem\">PERSON</span>\n",
       "</mark>\n",
       ", which looked into the expressive social exchange between humans and humanoid robots. Kismet, as well as other robots \n",
       "<mark class=\"entity\" style=\"background: #aa9cfc; padding: 0.45em 0.6em; margin: 0 0.25em; line-height: 1; border-radius: 0.35em;\">\n",
       "    Cynthia Breazeal\n",
       "    <span style=\"font-size: 0.8em; font-weight: bold; line-height: 1; border-radius: 0.35em; vertical-align: middle; margin-left: 0.5rem\">PERSON</span>\n",
       "</mark>\n",
       " co-developed while a graduate student at \n",
       "<mark class=\"entity\" style=\"background: #7aecec; padding: 0.45em 0.6em; margin: 0 0.25em; line-height: 1; border-radius: 0.35em;\">\n",
       "    the MIT Artificial Intelligence Lab\n",
       "    <span style=\"font-size: 0.8em; font-weight: bold; line-height: 1; border-radius: 0.35em; vertical-align: middle; margin-left: 0.5rem\">ORG</span>\n",
       "</mark>\n",
       ", can now be seen at \n",
       "<mark class=\"entity\" style=\"background: #7aecec; padding: 0.45em 0.6em; margin: 0 0.25em; line-height: 1; border-radius: 0.35em;\">\n",
       "    the MIT Museum\n",
       "    <span style=\"font-size: 0.8em; font-weight: bold; line-height: 1; border-radius: 0.35em; vertical-align: middle; margin-left: 0.5rem\">ORG</span>\n",
       "</mark>\n",
       ". Notable examples include the upper torso humanoid robot, Cog; and the insect-like robot, \n",
       "<mark class=\"entity\" style=\"background: #feca74; padding: 0.45em 0.6em; margin: 0 0.25em; line-height: 1; border-radius: 0.35em;\">\n",
       "    Hannibal\n",
       "    <span style=\"font-size: 0.8em; font-weight: bold; line-height: 1; border-radius: 0.35em; vertical-align: middle; margin-left: 0.5rem\">GPE</span>\n",
       "</mark>\n",
       ". \n",
       "<mark class=\"entity\" style=\"background: #aa9cfc; padding: 0.45em 0.6em; margin: 0 0.25em; line-height: 1; border-radius: 0.35em;\">\n",
       "    Cynthia Breazeal\n",
       "    <span style=\"font-size: 0.8em; font-weight: bold; line-height: 1; border-radius: 0.35em; vertical-align: middle; margin-left: 0.5rem\">PERSON</span>\n",
       "</mark>\n",
       " worked on \n",
       "<mark class=\"entity\" style=\"background: #7aecec; padding: 0.45em 0.6em; margin: 0 0.25em; line-height: 1; border-radius: 0.35em;\">\n",
       "    Leonard, Aida\n",
       "    <span style=\"font-size: 0.8em; font-weight: bold; line-height: 1; border-radius: 0.35em; vertical-align: middle; margin-left: 0.5rem\">ORG</span>\n",
       "</mark>\n",
       ", \n",
       "<mark class=\"entity\" style=\"background: #feca74; padding: 0.45em 0.6em; margin: 0 0.25em; line-height: 1; border-radius: 0.35em;\">\n",
       "    Autom\n",
       "    <span style=\"font-size: 0.8em; font-weight: bold; line-height: 1; border-radius: 0.35em; vertical-align: middle; margin-left: 0.5rem\">GPE</span>\n",
       "</mark>\n",
       " and Huggable in \n",
       "<mark class=\"entity\" style=\"background: #bfe1d9; padding: 0.45em 0.6em; margin: 0 0.25em; line-height: 1; border-radius: 0.35em;\">\n",
       "    the early 2000s\n",
       "    <span style=\"font-size: 0.8em; font-weight: bold; line-height: 1; border-radius: 0.35em; vertical-align: middle; margin-left: 0.5rem\">DATE</span>\n",
       "</mark>\n",
       ". </br></br>\n",
       "<mark class=\"entity\" style=\"background: #aa9cfc; padding: 0.45em 0.6em; margin: 0 0.25em; line-height: 1; border-radius: 0.35em;\">\n",
       "    Cynthia Breazeal\n",
       "    <span style=\"font-size: 0.8em; font-weight: bold; line-height: 1; border-radius: 0.35em; vertical-align: middle; margin-left: 0.5rem\">PERSON</span>\n",
       "</mark>\n",
       " is a professor of \n",
       "<mark class=\"entity\" style=\"background: #7aecec; padding: 0.45em 0.6em; margin: 0 0.25em; line-height: 1; border-radius: 0.35em;\">\n",
       "    Media Arts and Sciences\n",
       "    <span style=\"font-size: 0.8em; font-weight: bold; line-height: 1; border-radius: 0.35em; vertical-align: middle; margin-left: 0.5rem\">ORG</span>\n",
       "</mark>\n",
       " at \n",
       "<mark class=\"entity\" style=\"background: #7aecec; padding: 0.45em 0.6em; margin: 0 0.25em; line-height: 1; border-radius: 0.35em;\">\n",
       "    MIT\n",
       "    <span style=\"font-size: 0.8em; font-weight: bold; line-height: 1; border-radius: 0.35em; vertical-align: middle; margin-left: 0.5rem\">ORG</span>\n",
       "</mark>\n",
       ", where \n",
       "<mark class=\"entity\" style=\"background: #aa9cfc; padding: 0.45em 0.6em; margin: 0 0.25em; line-height: 1; border-radius: 0.35em;\">\n",
       "    Cynthia Breazeal\n",
       "    <span style=\"font-size: 0.8em; font-weight: bold; line-height: 1; border-radius: 0.35em; vertical-align: middle; margin-left: 0.5rem\">PERSON</span>\n",
       "</mark>\n",
       " founded and is the current director of \n",
       "<mark class=\"entity\" style=\"background: #7aecec; padding: 0.45em 0.6em; margin: 0 0.25em; line-height: 1; border-radius: 0.35em;\">\n",
       "    the Personal Robotics\n",
       "    <span style=\"font-size: 0.8em; font-weight: bold; line-height: 1; border-radius: 0.35em; vertical-align: middle; margin-left: 0.5rem\">ORG</span>\n",
       "</mark>\n",
       " group within \n",
       "<mark class=\"entity\" style=\"background: #7aecec; padding: 0.45em 0.6em; margin: 0 0.25em; line-height: 1; border-radius: 0.35em;\">\n",
       "    the Media Lab\n",
       "    <span style=\"font-size: 0.8em; font-weight: bold; line-height: 1; border-radius: 0.35em; vertical-align: middle; margin-left: 0.5rem\">ORG</span>\n",
       "</mark>\n",
       ". \n",
       "<mark class=\"entity\" style=\"background: #aa9cfc; padding: 0.45em 0.6em; margin: 0 0.25em; line-height: 1; border-radius: 0.35em;\">\n",
       "    Cynthia Breazeal\n",
       "    <span style=\"font-size: 0.8em; font-weight: bold; line-height: 1; border-radius: 0.35em; vertical-align: middle; margin-left: 0.5rem\">PERSON</span>\n",
       "</mark>\n",
       " has written several books in the field of robotics and has published several peer-reviewed articles on the topic. \n",
       "<mark class=\"entity\" style=\"background: #aa9cfc; padding: 0.45em 0.6em; margin: 0 0.25em; line-height: 1; border-radius: 0.35em;\">\n",
       "    Cynthia Breazeal\n",
       "    <span style=\"font-size: 0.8em; font-weight: bold; line-height: 1; border-radius: 0.35em; vertical-align: middle; margin-left: 0.5rem\">PERSON</span>\n",
       "</mark>\n",
       " also serves on multiple editorial boards for autonomous and various other robotic committees. Growing up and while studying in university, \n",
       "<mark class=\"entity\" style=\"background: #aa9cfc; padding: 0.45em 0.6em; margin: 0 0.25em; line-height: 1; border-radius: 0.35em;\">\n",
       "    Cynthia Breazeal\n",
       "    <span style=\"font-size: 0.8em; font-weight: bold; line-height: 1; border-radius: 0.35em; vertical-align: middle; margin-left: 0.5rem\">PERSON</span>\n",
       "</mark>\n",
       " found that the issue was that robots too often only interacted with objects and not people. In addition to this, \n",
       "<mark class=\"entity\" style=\"background: #7aecec; padding: 0.45em 0.6em; margin: 0 0.25em; line-height: 1; border-radius: 0.35em;\">\n",
       "    Breazeal\n",
       "    <span style=\"font-size: 0.8em; font-weight: bold; line-height: 1; border-radius: 0.35em; vertical-align: middle; margin-left: 0.5rem\">ORG</span>\n",
       "</mark>\n",
       " found that if we give robots the ability to perform non-verbal cues, such as those that humans inherently do \n",
       "<mark class=\"entity\" style=\"background: #bfe1d9; padding: 0.45em 0.6em; margin: 0 0.25em; line-height: 1; border-radius: 0.35em;\">\n",
       "    every day\n",
       "    <span style=\"font-size: 0.8em; font-weight: bold; line-height: 1; border-radius: 0.35em; vertical-align: middle; margin-left: 0.5rem\">DATE</span>\n",
       "</mark>\n",
       ", then humans will treat and see robots more like companions and like humans. \n",
       "<mark class=\"entity\" style=\"background: #aa9cfc; padding: 0.45em 0.6em; margin: 0 0.25em; line-height: 1; border-radius: 0.35em;\">\n",
       "    Cynthia Breazeal\n",
       "    <span style=\"font-size: 0.8em; font-weight: bold; line-height: 1; border-radius: 0.35em; vertical-align: middle; margin-left: 0.5rem\">PERSON</span>\n",
       "</mark>\n",
       " also explores the idea of using robots to build better connections between humans, such as humans who live a long distance away from each other.</br>\n",
       "<mark class=\"entity\" style=\"background: #7aecec; padding: 0.45em 0.6em; margin: 0 0.25em; line-height: 1; border-radius: 0.35em;\">\n",
       "    Breazeal\n",
       "    <span style=\"font-size: 0.8em; font-weight: bold; line-height: 1; border-radius: 0.35em; vertical-align: middle; margin-left: 0.5rem\">ORG</span>\n",
       "</mark>\n",
       " is also the associate director for the Bridge: \n",
       "<mark class=\"entity\" style=\"background: #7aecec; padding: 0.45em 0.6em; margin: 0 0.25em; line-height: 1; border-radius: 0.35em;\">\n",
       "    MIT Quest\n",
       "    <span style=\"font-size: 0.8em; font-weight: bold; line-height: 1; border-radius: 0.35em; vertical-align: middle; margin-left: 0.5rem\">ORG</span>\n",
       "</mark>\n",
       " for \n",
       "<mark class=\"entity\" style=\"background: #7aecec; padding: 0.45em 0.6em; margin: 0 0.25em; line-height: 1; border-radius: 0.35em;\">\n",
       "    Intelligence\n",
       "    <span style=\"font-size: 0.8em; font-weight: bold; line-height: 1; border-radius: 0.35em; vertical-align: middle; margin-left: 0.5rem\">ORG</span>\n",
       "</mark>\n",
       ", where \n",
       "<mark class=\"entity\" style=\"background: #aa9cfc; padding: 0.45em 0.6em; margin: 0 0.25em; line-height: 1; border-radius: 0.35em;\">\n",
       "    Cynthia Breazeal\n",
       "    <span style=\"font-size: 0.8em; font-weight: bold; line-height: 1; border-radius: 0.35em; vertical-align: middle; margin-left: 0.5rem\">PERSON</span>\n",
       "</mark>\n",
       " works on implementing \n",
       "<mark class=\"entity\" style=\"background: #7aecec; padding: 0.45em 0.6em; margin: 0 0.25em; line-height: 1; border-radius: 0.35em;\">\n",
       "    AI\n",
       "    <span style=\"font-size: 0.8em; font-weight: bold; line-height: 1; border-radius: 0.35em; vertical-align: middle; margin-left: 0.5rem\">ORG</span>\n",
       "</mark>\n",
       " through grade school.</br>\n",
       "<mark class=\"entity\" style=\"background: #7aecec; padding: 0.45em 0.6em; margin: 0 0.25em; line-height: 1; border-radius: 0.35em;\">\n",
       "    Breazeal\n",
       "    <span style=\"font-size: 0.8em; font-weight: bold; line-height: 1; border-radius: 0.35em; vertical-align: middle; margin-left: 0.5rem\">ORG</span>\n",
       "</mark>\n",
       " has centered her work around the concept of &quot;living with \n",
       "<mark class=\"entity\" style=\"background: #7aecec; padding: 0.45em 0.6em; margin: 0 0.25em; line-height: 1; border-radius: 0.35em;\">\n",
       "    AI\n",
       "    <span style=\"font-size: 0.8em; font-weight: bold; line-height: 1; border-radius: 0.35em; vertical-align: middle; margin-left: 0.5rem\">ORG</span>\n",
       "</mark>\n",
       "&quot; which studies the impact of incorporating social robots into our everyday lives. The purpose of adding sentiment to \n",
       "<mark class=\"entity\" style=\"background: #7aecec; padding: 0.45em 0.6em; margin: 0 0.25em; line-height: 1; border-radius: 0.35em;\">\n",
       "    AI\n",
       "    <span style=\"font-size: 0.8em; font-weight: bold; line-height: 1; border-radius: 0.35em; vertical-align: middle; margin-left: 0.5rem\">ORG</span>\n",
       "</mark>\n",
       " is offering support to people, and creating companionship and support in places where there may be none.</br>\n",
       "<mark class=\"entity\" style=\"background: #aa9cfc; padding: 0.45em 0.6em; margin: 0 0.25em; line-height: 1; border-radius: 0.35em;\">\n",
       "    Cynthia Breazeal\n",
       "    <span style=\"font-size: 0.8em; font-weight: bold; line-height: 1; border-radius: 0.35em; vertical-align: middle; margin-left: 0.5rem\">PERSON</span>\n",
       "</mark>\n",
       " was named as dean for digital learning at \n",
       "<mark class=\"entity\" style=\"background: #7aecec; padding: 0.45em 0.6em; margin: 0 0.25em; line-height: 1; border-radius: 0.35em;\">\n",
       "    Massachusetts Institute of Technology\n",
       "    <span style=\"font-size: 0.8em; font-weight: bold; line-height: 1; border-radius: 0.35em; vertical-align: middle; margin-left: 0.5rem\">ORG</span>\n",
       "</mark>\n",
       " (\n",
       "<mark class=\"entity\" style=\"background: #7aecec; padding: 0.45em 0.6em; margin: 0 0.25em; line-height: 1; border-radius: 0.35em;\">\n",
       "    MIT\n",
       "    <span style=\"font-size: 0.8em; font-weight: bold; line-height: 1; border-radius: 0.35em; vertical-align: middle; margin-left: 0.5rem\">ORG</span>\n",
       "</mark>\n",
       ") in \n",
       "<mark class=\"entity\" style=\"background: #bfe1d9; padding: 0.45em 0.6em; margin: 0 0.25em; line-height: 1; border-radius: 0.35em;\">\n",
       "    January 2022\n",
       "    <span style=\"font-size: 0.8em; font-weight: bold; line-height: 1; border-radius: 0.35em; vertical-align: middle; margin-left: 0.5rem\">DATE</span>\n",
       "</mark>\n",
       ". \n",
       "<mark class=\"entity\" style=\"background: #aa9cfc; padding: 0.45em 0.6em; margin: 0 0.25em; line-height: 1; border-radius: 0.35em;\">\n",
       "    Cynthia Breazeal\n",
       "    <span style=\"font-size: 0.8em; font-weight: bold; line-height: 1; border-radius: 0.35em; vertical-align: middle; margin-left: 0.5rem\">PERSON</span>\n",
       "</mark>\n",
       " will lead in aiding to grow \n",
       "<mark class=\"entity\" style=\"background: #7aecec; padding: 0.45em 0.6em; margin: 0 0.25em; line-height: 1; border-radius: 0.35em;\">\n",
       "    MIT\n",
       "    <span style=\"font-size: 0.8em; font-weight: bold; line-height: 1; border-radius: 0.35em; vertical-align: middle; margin-left: 0.5rem\">ORG</span>\n",
       "</mark>\n",
       "'s online portfolio, libraries, bootcamps, and identifying the areas for innovation, while researching opening learning and how different methods and technologies can improve digital learning as \n",
       "<mark class=\"entity\" style=\"background: #aa9cfc; padding: 0.45em 0.6em; margin: 0 0.25em; line-height: 1; border-radius: 0.35em;\">\n",
       "    Cynthia Breazeal\n",
       "    <span style=\"font-size: 0.8em; font-weight: bold; line-height: 1; border-radius: 0.35em; vertical-align: middle; margin-left: 0.5rem\">PERSON</span>\n",
       "</mark>\n",
       " is the dean. </br></br></div></span>"
      ],
      "text/plain": [
       "<IPython.core.display.HTML object>"
      ]
     },
     "metadata": {},
     "output_type": "display_data"
    }
   ],
   "source": [
    "displacy.render(doc,style=\"ent\",jupyter=True)"
   ]
  },
  {
   "cell_type": "code",
   "execution_count": 4,
   "id": "eeb471eb",
   "metadata": {
    "scrolled": true
   },
   "outputs": [
    {
     "data": {
      "text/html": [
       "<span class=\"tex2jax_ignore\"><div class=\"entities\" style=\"line-height: 2.5; direction: ltr\">\n",
       "<mark class=\"entity\" style=\"background: #7aecec; padding: 0.45em 0.6em; margin: 0 0.25em; line-height: 1; border-radius: 0.35em;\">\n",
       "    Leonardo\n",
       "    <span style=\"font-size: 0.8em; font-weight: bold; line-height: 1; border-radius: 0.35em; vertical-align: middle; margin-left: 0.5rem\">ORG</span>\n",
       "</mark>\n",
       " was one of \n",
       "<mark class=\"entity\" style=\"background: #aa9cfc; padding: 0.45em 0.6em; margin: 0 0.25em; line-height: 1; border-radius: 0.35em;\">\n",
       "    Cynthia Breazeal's\n",
       "    <span style=\"font-size: 0.8em; font-weight: bold; line-height: 1; border-radius: 0.35em; vertical-align: middle; margin-left: 0.5rem\">PERSON</span>\n",
       "</mark>\n",
       " earliest robots. \n",
       "<mark class=\"entity\" style=\"background: #aa9cfc; padding: 0.45em 0.6em; margin: 0 0.25em; line-height: 1; border-radius: 0.35em;\">\n",
       "    Leonardo\n",
       "    <span style=\"font-size: 0.8em; font-weight: bold; line-height: 1; border-radius: 0.35em; vertical-align: middle; margin-left: 0.5rem\">PERSON</span>\n",
       "</mark>\n",
       " was co-developed with \n",
       "<mark class=\"entity\" style=\"background: #aa9cfc; padding: 0.45em 0.6em; margin: 0 0.25em; line-height: 1; border-radius: 0.35em;\">\n",
       "    Stan Winston Studio\n",
       "    <span style=\"font-size: 0.8em; font-weight: bold; line-height: 1; border-radius: 0.35em; vertical-align: middle; margin-left: 0.5rem\">PERSON</span>\n",
       "</mark>\n",
       ". \n",
       "<mark class=\"entity\" style=\"background: #aa9cfc; padding: 0.45em 0.6em; margin: 0 0.25em; line-height: 1; border-radius: 0.35em;\">\n",
       "    Leonardo\n",
       "    <span style=\"font-size: 0.8em; font-weight: bold; line-height: 1; border-radius: 0.35em; vertical-align: middle; margin-left: 0.5rem\">PERSON</span>\n",
       "</mark>\n",
       " was and a successor to \n",
       "<mark class=\"entity\" style=\"background: #aa9cfc; padding: 0.45em 0.6em; margin: 0 0.25em; line-height: 1; border-radius: 0.35em;\">\n",
       "    Kismet\n",
       "    <span style=\"font-size: 0.8em; font-weight: bold; line-height: 1; border-radius: 0.35em; vertical-align: middle; margin-left: 0.5rem\">PERSON</span>\n",
       "</mark>\n",
       " (recognized in \n",
       "<mark class=\"entity\" style=\"background: #bfe1d9; padding: 0.45em 0.6em; margin: 0 0.25em; line-height: 1; border-radius: 0.35em;\">\n",
       "    2006\n",
       "    <span style=\"font-size: 0.8em; font-weight: bold; line-height: 1; border-radius: 0.35em; vertical-align: middle; margin-left: 0.5rem\">DATE</span>\n",
       "</mark>\n",
       " by \n",
       "<mark class=\"entity\" style=\"background: #7aecec; padding: 0.45em 0.6em; margin: 0 0.25em; line-height: 1; border-radius: 0.35em;\">\n",
       "    Wired\n",
       "    <span style=\"font-size: 0.8em; font-weight: bold; line-height: 1; border-radius: 0.35em; vertical-align: middle; margin-left: 0.5rem\">ORG</span>\n",
       "</mark>\n",
       " magazine as \n",
       "<mark class=\"entity\" style=\"background: #e4e7d2; padding: 0.45em 0.6em; margin: 0 0.25em; line-height: 1; border-radius: 0.35em;\">\n",
       "    one\n",
       "    <span style=\"font-size: 0.8em; font-weight: bold; line-height: 1; border-radius: 0.35em; vertical-align: middle; margin-left: 0.5rem\">CARDINAL</span>\n",
       "</mark>\n",
       " of the &quot;\n",
       "<mark class=\"entity\" style=\"background: #f0d0ff; padding: 0.45em 0.6em; margin: 0 0.25em; line-height: 1; border-radius: 0.35em;\">\n",
       "    50 Best Robots Ever\n",
       "    <span style=\"font-size: 0.8em; font-weight: bold; line-height: 1; border-radius: 0.35em; vertical-align: middle; margin-left: 0.5rem\">WORK_OF_ART</span>\n",
       "</mark>\n",
       "&quot;). \n",
       "<mark class=\"entity\" style=\"background: #aa9cfc; padding: 0.45em 0.6em; margin: 0 0.25em; line-height: 1; border-radius: 0.35em;\">\n",
       "    Leonardo\n",
       "    <span style=\"font-size: 0.8em; font-weight: bold; line-height: 1; border-radius: 0.35em; vertical-align: middle; margin-left: 0.5rem\">PERSON</span>\n",
       "</mark>\n",
       " was also used to investigate social cognition and theory of mind abilities on robots with application to human-robot collaboration, in addition to developing social learning abilities for robots such as imitation, tutelage, and social referencing. MDS robot created by \n",
       "<mark class=\"entity\" style=\"background: #aa9cfc; padding: 0.45em 0.6em; margin: 0 0.25em; line-height: 1; border-radius: 0.35em;\">\n",
       "    Cynthia Breazeal's\n",
       "    <span style=\"font-size: 0.8em; font-weight: bold; line-height: 1; border-radius: 0.35em; vertical-align: middle; margin-left: 0.5rem\">PERSON</span>\n",
       "</mark>\n",
       " is mobile, dexterous and social.  MDS robot combines rich social communication abilities with mobile dexterity to investigate more complex forms of human-robot teaming. MDS robot was named by \n",
       "<mark class=\"entity\" style=\"background: #7aecec; padding: 0.45em 0.6em; margin: 0 0.25em; line-height: 1; border-radius: 0.35em;\">\n",
       "    Time\n",
       "    <span style=\"font-size: 0.8em; font-weight: bold; line-height: 1; border-radius: 0.35em; vertical-align: middle; margin-left: 0.5rem\">ORG</span>\n",
       "</mark>\n",
       " magazine as \n",
       "<mark class=\"entity\" style=\"background: #e4e7d2; padding: 0.45em 0.6em; margin: 0 0.25em; line-height: 1; border-radius: 0.35em;\">\n",
       "    one\n",
       "    <span style=\"font-size: 0.8em; font-weight: bold; line-height: 1; border-radius: 0.35em; vertical-align: middle; margin-left: 0.5rem\">CARDINAL</span>\n",
       "</mark>\n",
       " of the \n",
       "<mark class=\"entity\" style=\"background: #e4e7d2; padding: 0.45em 0.6em; margin: 0 0.25em; line-height: 1; border-radius: 0.35em;\">\n",
       "    50\n",
       "    <span style=\"font-size: 0.8em; font-weight: bold; line-height: 1; border-radius: 0.35em; vertical-align: middle; margin-left: 0.5rem\">CARDINAL</span>\n",
       "</mark>\n",
       " Best Inventions of \n",
       "<mark class=\"entity\" style=\"background: #bfe1d9; padding: 0.45em 0.6em; margin: 0 0.25em; line-height: 1; border-radius: 0.35em;\">\n",
       "    2008\n",
       "    <span style=\"font-size: 0.8em; font-weight: bold; line-height: 1; border-radius: 0.35em; vertical-align: middle; margin-left: 0.5rem\">DATE</span>\n",
       "</mark>\n",
       ".</br>\n",
       "<mark class=\"entity\" style=\"background: #aa9cfc; padding: 0.45em 0.6em; margin: 0 0.25em; line-height: 1; border-radius: 0.35em;\">\n",
       "    Cynthia Breazeal's\n",
       "    <span style=\"font-size: 0.8em; font-weight: bold; line-height: 1; border-radius: 0.35em; vertical-align: middle; margin-left: 0.5rem\">PERSON</span>\n",
       "</mark>\n",
       " \n",
       "<mark class=\"entity\" style=\"background: #7aecec; padding: 0.45em 0.6em; margin: 0 0.25em; line-height: 1; border-radius: 0.35em;\">\n",
       "    Personal Robots\n",
       "    <span style=\"font-size: 0.8em; font-weight: bold; line-height: 1; border-radius: 0.35em; vertical-align: middle; margin-left: 0.5rem\">ORG</span>\n",
       "</mark>\n",
       " group has also done a number of design projects and publications regarding social robots, covering topics such as education, psychology, personalization, and telepresence. Social robots developed in \n",
       "<mark class=\"entity\" style=\"background: #aa9cfc; padding: 0.45em 0.6em; margin: 0 0.25em; line-height: 1; border-radius: 0.35em;\">\n",
       "    Cynthia Breazeal's\n",
       "    <span style=\"font-size: 0.8em; font-weight: bold; line-height: 1; border-radius: 0.35em; vertical-align: middle; margin-left: 0.5rem\">PERSON</span>\n",
       "</mark>\n",
       " \n",
       "<mark class=\"entity\" style=\"background: #7aecec; padding: 0.45em 0.6em; margin: 0 0.25em; line-height: 1; border-radius: 0.35em;\">\n",
       "    Personal Robots\n",
       "    <span style=\"font-size: 0.8em; font-weight: bold; line-height: 1; border-radius: 0.35em; vertical-align: middle; margin-left: 0.5rem\">ORG</span>\n",
       "</mark>\n",
       " group include \n",
       "<mark class=\"entity\" style=\"background: #feca74; padding: 0.45em 0.6em; margin: 0 0.25em; line-height: 1; border-radius: 0.35em;\">\n",
       "    Autom\n",
       "    <span style=\"font-size: 0.8em; font-weight: bold; line-height: 1; border-radius: 0.35em; vertical-align: middle; margin-left: 0.5rem\">GPE</span>\n",
       "</mark>\n",
       ",  a robot diet and exercise coach (the \n",
       "<mark class=\"entity\" style=\"background: #f0d0ff; padding: 0.45em 0.6em; margin: 0 0.25em; line-height: 1; border-radius: 0.35em;\">\n",
       "    PhD\n",
       "    <span style=\"font-size: 0.8em; font-weight: bold; line-height: 1; border-radius: 0.35em; vertical-align: middle; margin-left: 0.5rem\">WORK_OF_ART</span>\n",
       "</mark>\n",
       " thesis of \n",
       "<mark class=\"entity\" style=\"background: #aa9cfc; padding: 0.45em 0.6em; margin: 0 0.25em; line-height: 1; border-radius: 0.35em;\">\n",
       "    Cory Kidd\n",
       "    <span style=\"font-size: 0.8em; font-weight: bold; line-height: 1; border-radius: 0.35em; vertical-align: middle; margin-left: 0.5rem\">PERSON</span>\n",
       "</mark>\n",
       "). Autom was found to be more effective than a computer counterpart in sustaining engagement and building trust and a working alliance with users. Autom was the predecessor of \n",
       "<mark class=\"entity\" style=\"background: #aa9cfc; padding: 0.45em 0.6em; margin: 0 0.25em; line-height: 1; border-radius: 0.35em;\">\n",
       "    Mabu\n",
       "    <span style=\"font-size: 0.8em; font-weight: bold; line-height: 1; border-radius: 0.35em; vertical-align: middle; margin-left: 0.5rem\">PERSON</span>\n",
       "</mark>\n",
       " (Catalia Health). \n",
       "<mark class=\"entity\" style=\"background: #aa9cfc; padding: 0.45em 0.6em; margin: 0 0.25em; line-height: 1; border-radius: 0.35em;\">\n",
       "    Cynthia Breazeal's\n",
       "    <span style=\"font-size: 0.8em; font-weight: bold; line-height: 1; border-radius: 0.35em; vertical-align: middle; margin-left: 0.5rem\">PERSON</span>\n",
       "</mark>\n",
       " group has also explored expressive remote presence robots such as \n",
       "<mark class=\"entity\" style=\"background: #bfeeb7; padding: 0.45em 0.6em; margin: 0 0.25em; line-height: 1; border-radius: 0.35em;\">\n",
       "    MeBot\n",
       "    <span style=\"font-size: 0.8em; font-weight: bold; line-height: 1; border-radius: 0.35em; vertical-align: middle; margin-left: 0.5rem\">PRODUCT</span>\n",
       "</mark>\n",
       ". The physical social embodiment of the \n",
       "<mark class=\"entity\" style=\"background: #bfeeb7; padding: 0.45em 0.6em; margin: 0 0.25em; line-height: 1; border-radius: 0.35em;\">\n",
       "    MeBot\n",
       "    <span style=\"font-size: 0.8em; font-weight: bold; line-height: 1; border-radius: 0.35em; vertical-align: middle; margin-left: 0.5rem\">PRODUCT</span>\n",
       "</mark>\n",
       " was found to elicit greater psychological involvement, engagement, and desire to cooperate over purely screen-based video conferencing or a mobile screen. Huggable, was designed by \n",
       "<mark class=\"entity\" style=\"background: #aa9cfc; padding: 0.45em 0.6em; margin: 0 0.25em; line-height: 1; border-radius: 0.35em;\">\n",
       "    Cynthia Breazeal's\n",
       "    <span style=\"font-size: 0.8em; font-weight: bold; line-height: 1; border-radius: 0.35em; vertical-align: middle; margin-left: 0.5rem\">PERSON</span>\n",
       "</mark>\n",
       " group as a pediatric companion to help support the emotional needs of hospitalized children and to help support and augment child life specialists.</br>\n",
       "<mark class=\"entity\" style=\"background: #aa9cfc; padding: 0.45em 0.6em; margin: 0 0.25em; line-height: 1; border-radius: 0.35em;\">\n",
       "    Cynthia Breazeal\n",
       "    <span style=\"font-size: 0.8em; font-weight: bold; line-height: 1; border-radius: 0.35em; vertical-align: middle; margin-left: 0.5rem\">PERSON</span>\n",
       "</mark>\n",
       " has also been part of creating a robotic flower garden installation, \n",
       "<mark class=\"entity\" style=\"background: #7aecec; padding: 0.45em 0.6em; margin: 0 0.25em; line-height: 1; border-radius: 0.35em;\">\n",
       "    Cyberflora\n",
       "    <span style=\"font-size: 0.8em; font-weight: bold; line-height: 1; border-radius: 0.35em; vertical-align: middle; margin-left: 0.5rem\">ORG</span>\n",
       "</mark>\n",
       " which was exhibited at the \n",
       "<mark class=\"entity\" style=\"background: #bfe1d9; padding: 0.45em 0.6em; margin: 0 0.25em; line-height: 1; border-radius: 0.35em;\">\n",
       "    2003\n",
       "    <span style=\"font-size: 0.8em; font-weight: bold; line-height: 1; border-radius: 0.35em; vertical-align: middle; margin-left: 0.5rem\">DATE</span>\n",
       "</mark>\n",
       " \n",
       "<mark class=\"entity\" style=\"background: #ffeb80; padding: 0.45em 0.6em; margin: 0 0.25em; line-height: 1; border-radius: 0.35em;\">\n",
       "    National Design Triennial\n",
       "    <span style=\"font-size: 0.8em; font-weight: bold; line-height: 1; border-radius: 0.35em; vertical-align: middle; margin-left: 0.5rem\">EVENT</span>\n",
       "</mark>\n",
       " at \n",
       "<mark class=\"entity\" style=\"background: #9cc9cc; padding: 0.45em 0.6em; margin: 0 0.25em; line-height: 1; border-radius: 0.35em;\">\n",
       "    the Smithsonian Cooper-Hewitt National Design Museum\n",
       "    <span style=\"font-size: 0.8em; font-weight: bold; line-height: 1; border-radius: 0.35em; vertical-align: middle; margin-left: 0.5rem\">FAC</span>\n",
       "</mark>\n",
       ". </br>\n",
       "<mark class=\"entity\" style=\"background: #aa9cfc; padding: 0.45em 0.6em; margin: 0 0.25em; line-height: 1; border-radius: 0.35em;\">\n",
       "    Cynthia Breazeal\n",
       "    <span style=\"font-size: 0.8em; font-weight: bold; line-height: 1; border-radius: 0.35em; vertical-align: middle; margin-left: 0.5rem\">PERSON</span>\n",
       "</mark>\n",
       " served as a consultant on the \n",
       "<mark class=\"entity\" style=\"background: #bfe1d9; padding: 0.45em 0.6em; margin: 0 0.25em; line-height: 1; border-radius: 0.35em;\">\n",
       "    2001\n",
       "    <span style=\"font-size: 0.8em; font-weight: bold; line-height: 1; border-radius: 0.35em; vertical-align: middle; margin-left: 0.5rem\">DATE</span>\n",
       "</mark>\n",
       " \n",
       "<mark class=\"entity\" style=\"background: #7aecec; padding: 0.45em 0.6em; margin: 0 0.25em; line-height: 1; border-radius: 0.35em;\">\n",
       "    Spielberg-Kubric\n",
       "    <span style=\"font-size: 0.8em; font-weight: bold; line-height: 1; border-radius: 0.35em; vertical-align: middle; margin-left: 0.5rem\">ORG</span>\n",
       "</mark>\n",
       " movie \n",
       "<mark class=\"entity\" style=\"background: #7aecec; padding: 0.45em 0.6em; margin: 0 0.25em; line-height: 1; border-radius: 0.35em;\">\n",
       "    A.I. Artificial Intelligence\n",
       "    <span style=\"font-size: 0.8em; font-weight: bold; line-height: 1; border-radius: 0.35em; vertical-align: middle; margin-left: 0.5rem\">ORG</span>\n",
       "</mark>\n",
       ". \n",
       "<mark class=\"entity\" style=\"background: #aa9cfc; padding: 0.45em 0.6em; margin: 0 0.25em; line-height: 1; border-radius: 0.35em;\">\n",
       "    Cynthia Breazeal\n",
       "    <span style=\"font-size: 0.8em; font-weight: bold; line-height: 1; border-radius: 0.35em; vertical-align: middle; margin-left: 0.5rem\">PERSON</span>\n",
       "</mark>\n",
       " plays a prominent role as a virtual participant in a popular exhibit on robots with the traveling exhibit, Star Wars: Where Science Meets Imagination. \n",
       "<mark class=\"entity\" style=\"background: #aa9cfc; padding: 0.45em 0.6em; margin: 0 0.25em; line-height: 1; border-radius: 0.35em;\">\n",
       "    Cynthia Breazeal\n",
       "    <span style=\"font-size: 0.8em; font-weight: bold; line-height: 1; border-radius: 0.35em; vertical-align: middle; margin-left: 0.5rem\">PERSON</span>\n",
       "</mark>\n",
       " spoke to the audience through a pre-recorded message displayed on a large plasma flat-screen display as C-3PO (voiced by \n",
       "<mark class=\"entity\" style=\"background: #aa9cfc; padding: 0.45em 0.6em; margin: 0 0.25em; line-height: 1; border-radius: 0.35em;\">\n",
       "    Anthony Daniels\n",
       "    <span style=\"font-size: 0.8em; font-weight: bold; line-height: 1; border-radius: 0.35em; vertical-align: middle; margin-left: 0.5rem\">PERSON</span>\n",
       "</mark>\n",
       ").</br>In \n",
       "<mark class=\"entity\" style=\"background: #bfe1d9; padding: 0.45em 0.6em; margin: 0 0.25em; line-height: 1; border-radius: 0.35em;\">\n",
       "    2003\n",
       "    <span style=\"font-size: 0.8em; font-weight: bold; line-height: 1; border-radius: 0.35em; vertical-align: middle; margin-left: 0.5rem\">DATE</span>\n",
       "</mark>\n",
       ", \n",
       "<mark class=\"entity\" style=\"background: #aa9cfc; padding: 0.45em 0.6em; margin: 0 0.25em; line-height: 1; border-radius: 0.35em;\">\n",
       "    Cynthia Breazeal\n",
       "    <span style=\"font-size: 0.8em; font-weight: bold; line-height: 1; border-radius: 0.35em; vertical-align: middle; margin-left: 0.5rem\">PERSON</span>\n",
       "</mark>\n",
       " was named by \n",
       "<mark class=\"entity\" style=\"background: #7aecec; padding: 0.45em 0.6em; margin: 0 0.25em; line-height: 1; border-radius: 0.35em;\">\n",
       "    the MIT Technology Review TR100\n",
       "    <span style=\"font-size: 0.8em; font-weight: bold; line-height: 1; border-radius: 0.35em; vertical-align: middle; margin-left: 0.5rem\">ORG</span>\n",
       "</mark>\n",
       " as one of the top \n",
       "<mark class=\"entity\" style=\"background: #e4e7d2; padding: 0.45em 0.6em; margin: 0 0.25em; line-height: 1; border-radius: 0.35em;\">\n",
       "    100\n",
       "    <span style=\"font-size: 0.8em; font-weight: bold; line-height: 1; border-radius: 0.35em; vertical-align: middle; margin-left: 0.5rem\">CARDINAL</span>\n",
       "</mark>\n",
       " innovators in the world under the age of \n",
       "<mark class=\"entity\" style=\"background: #e4e7d2; padding: 0.45em 0.6em; margin: 0 0.25em; line-height: 1; border-radius: 0.35em;\">\n",
       "    thirty-five\n",
       "    <span style=\"font-size: 0.8em; font-weight: bold; line-height: 1; border-radius: 0.35em; vertical-align: middle; margin-left: 0.5rem\">CARDINAL</span>\n",
       "</mark>\n",
       ". </br>In \n",
       "<mark class=\"entity\" style=\"background: #bfe1d9; padding: 0.45em 0.6em; margin: 0 0.25em; line-height: 1; border-radius: 0.35em;\">\n",
       "    2020\n",
       "    <span style=\"font-size: 0.8em; font-weight: bold; line-height: 1; border-radius: 0.35em; vertical-align: middle; margin-left: 0.5rem\">DATE</span>\n",
       "</mark>\n",
       ", \n",
       "<mark class=\"entity\" style=\"background: #aa9cfc; padding: 0.45em 0.6em; margin: 0 0.25em; line-height: 1; border-radius: 0.35em;\">\n",
       "    Cynthia Breazeal\n",
       "    <span style=\"font-size: 0.8em; font-weight: bold; line-height: 1; border-radius: 0.35em; vertical-align: middle; margin-left: 0.5rem\">PERSON</span>\n",
       "</mark>\n",
       " was elected a \n",
       "<mark class=\"entity\" style=\"background: #7aecec; padding: 0.45em 0.6em; margin: 0 0.25em; line-height: 1; border-radius: 0.35em;\">\n",
       "    AAAI Fellow\n",
       "    <span style=\"font-size: 0.8em; font-weight: bold; line-height: 1; border-radius: 0.35em; vertical-align: middle; margin-left: 0.5rem\">ORG</span>\n",
       "</mark>\n",
       " by \n",
       "<mark class=\"entity\" style=\"background: #7aecec; padding: 0.45em 0.6em; margin: 0 0.25em; line-height: 1; border-radius: 0.35em;\">\n",
       "    the Association for the Advancement of Artificial Intelligence\n",
       "    <span style=\"font-size: 0.8em; font-weight: bold; line-height: 1; border-radius: 0.35em; vertical-align: middle; margin-left: 0.5rem\">ORG</span>\n",
       "</mark>\n",
       ". </br>In \n",
       "<mark class=\"entity\" style=\"background: #bfe1d9; padding: 0.45em 0.6em; margin: 0 0.25em; line-height: 1; border-radius: 0.35em;\">\n",
       "    March 2020\n",
       "    <span style=\"font-size: 0.8em; font-weight: bold; line-height: 1; border-radius: 0.35em; vertical-align: middle; margin-left: 0.5rem\">DATE</span>\n",
       "</mark>\n",
       ", during the SARS-CoV2 pandemic, \n",
       "<mark class=\"entity\" style=\"background: #aa9cfc; padding: 0.45em 0.6em; margin: 0 0.25em; line-height: 1; border-radius: 0.35em;\">\n",
       "    Cynthia\n",
       "    <span style=\"font-size: 0.8em; font-weight: bold; line-height: 1; border-radius: 0.35em; vertical-align: middle; margin-left: 0.5rem\">PERSON</span>\n",
       "</mark>\n",
       " Breazealâ€™s team launched a site with over \n",
       "<mark class=\"entity\" style=\"background: #e4e7d2; padding: 0.45em 0.6em; margin: 0 0.25em; line-height: 1; border-radius: 0.35em;\">\n",
       "    60\n",
       "    <span style=\"font-size: 0.8em; font-weight: bold; line-height: 1; border-radius: 0.35em; vertical-align: middle; margin-left: 0.5rem\">CARDINAL</span>\n",
       "</mark>\n",
       " activities, so students can get access to \n",
       "<mark class=\"entity\" style=\"background: #aa9cfc; padding: 0.45em 0.6em; margin: 0 0.25em; line-height: 1; border-radius: 0.35em;\">\n",
       "    STEM\n",
       "    <span style=\"font-size: 0.8em; font-weight: bold; line-height: 1; border-radius: 0.35em; vertical-align: middle; margin-left: 0.5rem\">PERSON</span>\n",
       "</mark>\n",
       " activities from the lockdown to help teachers and parents continue education from home. </br></br>\n",
       "<mark class=\"entity\" style=\"background: #7aecec; padding: 0.45em 0.6em; margin: 0 0.25em; line-height: 1; border-radius: 0.35em;\">\n",
       "    Breazeal\n",
       "    <span style=\"font-size: 0.8em; font-weight: bold; line-height: 1; border-radius: 0.35em; vertical-align: middle; margin-left: 0.5rem\">ORG</span>\n",
       "</mark>\n",
       " launched an \n",
       "<mark class=\"entity\" style=\"background: #aa9cfc; padding: 0.45em 0.6em; margin: 0 0.25em; line-height: 1; border-radius: 0.35em;\">\n",
       "    Indiegogo\n",
       "    <span style=\"font-size: 0.8em; font-weight: bold; line-height: 1; border-radius: 0.35em; vertical-align: middle; margin-left: 0.5rem\">PERSON</span>\n",
       "</mark>\n",
       " campaign to crowdfund the development of \n",
       "<mark class=\"entity\" style=\"background: #aa9cfc; padding: 0.45em 0.6em; margin: 0 0.25em; line-height: 1; border-radius: 0.35em;\">\n",
       "    Jibo\n",
       "    <span style=\"font-size: 0.8em; font-weight: bold; line-height: 1; border-radius: 0.35em; vertical-align: middle; margin-left: 0.5rem\">PERSON</span>\n",
       "</mark>\n",
       ", a personal assistant robot widely marketed as the world's \n",
       "<mark class=\"entity\" style=\"background: #e4e7d2; padding: 0.45em 0.6em; margin: 0 0.25em; line-height: 1; border-radius: 0.35em;\">\n",
       "    first\n",
       "    <span style=\"font-size: 0.8em; font-weight: bold; line-height: 1; border-radius: 0.35em; vertical-align: middle; margin-left: 0.5rem\">ORDINAL</span>\n",
       "</mark>\n",
       " family robot On \n",
       "<mark class=\"entity\" style=\"background: #bfe1d9; padding: 0.45em 0.6em; margin: 0 0.25em; line-height: 1; border-radius: 0.35em;\">\n",
       "    July 16, 2014\n",
       "    <span style=\"font-size: 0.8em; font-weight: bold; line-height: 1; border-radius: 0.35em; vertical-align: middle; margin-left: 0.5rem\">DATE</span>\n",
       "</mark>\n",
       ". \n",
       "<mark class=\"entity\" style=\"background: #aa9cfc; padding: 0.45em 0.6em; margin: 0 0.25em; line-height: 1; border-radius: 0.35em;\">\n",
       "    Cynthia Breazeal\n",
       "    <span style=\"font-size: 0.8em; font-weight: bold; line-height: 1; border-radius: 0.35em; vertical-align: middle; margin-left: 0.5rem\">PERSON</span>\n",
       "</mark>\n",
       "  served as chief scientist and chief experience officer. \n",
       "<mark class=\"entity\" style=\"background: #aa9cfc; padding: 0.45em 0.6em; margin: 0 0.25em; line-height: 1; border-radius: 0.35em;\">\n",
       "    Jibo\n",
       "    <span style=\"font-size: 0.8em; font-weight: bold; line-height: 1; border-radius: 0.35em; vertical-align: middle; margin-left: 0.5rem\">PERSON</span>\n",
       "</mark>\n",
       " reached its initial fund-raising goal and was due to launch in \n",
       "<mark class=\"entity\" style=\"background: #bfe1d9; padding: 0.45em 0.6em; margin: 0 0.25em; line-height: 1; border-radius: 0.35em;\">\n",
       "    2015\n",
       "    <span style=\"font-size: 0.8em; font-weight: bold; line-height: 1; border-radius: 0.35em; vertical-align: middle; margin-left: 0.5rem\">DATE</span>\n",
       "</mark>\n",
       ", then later pushed to 2016,[23] before finally being released in \n",
       "<mark class=\"entity\" style=\"background: #bfe1d9; padding: 0.45em 0.6em; margin: 0 0.25em; line-height: 1; border-radius: 0.35em;\">\n",
       "    November 2017\n",
       "    <span style=\"font-size: 0.8em; font-weight: bold; line-height: 1; border-radius: 0.35em; vertical-align: middle; margin-left: 0.5rem\">DATE</span>\n",
       "</mark>\n",
       ". \n",
       "<mark class=\"entity\" style=\"background: #aa9cfc; padding: 0.45em 0.6em; margin: 0 0.25em; line-height: 1; border-radius: 0.35em;\">\n",
       "    Jibo\n",
       "    <span style=\"font-size: 0.8em; font-weight: bold; line-height: 1; border-radius: 0.35em; vertical-align: middle; margin-left: 0.5rem\">PERSON</span>\n",
       "</mark>\n",
       " was created to enable more engaging social experiences, including storytelling and other forms of entertainment.</br>\n",
       "<mark class=\"entity\" style=\"background: #aa9cfc; padding: 0.45em 0.6em; margin: 0 0.25em; line-height: 1; border-radius: 0.35em;\">\n",
       "    Jibo\n",
       "    <span style=\"font-size: 0.8em; font-weight: bold; line-height: 1; border-radius: 0.35em; vertical-align: middle; margin-left: 0.5rem\">PERSON</span>\n",
       "</mark>\n",
       " generally received poor reviews, being compared to the more powerful and much cheaper \n",
       "<mark class=\"entity\" style=\"background: #7aecec; padding: 0.45em 0.6em; margin: 0 0.25em; line-height: 1; border-radius: 0.35em;\">\n",
       "    Amazon Alexa\n",
       "    <span style=\"font-size: 0.8em; font-weight: bold; line-height: 1; border-radius: 0.35em; vertical-align: middle; margin-left: 0.5rem\">ORG</span>\n",
       "</mark>\n",
       " and \n",
       "<mark class=\"entity\" style=\"background: #7aecec; padding: 0.45em 0.6em; margin: 0 0.25em; line-height: 1; border-radius: 0.35em;\">\n",
       "    Google Home\n",
       "    <span style=\"font-size: 0.8em; font-weight: bold; line-height: 1; border-radius: 0.35em; vertical-align: middle; margin-left: 0.5rem\">ORG</span>\n",
       "</mark>\n",
       ". Jiboâ€™s software development kit expected for developers was never released.  \n",
       "<mark class=\"entity\" style=\"background: #7aecec; padding: 0.45em 0.6em; margin: 0 0.25em; line-height: 1; border-radius: 0.35em;\">\n",
       "    Jibo Inc.\n",
       "    <span style=\"font-size: 0.8em; font-weight: bold; line-height: 1; border-radius: 0.35em; vertical-align: middle; margin-left: 0.5rem\">ORG</span>\n",
       "</mark>\n",
       " announced layoffs and shut its doors soon after On \n",
       "<mark class=\"entity\" style=\"background: #bfe1d9; padding: 0.45em 0.6em; margin: 0 0.25em; line-height: 1; border-radius: 0.35em;\">\n",
       "    December 15, 2017\n",
       "    <span style=\"font-size: 0.8em; font-weight: bold; line-height: 1; border-radius: 0.35em; vertical-align: middle; margin-left: 0.5rem\">DATE</span>\n",
       "</mark>\n",
       ". By the time \n",
       "<mark class=\"entity\" style=\"background: #aa9cfc; padding: 0.45em 0.6em; margin: 0 0.25em; line-height: 1; border-radius: 0.35em;\">\n",
       "    Jibo\n",
       "    <span style=\"font-size: 0.8em; font-weight: bold; line-height: 1; border-radius: 0.35em; vertical-align: middle; margin-left: 0.5rem\">PERSON</span>\n",
       "</mark>\n",
       " shut down, \n",
       "<mark class=\"entity\" style=\"background: #aa9cfc; padding: 0.45em 0.6em; margin: 0 0.25em; line-height: 1; border-radius: 0.35em;\">\n",
       "    Jibo\n",
       "    <span style=\"font-size: 0.8em; font-weight: bold; line-height: 1; border-radius: 0.35em; vertical-align: middle; margin-left: 0.5rem\">PERSON</span>\n",
       "</mark>\n",
       " had raised \n",
       "<mark class=\"entity\" style=\"background: #e4e7d2; padding: 0.45em 0.6em; margin: 0 0.25em; line-height: 1; border-radius: 0.35em;\">\n",
       "    more than $70\n",
       "    <span style=\"font-size: 0.8em; font-weight: bold; line-height: 1; border-radius: 0.35em; vertical-align: middle; margin-left: 0.5rem\">MONEY</span>\n",
       "</mark>\n",
       " million.[30] \n",
       "<mark class=\"entity\" style=\"background: #7aecec; padding: 0.45em 0.6em; margin: 0 0.25em; line-height: 1; border-radius: 0.35em;\">\n",
       "    Breazeal\n",
       "    <span style=\"font-size: 0.8em; font-weight: bold; line-height: 1; border-radius: 0.35em; vertical-align: middle; margin-left: 0.5rem\">ORG</span>\n",
       "</mark>\n",
       " has made no public comments in regard to the closing of \n",
       "<mark class=\"entity\" style=\"background: #aa9cfc; padding: 0.45em 0.6em; margin: 0 0.25em; line-height: 1; border-radius: 0.35em;\">\n",
       "    Jibo\n",
       "    <span style=\"font-size: 0.8em; font-weight: bold; line-height: 1; border-radius: 0.35em; vertical-align: middle; margin-left: 0.5rem\">PERSON</span>\n",
       "</mark>\n",
       ". In \n",
       "<mark class=\"entity\" style=\"background: #bfe1d9; padding: 0.45em 0.6em; margin: 0 0.25em; line-height: 1; border-radius: 0.35em;\">\n",
       "    March 2020\n",
       "    <span style=\"font-size: 0.8em; font-weight: bold; line-height: 1; border-radius: 0.35em; vertical-align: middle; margin-left: 0.5rem\">DATE</span>\n",
       "</mark>\n",
       ", the assets of \n",
       "<mark class=\"entity\" style=\"background: #7aecec; padding: 0.45em 0.6em; margin: 0 0.25em; line-height: 1; border-radius: 0.35em;\">\n",
       "    Jibo Inc.\n",
       "    <span style=\"font-size: 0.8em; font-weight: bold; line-height: 1; border-radius: 0.35em; vertical-align: middle; margin-left: 0.5rem\">ORG</span>\n",
       "</mark>\n",
       " were acquired by \n",
       "<mark class=\"entity\" style=\"background: #7aecec; padding: 0.45em 0.6em; margin: 0 0.25em; line-height: 1; border-radius: 0.35em;\">\n",
       "    NTT Corporation\n",
       "    <span style=\"font-size: 0.8em; font-weight: bold; line-height: 1; border-radius: 0.35em; vertical-align: middle; margin-left: 0.5rem\">ORG</span>\n",
       "</mark>\n",
       ". \n",
       "<mark class=\"entity\" style=\"background: #7aecec; padding: 0.45em 0.6em; margin: 0 0.25em; line-height: 1; border-radius: 0.35em;\">\n",
       "    NTT Disruption\n",
       "    <span style=\"font-size: 0.8em; font-weight: bold; line-height: 1; border-radius: 0.35em; vertical-align: middle; margin-left: 0.5rem\">ORG</span>\n",
       "</mark>\n",
       " intends to bring \n",
       "<mark class=\"entity\" style=\"background: #aa9cfc; padding: 0.45em 0.6em; margin: 0 0.25em; line-height: 1; border-radius: 0.35em;\">\n",
       "    Jibo\n",
       "    <span style=\"font-size: 0.8em; font-weight: bold; line-height: 1; border-radius: 0.35em; vertical-align: middle; margin-left: 0.5rem\">PERSON</span>\n",
       "</mark>\n",
       " to the healthcare and education markets. </br></br>In \n",
       "<mark class=\"entity\" style=\"background: #bfe1d9; padding: 0.45em 0.6em; margin: 0 0.25em; line-height: 1; border-radius: 0.35em;\">\n",
       "    2008\n",
       "    <span style=\"font-size: 0.8em; font-weight: bold; line-height: 1; border-radius: 0.35em; vertical-align: middle; margin-left: 0.5rem\">DATE</span>\n",
       "</mark>\n",
       ", \n",
       "<mark class=\"entity\" style=\"background: #aa9cfc; padding: 0.45em 0.6em; margin: 0 0.25em; line-height: 1; border-radius: 0.35em;\">\n",
       "    Cynthia Breazeal\n",
       "    <span style=\"font-size: 0.8em; font-weight: bold; line-height: 1; border-radius: 0.35em; vertical-align: middle; margin-left: 0.5rem\">PERSON</span>\n",
       "</mark>\n",
       "  received the Gilbreth Lectures Award by \n",
       "<mark class=\"entity\" style=\"background: #7aecec; padding: 0.45em 0.6em; margin: 0 0.25em; line-height: 1; border-radius: 0.35em;\">\n",
       "    the National Academy of Engineering\n",
       "    <span style=\"font-size: 0.8em; font-weight: bold; line-height: 1; border-radius: 0.35em; vertical-align: middle; margin-left: 0.5rem\">ORG</span>\n",
       "</mark>\n",
       ". Nexi robot made by \n",
       "<mark class=\"entity\" style=\"background: #aa9cfc; padding: 0.45em 0.6em; margin: 0 0.25em; line-height: 1; border-radius: 0.35em;\">\n",
       "    Cynthia Breazeal\n",
       "    <span style=\"font-size: 0.8em; font-weight: bold; line-height: 1; border-radius: 0.35em; vertical-align: middle; margin-left: 0.5rem\">PERSON</span>\n",
       "</mark>\n",
       " was named \n",
       "<mark class=\"entity\" style=\"background: #e4e7d2; padding: 0.45em 0.6em; margin: 0 0.25em; line-height: 1; border-radius: 0.35em;\">\n",
       "    one\n",
       "    <span style=\"font-size: 0.8em; font-weight: bold; line-height: 1; border-radius: 0.35em; vertical-align: middle; margin-left: 0.5rem\">CARDINAL</span>\n",
       "</mark>\n",
       " of \n",
       "<mark class=\"entity\" style=\"background: #7aecec; padding: 0.45em 0.6em; margin: 0 0.25em; line-height: 1; border-radius: 0.35em;\">\n",
       "    Time\n",
       "    <span style=\"font-size: 0.8em; font-weight: bold; line-height: 1; border-radius: 0.35em; vertical-align: middle; margin-left: 0.5rem\">ORG</span>\n",
       "</mark>\n",
       " magazine's Best Inventions of \n",
       "<mark class=\"entity\" style=\"background: #bfe1d9; padding: 0.45em 0.6em; margin: 0 0.25em; line-height: 1; border-radius: 0.35em;\">\n",
       "    2008\n",
       "    <span style=\"font-size: 0.8em; font-weight: bold; line-height: 1; border-radius: 0.35em; vertical-align: middle; margin-left: 0.5rem\">DATE</span>\n",
       "</mark>\n",
       ". </br>In \n",
       "<mark class=\"entity\" style=\"background: #bfe1d9; padding: 0.45em 0.6em; margin: 0 0.25em; line-height: 1; border-radius: 0.35em;\">\n",
       "    2014\n",
       "    <span style=\"font-size: 0.8em; font-weight: bold; line-height: 1; border-radius: 0.35em; vertical-align: middle; margin-left: 0.5rem\">DATE</span>\n",
       "</mark>\n",
       ", \n",
       "<mark class=\"entity\" style=\"background: #7aecec; padding: 0.45em 0.6em; margin: 0 0.25em; line-height: 1; border-radius: 0.35em;\">\n",
       "    Breazeal\n",
       "    <span style=\"font-size: 0.8em; font-weight: bold; line-height: 1; border-radius: 0.35em; vertical-align: middle; margin-left: 0.5rem\">ORG</span>\n",
       "</mark>\n",
       " was recognized as an entrepreneur as \n",
       "<mark class=\"entity\" style=\"background: #7aecec; padding: 0.45em 0.6em; margin: 0 0.25em; line-height: 1; border-radius: 0.35em;\">\n",
       "    Fortune magazine's\n",
       "    <span style=\"font-size: 0.8em; font-weight: bold; line-height: 1; border-radius: 0.35em; vertical-align: middle; margin-left: 0.5rem\">ORG</span>\n",
       "</mark>\n",
       " Most Promising Women Entrepreneurs.  \n",
       "<mark class=\"entity\" style=\"background: #aa9cfc; padding: 0.45em 0.6em; margin: 0 0.25em; line-height: 1; border-radius: 0.35em;\">\n",
       "    Cynthia Breazeal\n",
       "    <span style=\"font-size: 0.8em; font-weight: bold; line-height: 1; border-radius: 0.35em; vertical-align: middle; margin-left: 0.5rem\">PERSON</span>\n",
       "</mark>\n",
       " was also a recipient of \n",
       "<mark class=\"entity\" style=\"background: #7aecec; padding: 0.45em 0.6em; margin: 0 0.25em; line-height: 1; border-radius: 0.35em;\">\n",
       "    the L'Oreal USA Women\n",
       "    <span style=\"font-size: 0.8em; font-weight: bold; line-height: 1; border-radius: 0.35em; vertical-align: middle; margin-left: 0.5rem\">ORG</span>\n",
       "</mark>\n",
       " in Digital NEXT Generation Award. </br>\n",
       "<mark class=\"entity\" style=\"background: #aa9cfc; padding: 0.45em 0.6em; margin: 0 0.25em; line-height: 1; border-radius: 0.35em;\">\n",
       "    Cynthia Breazeal\n",
       "    <span style=\"font-size: 0.8em; font-weight: bold; line-height: 1; border-radius: 0.35em; vertical-align: middle; margin-left: 0.5rem\">PERSON</span>\n",
       "</mark>\n",
       " received the \n",
       "<mark class=\"entity\" style=\"background: #bfe1d9; padding: 0.45em 0.6em; margin: 0 0.25em; line-height: 1; border-radius: 0.35em;\">\n",
       "    2014\n",
       "    <span style=\"font-size: 0.8em; font-weight: bold; line-height: 1; border-radius: 0.35em; vertical-align: middle; margin-left: 0.5rem\">DATE</span>\n",
       "</mark>\n",
       " \n",
       "<mark class=\"entity\" style=\"background: #aa9cfc; padding: 0.45em 0.6em; margin: 0 0.25em; line-height: 1; border-radius: 0.35em;\">\n",
       "    George R. Stibitz Computer &amp; Communications Pioneer Award\n",
       "    <span style=\"font-size: 0.8em; font-weight: bold; line-height: 1; border-radius: 0.35em; vertical-align: middle; margin-left: 0.5rem\">PERSON</span>\n",
       "</mark>\n",
       " for seminal contributions to the development of \n",
       "<mark class=\"entity\" style=\"background: #7aecec; padding: 0.45em 0.6em; margin: 0 0.25em; line-height: 1; border-radius: 0.35em;\">\n",
       "    Social Robotics\n",
       "    <span style=\"font-size: 0.8em; font-weight: bold; line-height: 1; border-radius: 0.35em; vertical-align: middle; margin-left: 0.5rem\">ORG</span>\n",
       "</mark>\n",
       " and Human Robot Interaction in \n",
       "<mark class=\"entity\" style=\"background: #bfe1d9; padding: 0.45em 0.6em; margin: 0 0.25em; line-height: 1; border-radius: 0.35em;\">\n",
       "    2014\n",
       "    <span style=\"font-size: 0.8em; font-weight: bold; line-height: 1; border-radius: 0.35em; vertical-align: middle; margin-left: 0.5rem\">DATE</span>\n",
       "</mark>\n",
       ". </br>In \n",
       "<mark class=\"entity\" style=\"background: #bfe1d9; padding: 0.45em 0.6em; margin: 0 0.25em; line-height: 1; border-radius: 0.35em;\">\n",
       "    2015\n",
       "    <span style=\"font-size: 0.8em; font-weight: bold; line-height: 1; border-radius: 0.35em; vertical-align: middle; margin-left: 0.5rem\">DATE</span>\n",
       "</mark>\n",
       ", \n",
       "<mark class=\"entity\" style=\"background: #aa9cfc; padding: 0.45em 0.6em; margin: 0 0.25em; line-height: 1; border-radius: 0.35em;\">\n",
       "    Cynthia Breazeal\n",
       "    <span style=\"font-size: 0.8em; font-weight: bold; line-height: 1; border-radius: 0.35em; vertical-align: middle; margin-left: 0.5rem\">PERSON</span>\n",
       "</mark>\n",
       "  was named as one of \n",
       "<mark class=\"entity\" style=\"background: #7aecec; padding: 0.45em 0.6em; margin: 0 0.25em; line-height: 1; border-radius: 0.35em;\">\n",
       "    the Women to Watch\n",
       "    <span style=\"font-size: 0.8em; font-weight: bold; line-height: 1; border-radius: 0.35em; vertical-align: middle; margin-left: 0.5rem\">ORG</span>\n",
       "</mark>\n",
       " by \n",
       "<mark class=\"entity\" style=\"background: #7aecec; padding: 0.45em 0.6em; margin: 0 0.25em; line-height: 1; border-radius: 0.35em;\">\n",
       "    Entrepreneur\n",
       "    <span style=\"font-size: 0.8em; font-weight: bold; line-height: 1; border-radius: 0.35em; vertical-align: middle; margin-left: 0.5rem\">ORG</span>\n",
       "</mark>\n",
       " magazine. </br>\n",
       "<mark class=\"entity\" style=\"background: #aa9cfc; padding: 0.45em 0.6em; margin: 0 0.25em; line-height: 1; border-radius: 0.35em;\">\n",
       "    Jibo\n",
       "    <span style=\"font-size: 0.8em; font-weight: bold; line-height: 1; border-radius: 0.35em; vertical-align: middle; margin-left: 0.5rem\">PERSON</span>\n",
       "</mark>\n",
       " was featured on the cover of \n",
       "<mark class=\"entity\" style=\"background: #7aecec; padding: 0.45em 0.6em; margin: 0 0.25em; line-height: 1; border-radius: 0.35em;\">\n",
       "    Time\n",
       "    <span style=\"font-size: 0.8em; font-weight: bold; line-height: 1; border-radius: 0.35em; vertical-align: middle; margin-left: 0.5rem\">ORG</span>\n",
       "</mark>\n",
       " magazine's \n",
       "<mark class=\"entity\" style=\"background: #e4e7d2; padding: 0.45em 0.6em; margin: 0 0.25em; line-height: 1; border-radius: 0.35em;\">\n",
       "    25\n",
       "    <span style=\"font-size: 0.8em; font-weight: bold; line-height: 1; border-radius: 0.35em; vertical-align: middle; margin-left: 0.5rem\">CARDINAL</span>\n",
       "</mark>\n",
       " Best Inventions of \n",
       "<mark class=\"entity\" style=\"background: #bfe1d9; padding: 0.45em 0.6em; margin: 0 0.25em; line-height: 1; border-radius: 0.35em;\">\n",
       "    2017\n",
       "    <span style=\"font-size: 0.8em; font-weight: bold; line-height: 1; border-radius: 0.35em; vertical-align: middle; margin-left: 0.5rem\">DATE</span>\n",
       "</mark>\n",
       ". </br></br></br></div></span>"
      ],
      "text/plain": [
       "<IPython.core.display.HTML object>"
      ]
     },
     "metadata": {},
     "output_type": "display_data"
    }
   ],
   "source": [
    "displacy.render(doc2,style=\"ent\",jupyter=True)"
   ]
  },
  {
   "cell_type": "markdown",
   "id": "22d7baef",
   "metadata": {},
   "source": [
    "Different entities have different types"
   ]
  },
  {
   "cell_type": "markdown",
   "id": "dde19adb",
   "metadata": {},
   "source": [
    "# REBEL to perform NER and ER"
   ]
  },
  {
   "cell_type": "code",
   "execution_count": 13,
   "id": "4b6cfb07",
   "metadata": {},
   "outputs": [],
   "source": [
    "#create the folder to store the kb object\n",
    "save_kb_folder = 'C:/Users/jingy/OneDrive/Desktop/xmum_mjy/year 3 sem II/NLP/assignment2/kb/' "
   ]
  },
  {
   "cell_type": "code",
   "execution_count": 14,
   "id": "ecc44c8d",
   "metadata": {},
   "outputs": [],
   "source": [
    "# import libraries\n",
    "\n",
    "from transformers import AutoModelForSeq2SeqLM, AutoTokenizer\n",
    "import math\n",
    "import torch\n",
    "import wikipedia\n",
    "from newspaper import Article, ArticleException\n",
    "from GoogleNews import GoogleNews\n",
    "import IPython\n",
    "from pyvis.network import Network"
   ]
  },
  {
   "cell_type": "markdown",
   "id": "793b7ddc",
   "metadata": {},
   "source": [
    "# Load Rebel Model"
   ]
  },
  {
   "cell_type": "code",
   "execution_count": 15,
   "id": "629ade48",
   "metadata": {},
   "outputs": [
    {
     "name": "stderr",
     "output_type": "stream",
     "text": [
      "Special tokens have been added in the vocabulary, make sure the associated word embeddings are fine-tuned or trained.\n"
     ]
    }
   ],
   "source": [
    "# Load model and tokenizer\n",
    "tokenizer = AutoTokenizer.from_pretrained(\"Babelscape/rebel-large\")\n",
    "model = AutoModelForSeq2SeqLM.from_pretrained(\"Babelscape/rebel-large\")"
   ]
  },
  {
   "cell_type": "markdown",
   "id": "131f4c3d",
   "metadata": {},
   "source": [
    "### Extract Relations From REBEL Model"
   ]
  },
  {
   "cell_type": "code",
   "execution_count": 16,
   "id": "9dc36713",
   "metadata": {},
   "outputs": [],
   "source": [
    "def extract_relations_from_model_output(text):\n",
    "    relations = []\n",
    "    relation, subject, relation, object_ = '', '', '', ''\n",
    "    text = text.strip()\n",
    "    current = 'x'\n",
    "    text_replaced = text.replace(\"<s>\", \"\").replace(\"<pad>\", \"\").replace(\"</s>\", \"\")\n",
    "    for token in text_replaced.split():\n",
    "        if token == \"<triplet>\":\n",
    "            current = 't'\n",
    "            if relation != '':\n",
    "                relations.append({\n",
    "                    'head': subject.strip(),\n",
    "                    'type': relation.strip(),\n",
    "                    'tail': object_.strip()\n",
    "                })\n",
    "                relation = ''\n",
    "            subject = ''\n",
    "        elif token == \"<subj>\":\n",
    "            current = 's'\n",
    "            if relation != '':\n",
    "                relations.append({\n",
    "                    'head': subject.strip(),\n",
    "                    'type': relation.strip(),\n",
    "                    'tail': object_.strip()\n",
    "                })\n",
    "            object_ = ''\n",
    "        elif token == \"<obj>\":\n",
    "            current = 'o'\n",
    "            relation = ''\n",
    "        else:\n",
    "            if current == 't':\n",
    "                subject += ' ' + token\n",
    "            elif current == 's':\n",
    "                object_ += ' ' + token\n",
    "            elif current == 'o':\n",
    "                relation += ' ' + token\n",
    "    if subject != '' and relation != '' and object_ != '':\n",
    "        relations.append({\n",
    "            'head': subject.strip(),\n",
    "            'type': relation.strip(),\n",
    "            'tail': object_.strip()\n",
    "        })\n",
    "    return relations"
   ]
  },
  {
   "cell_type": "markdown",
   "id": "6c5867d7",
   "metadata": {},
   "source": [
    "### Convert texts into kb and extract entities and relations"
   ]
  },
  {
   "cell_type": "code",
   "execution_count": 17,
   "id": "082eeb18",
   "metadata": {},
   "outputs": [],
   "source": [
    "def from_text_to_kb(text, article_url, span_length=128, article_title=None,\n",
    "                    article_publish_date=None, verbose=False, extend_kb=None):\n",
    "    # tokenize whole text\n",
    "    inputs = tokenizer([text], return_tensors=\"pt\")\n",
    "\n",
    "    # compute span boundaries\n",
    "    num_tokens = len(inputs[\"input_ids\"][0])\n",
    "    if verbose:\n",
    "        print(f\"Input has {num_tokens} tokens\")\n",
    "    num_spans = math.ceil(num_tokens / span_length)\n",
    "    if verbose:\n",
    "        print(f\"Input has {num_spans} spans\")\n",
    "    overlap = math.ceil((num_spans * span_length - num_tokens) / \n",
    "                        max(num_spans - 1, 1))\n",
    "    spans_boundaries = []\n",
    "    start = 0\n",
    "    for i in range(num_spans):\n",
    "        spans_boundaries.append([start + span_length * i,\n",
    "                                 start + span_length * (i + 1)])\n",
    "        start -= overlap\n",
    "    if verbose:\n",
    "        print(f\"Span boundaries are {spans_boundaries}\")\n",
    "\n",
    "    # transform input with spans\n",
    "    tensor_ids = [inputs[\"input_ids\"][0][boundary[0]:boundary[1]]\n",
    "                  for boundary in spans_boundaries]\n",
    "    tensor_masks = [inputs[\"attention_mask\"][0][boundary[0]:boundary[1]]\n",
    "                    for boundary in spans_boundaries]\n",
    "    inputs = {\n",
    "        \"input_ids\": torch.stack(tensor_ids),\n",
    "        \"attention_mask\": torch.stack(tensor_masks)\n",
    "    }\n",
    "\n",
    "    # generate relations\n",
    "    num_return_sequences = 3\n",
    "    gen_kwargs = {\n",
    "        \"max_length\": 256,\n",
    "        \"length_penalty\": 0,\n",
    "        \"num_beams\": 3,\n",
    "        \"num_return_sequences\": num_return_sequences\n",
    "    }\n",
    "    generated_tokens = model.generate(\n",
    "        **inputs,\n",
    "        **gen_kwargs,\n",
    "    )\n",
    "\n",
    "    # decode relations\n",
    "    decoded_preds = tokenizer.batch_decode(generated_tokens,\n",
    "                                           skip_special_tokens=False)\n",
    "\n",
    "    # create kb\n",
    "    if(extend_kb is None):\n",
    "        kb = KB()\n",
    "    else:\n",
    "        kb = extend_kb\n",
    "\n",
    "    i = 0\n",
    "    for sentence_pred in decoded_preds:\n",
    "        current_span_index = i // num_return_sequences\n",
    "        relations = extract_relations_from_model_output(sentence_pred)\n",
    "        for relation in relations:\n",
    "            relation[\"meta\"] = {\n",
    "                article_url: {\n",
    "                    \"spans\": [spans_boundaries[current_span_index]]\n",
    "                }\n",
    "            }\n",
    "            kb.add_relation(relation, article_title, article_publish_date)\n",
    "        i += 1\n",
    "\n",
    "    return kb"
   ]
  },
  {
   "cell_type": "markdown",
   "id": "996a6b30",
   "metadata": {},
   "source": [
    "# Knowledge Base\n",
    "contains entities and relations which are contained in dictionaries"
   ]
  },
  {
   "cell_type": "code",
   "execution_count": 18,
   "id": "1b7d923f",
   "metadata": {},
   "outputs": [],
   "source": [
    "class KB():\n",
    "    def __init__(self):\n",
    "        self.entities = {} # { entity_title: {...} }\n",
    "        self.relations = [] # [ head: entity_title, type: ..., tail: entity_title,\n",
    "          # meta: { article_url: { spans: [...] } } ]\n",
    "        self.sources = {} # { article_url: {...} }\n",
    "\n",
    "    def merge_with_kb(self, kb2):\n",
    "        for r in kb2.relations:\n",
    "            article_url = list(r[\"meta\"].keys())[0]\n",
    "            source_data = kb2.sources[article_url]\n",
    "            self.add_relation(r, source_data[\"article_title\"],\n",
    "                              source_data[\"article_publish_date\"])\n",
    "\n",
    "    def are_relations_equal(self, r1, r2):\n",
    "        return all(r1[attr] == r2[attr] for attr in [\"head\", \"type\", \"tail\"])\n",
    "\n",
    "    def exists_relation(self, r1):\n",
    "        return any(self.are_relations_equal(r1, r2) for r2 in self.relations)\n",
    "\n",
    "    def merge_relations(self, r2):\n",
    "        r1 = [r for r in self.relations\n",
    "              if self.are_relations_equal(r2, r)][0]\n",
    "\n",
    "        # if different article\n",
    "        article_url = list(r2[\"meta\"].keys())[0]\n",
    "        if article_url not in r1[\"meta\"]:\n",
    "            r1[\"meta\"][article_url] = r2[\"meta\"][article_url]\n",
    "\n",
    "        # if existing article\n",
    "        else:\n",
    "            spans_to_add = [span for span in r2[\"meta\"][article_url][\"spans\"]\n",
    "                            if span not in r1[\"meta\"][article_url][\"spans\"]]\n",
    "            r1[\"meta\"][article_url][\"spans\"] += spans_to_add\n",
    "\n",
    "    def get_wikipedia_data(self, candidate_entity):\n",
    "        try:\n",
    "            #page = wikipedia.page(candidate_entity, auto_suggest=False)\n",
    "            page = wikipedia.page(candidate_entity, auto_suggest=False)\n",
    "        \n",
    "            entity_data = {\n",
    "            \"title\": (page.title).lower(),\n",
    "            \"url\": page.url,\n",
    "            \"summary\": page.summary\n",
    "          }\n",
    "            return entity_data\n",
    "        except:\n",
    "            entity_data = {\n",
    "            \"title\": candidate_entity+\"\",\n",
    "            \"url\": \"\",\n",
    "            \"summary\": \"\"\n",
    "          }\n",
    "        return entity_data\n",
    "        #return None\n",
    "\n",
    "    def add_entity(self, e):\n",
    "        self.entities[e[\"title\"]] = {k:v for k,v in e.items() if k != \"title\"}\n",
    "\n",
    "    def add_relation(self, r, article_title, article_publish_date):\n",
    "        # check on wikipedia\n",
    "        candidate_entities = [r[\"head\"], r[\"tail\"]]\n",
    "        entities = [self.get_wikipedia_data(ent) for ent in candidate_entities]\n",
    "\n",
    "        # if one entity does not exist, stop\n",
    "        if any(ent is None for ent in entities):\n",
    "            return\n",
    "\n",
    "        # manage new entities\n",
    "        for e in entities:\n",
    "            self.add_entity(e)\n",
    "\n",
    "        # rename relation entities with their wikipedia titles\n",
    "        r[\"head\"] = entities[0][\"title\"]\n",
    "        r[\"tail\"] = entities[1][\"title\"]\n",
    "\n",
    "        # add source if not in kb\n",
    "        article_url = list(r[\"meta\"].keys())[0]\n",
    "        if article_url not in self.sources:\n",
    "            self.sources[article_url] = {\n",
    "                \"article_title\": article_title,\n",
    "                \"article_publish_date\": article_publish_date\n",
    "            }\n",
    "\n",
    "            \n",
    "        # manage new relation\n",
    "        if not self.exists_relation(r):\n",
    "            self.relations.append(r)\n",
    "        else:\n",
    "            self.merge_relations(r)\n",
    "\n",
    "    def print(self):\n",
    "        print(\"Entities:\")\n",
    "        for e in self.entities.items():\n",
    "            print(f\"  {e}\")\n",
    "        print(\"Relations:\")\n",
    "        for r in self.relations:\n",
    "            print(f\"  {r}\")\n",
    "        print(\"Sources:\")\n",
    "        for s in self.sources.items():\n",
    "            print(f\"  {s}\")\n",
    "            \n",
    "    def relations(self):\n",
    "        for r in self.relations:\n",
    "            print(f\" {r}\")\n",
    "\n",
    "        "
   ]
  },
  {
   "cell_type": "markdown",
   "id": "1de45183",
   "metadata": {},
   "source": [
    "### To load and save kb"
   ]
  },
  {
   "cell_type": "code",
   "execution_count": 19,
   "id": "2ea7cf4f",
   "metadata": {},
   "outputs": [],
   "source": [
    "import pickle\n",
    "\n",
    "def save_kb(kb, filename):\n",
    "    with open(f\"{save_kb_folder}{filename}\", \"wb\") as f:\n",
    "        pickle.dump(kb, f)\n",
    "\n",
    "def load_kb(filename):\n",
    "    res = None\n",
    "    with open(f\"{save_kb_folder}{filename}\", \"rb\") as f:\n",
    "        res = pickle.load(f)\n",
    "    return res"
   ]
  },
  {
   "cell_type": "markdown",
   "id": "51019da3",
   "metadata": {},
   "source": [
    "# Increment kb"
   ]
  },
  {
   "cell_type": "code",
   "execution_count": 20,
   "id": "e68c4ca8",
   "metadata": {
    "scrolled": true
   },
   "outputs": [
    {
     "name": "stdout",
     "output_type": "stream",
     "text": [
      "Input has 702 tokens\n",
      "Input has 6 spans\n",
      "Span boundaries are [[0, 128], [114, 242], [228, 356], [342, 470], [456, 584], [570, 698]]\n"
     ]
    }
   ],
   "source": [
    "filename = \"Cynthia Breazeal\"\n",
    "kb = from_text_to_kb(data1, \"\", verbose=True)\n",
    "save_kb(kb, filename + \".kb\")"
   ]
  },
  {
   "cell_type": "code",
   "execution_count": 21,
   "id": "19313554",
   "metadata": {},
   "outputs": [
    {
     "name": "stdout",
     "output_type": "stream",
     "text": [
      "Entities extracted using REBEL on first text file\n",
      "-------------------------------------------------\n",
      "cynthia breazeal\n",
      "2012\n",
      "personal assistant robot\n",
      "university of california, santa barbara\n",
      "massachusetts institute of technology\n",
      "mit museum\n",
      "Kismet\n",
      "Media Lab\n",
      "Media Arts and Sciences\n",
      "living with AI\n",
      "artificial intelligence\n",
      "\"living with AI\"\n"
     ]
    }
   ],
   "source": [
    "print(\"Entities extracted using REBEL on first text file\")\n",
    "print(\"-------------------------------------------------\")\n",
    "for r in kb.entities:\n",
    "    print(r)"
   ]
  },
  {
   "cell_type": "code",
   "execution_count": 22,
   "id": "d835b2cf",
   "metadata": {},
   "outputs": [
    {
     "name": "stdout",
     "output_type": "stream",
     "text": [
      "Relations extracted using REBEL on first text file\n",
      "-------------------------------------------------\n",
      "{'head': 'cynthia breazeal', 'type': 'inception', 'tail': '2012', 'meta': {'': {'spans': [[0, 128]]}}}\n",
      "{'head': 'cynthia breazeal', 'type': 'founded by', 'tail': 'cynthia breazeal', 'meta': {'': {'spans': [[0, 128]]}}}\n",
      "{'head': 'cynthia breazeal', 'type': 'instance of', 'tail': 'personal assistant robot', 'meta': {'': {'spans': [[0, 128]]}}}\n",
      "{'head': 'cynthia breazeal', 'type': 'educated at', 'tail': 'university of california, santa barbara', 'meta': {'': {'spans': [[114, 242]]}}}\n",
      "{'head': 'cynthia breazeal', 'type': 'educated at', 'tail': 'massachusetts institute of technology', 'meta': {'': {'spans': [[114, 242], [570, 698]]}}}\n",
      "{'head': 'cynthia breazeal', 'type': 'has works in the collection', 'tail': 'mit museum', 'meta': {'': {'spans': [[228, 356]]}}}\n",
      "{'head': 'Kismet', 'type': 'designed by', 'tail': 'cynthia breazeal', 'meta': {'': {'spans': [[228, 356]]}}}\n",
      "{'head': 'massachusetts institute of technology', 'type': 'subsidiary', 'tail': 'Media Lab', 'meta': {'': {'spans': [[342, 470]]}}}\n",
      "{'head': 'Media Lab', 'type': 'part of', 'tail': 'massachusetts institute of technology', 'meta': {'': {'spans': [[342, 470]]}}}\n",
      "{'head': 'Media Arts and Sciences', 'type': 'part of', 'tail': 'massachusetts institute of technology', 'meta': {'': {'spans': [[342, 470]]}}}\n",
      "{'head': 'massachusetts institute of technology', 'type': 'subsidiary', 'tail': 'Media Arts and Sciences', 'meta': {'': {'spans': [[342, 470]]}}}\n",
      "{'head': 'cynthia breazeal', 'type': 'employer', 'tail': 'massachusetts institute of technology', 'meta': {'': {'spans': [[342, 470], [570, 698]]}}}\n",
      "{'head': 'cynthia breazeal', 'type': 'field of work', 'tail': 'living with AI', 'meta': {'': {'spans': [[456, 584]]}}}\n",
      "{'head': 'cynthia breazeal', 'type': 'field of work', 'tail': 'artificial intelligence', 'meta': {'': {'spans': [[456, 584]]}}}\n",
      "{'head': 'cynthia breazeal', 'type': 'field of work', 'tail': '\"living with AI\"', 'meta': {'': {'spans': [[456, 584]]}}}\n"
     ]
    }
   ],
   "source": [
    "print(\"Relations extracted using REBEL on first text file\")\n",
    "print(\"-------------------------------------------------\")\n",
    "for r in kb.relations:\n",
    "    print(r)"
   ]
  },
  {
   "cell_type": "markdown",
   "id": "8e40a69c",
   "metadata": {},
   "source": [
    "There are 12 entities and 15 relations extracted"
   ]
  },
  {
   "cell_type": "markdown",
   "id": "47a850fc",
   "metadata": {},
   "source": [
    "## Incremented kb with second text file using REBEL "
   ]
  },
  {
   "cell_type": "code",
   "execution_count": 24,
   "id": "0b39e18c",
   "metadata": {
    "scrolled": true
   },
   "outputs": [
    {
     "name": "stderr",
     "output_type": "stream",
     "text": [
      "Token indices sequence length is longer than the specified maximum sequence length for this model (1029 > 1024). Running this sequence through the model will result in indexing errors\n"
     ]
    },
    {
     "name": "stdout",
     "output_type": "stream",
     "text": [
      "Input has 1029 tokens\n",
      "Input has 9 spans\n",
      "Span boundaries are [[0, 128], [112, 240], [224, 352], [336, 464], [448, 576], [560, 688], [672, 800], [784, 912], [896, 1024]]\n"
     ]
    }
   ],
   "source": [
    "kb = load_kb(\"Cynthia Breazeal.kb\") # load previous stored kb\n",
    "kb = from_text_to_kb(data2, \"\", verbose=True, extend_kb=kb)\n",
    "filename = \"Cynthia Breazeal2\"\n",
    "save_kb(kb, filename + \".kb\")"
   ]
  },
  {
   "cell_type": "code",
   "execution_count": 25,
   "id": "aefecc69",
   "metadata": {},
   "outputs": [
    {
     "name": "stdout",
     "output_type": "stream",
     "text": [
      "Entities extracted using REBEL after incrementing second text file\n",
      "cynthia breazeal\n",
      "2012\n",
      "personal assistant robot\n",
      "university of california, santa barbara\n",
      "massachusetts institute of technology\n",
      "mit museum\n",
      "Kismet\n",
      "Media Lab\n",
      "Media Arts and Sciences\n",
      "living with AI\n",
      "artificial intelligence\n",
      "\"living with AI\"\n",
      "Cynthia Breazeal's\n",
      "50 Best Inventions of 2008\n",
      "time (magazine)\n",
      "50 Best Inventions\n",
      "2008\n",
      "Mabu\n",
      "Catalia Health\n",
      "cooper hewitt, smithsonian design museum\n",
      "smithsonian institution\n",
      "cyberflora\n",
      "c-3po\n",
      "anthony daniels\n",
      "SARS-CoV2 pandemic\n",
      "2020\n",
      "innovators under 35\n",
      "mit technology review\n",
      "December 15, 2017\n",
      "Jibo Inc.\n",
      "Gilbreth Lectures Award\n",
      "national academy of engineering\n",
      "25 Best Inventions of 2017\n",
      "Best Inventions of 2017\n",
      "George R. Stibitz Computer & Communications Pioneer Award\n"
     ]
    }
   ],
   "source": [
    "print(\"Entities extracted using REBEL after incrementing second text file\")\n",
    "for e in kb.entities:\n",
    "    print(e)"
   ]
  },
  {
   "cell_type": "code",
   "execution_count": 26,
   "id": "7074e271",
   "metadata": {},
   "outputs": [
    {
     "name": "stdout",
     "output_type": "stream",
     "text": [
      "Relations extracted using REBEL after incrementing second text file\n",
      "-------------------------------------------------\n",
      "{'head': 'cynthia breazeal', 'type': 'inception', 'tail': '2012', 'meta': {'': {'spans': [[0, 128]]}}}\n",
      "{'head': 'cynthia breazeal', 'type': 'founded by', 'tail': 'cynthia breazeal', 'meta': {'': {'spans': [[0, 128]]}}}\n",
      "{'head': 'cynthia breazeal', 'type': 'instance of', 'tail': 'personal assistant robot', 'meta': {'': {'spans': [[0, 128]]}}}\n",
      "{'head': 'cynthia breazeal', 'type': 'educated at', 'tail': 'university of california, santa barbara', 'meta': {'': {'spans': [[114, 242]]}}}\n",
      "{'head': 'cynthia breazeal', 'type': 'educated at', 'tail': 'massachusetts institute of technology', 'meta': {'': {'spans': [[114, 242], [570, 698]]}}}\n",
      "{'head': 'cynthia breazeal', 'type': 'has works in the collection', 'tail': 'mit museum', 'meta': {'': {'spans': [[228, 356]]}}}\n",
      "{'head': 'Kismet', 'type': 'designed by', 'tail': 'cynthia breazeal', 'meta': {'': {'spans': [[228, 356], [0, 128]]}}}\n",
      "{'head': 'massachusetts institute of technology', 'type': 'subsidiary', 'tail': 'Media Lab', 'meta': {'': {'spans': [[342, 470]]}}}\n",
      "{'head': 'Media Lab', 'type': 'part of', 'tail': 'massachusetts institute of technology', 'meta': {'': {'spans': [[342, 470]]}}}\n",
      "{'head': 'Media Arts and Sciences', 'type': 'part of', 'tail': 'massachusetts institute of technology', 'meta': {'': {'spans': [[342, 470]]}}}\n",
      "{'head': 'massachusetts institute of technology', 'type': 'subsidiary', 'tail': 'Media Arts and Sciences', 'meta': {'': {'spans': [[342, 470]]}}}\n",
      "{'head': 'cynthia breazeal', 'type': 'employer', 'tail': 'massachusetts institute of technology', 'meta': {'': {'spans': [[342, 470], [570, 698]]}}}\n",
      "{'head': 'cynthia breazeal', 'type': 'field of work', 'tail': 'living with AI', 'meta': {'': {'spans': [[456, 584]]}}}\n",
      "{'head': 'cynthia breazeal', 'type': 'field of work', 'tail': 'artificial intelligence', 'meta': {'': {'spans': [[456, 584]]}}}\n",
      "{'head': 'cynthia breazeal', 'type': 'field of work', 'tail': '\"living with AI\"', 'meta': {'': {'spans': [[456, 584]]}}}\n",
      "{'head': 'Kismet', 'type': 'creator', 'tail': 'cynthia breazeal', 'meta': {'': {'spans': [[0, 128]]}}}\n",
      "{'head': 'Kismet', 'type': 'creator', 'tail': \"Cynthia Breazeal's\", 'meta': {'': {'spans': [[0, 128]]}}}\n",
      "{'head': '50 Best Inventions of 2008', 'type': 'conferred by', 'tail': 'time (magazine)', 'meta': {'': {'spans': [[112, 240]]}}}\n",
      "{'head': '50 Best Inventions', 'type': 'conferred by', 'tail': 'time (magazine)', 'meta': {'': {'spans': [[112, 240]]}}}\n",
      "{'head': '50 Best Inventions of 2008', 'type': 'point in time', 'tail': '2008', 'meta': {'': {'spans': [[112, 240]]}}}\n",
      "{'head': 'Mabu', 'type': 'developer', 'tail': 'Catalia Health', 'meta': {'': {'spans': [[224, 352]]}}}\n",
      "{'head': 'Mabu', 'type': 'owned by', 'tail': 'Catalia Health', 'meta': {'': {'spans': [[224, 352]]}}}\n",
      "{'head': 'Mabu', 'type': 'manufacturer', 'tail': 'Catalia Health', 'meta': {'': {'spans': [[224, 352]]}}}\n",
      "{'head': 'cooper hewitt, smithsonian design museum', 'type': 'parent organization', 'tail': 'smithsonian institution', 'meta': {'': {'spans': [[336, 464]]}}}\n",
      "{'head': 'smithsonian institution', 'type': 'subsidiary', 'tail': 'cooper hewitt, smithsonian design museum', 'meta': {'': {'spans': [[336, 464]]}}}\n",
      "{'head': 'cyberflora', 'type': 'creator', 'tail': 'cynthia breazeal', 'meta': {'': {'spans': [[336, 464]]}}}\n",
      "{'head': 'c-3po', 'type': 'performer', 'tail': 'anthony daniels', 'meta': {'': {'spans': [[448, 576]]}}}\n",
      "{'head': 'SARS-CoV2 pandemic', 'type': 'point in time', 'tail': '2020', 'meta': {'': {'spans': [[448, 576], [560, 688]]}}}\n",
      "{'head': 'innovators under 35', 'type': 'conferred by', 'tail': 'mit technology review', 'meta': {'': {'spans': [[448, 576]]}}}\n",
      "{'head': 'cynthia breazeal', 'type': 'developer', 'tail': 'cynthia breazeal', 'meta': {'': {'spans': [[560, 688]]}}}\n",
      "{'head': 'cynthia breazeal', 'type': 'creator', 'tail': 'cynthia breazeal', 'meta': {'': {'spans': [[560, 688]]}}}\n",
      "{'head': 'cynthia breazeal', 'type': 'dissolved, abolished or demolished date', 'tail': 'December 15, 2017', 'meta': {'': {'spans': [[672, 800]]}}}\n",
      "{'head': 'Jibo Inc.', 'type': 'dissolved, abolished or demolished date', 'tail': 'December 15, 2017', 'meta': {'': {'spans': [[672, 800]]}}}\n",
      "{'head': 'Gilbreth Lectures Award', 'type': 'conferred by', 'tail': 'national academy of engineering', 'meta': {'': {'spans': [[784, 912]]}}}\n",
      "{'head': 'cynthia breazeal', 'type': 'award received', 'tail': 'Gilbreth Lectures Award', 'meta': {'': {'spans': [[784, 912]]}}}\n",
      "{'head': '25 Best Inventions of 2017', 'type': 'conferred by', 'tail': 'time (magazine)', 'meta': {'': {'spans': [[896, 1024]]}}}\n",
      "{'head': 'Best Inventions of 2017', 'type': 'conferred by', 'tail': 'time (magazine)', 'meta': {'': {'spans': [[896, 1024]]}}}\n",
      "{'head': 'cynthia breazeal', 'type': 'award received', 'tail': 'George R. Stibitz Computer & Communications Pioneer Award', 'meta': {'': {'spans': [[896, 1024]]}}}\n"
     ]
    }
   ],
   "source": [
    "print(\"Relations extracted using REBEL after incrementing second text file\")\n",
    "print(\"-------------------------------------------------\")\n",
    "for r in kb.relations:\n",
    "    print(r)"
   ]
  },
  {
   "cell_type": "markdown",
   "id": "eeb933fa",
   "metadata": {},
   "source": [
    "There are a total of 23 new entities and 23 new relations"
   ]
  },
  {
   "cell_type": "markdown",
   "id": "2a1ca613",
   "metadata": {},
   "source": [
    "# REBEL Knowledge Graph"
   ]
  },
  {
   "cell_type": "code",
   "execution_count": 92,
   "id": "c12f63af",
   "metadata": {},
   "outputs": [],
   "source": [
    "from pyvis import network as net #pip install pyvis==0.3.1\n",
    "import networkx as nx"
   ]
  },
  {
   "cell_type": "code",
   "execution_count": 132,
   "id": "ae133aae",
   "metadata": {},
   "outputs": [],
   "source": [
    "#load saved Named Entities and Relations (in kb file) from the KG_Construction.ipynb Jupyter Notebook\n",
    "kb = load_kb(\"C:/Users/jingy/OneDrive/Desktop/xmum_mjy/year 3 sem II/NLP/assignment2/kb/Cynthia Breazeal.kb\")\n",
    "kb2 = load_kb(\"C:/Users/jingy/OneDrive/Desktop/xmum_mjy/year 3 sem II/NLP/assignment2/kb/Cynthia Breazeal2.kb\")"
   ]
  },
  {
   "cell_type": "markdown",
   "id": "aca388a1",
   "metadata": {},
   "source": [
    "### Construct Graph"
   ]
  },
  {
   "cell_type": "code",
   "execution_count": 111,
   "id": "f7a3fd3d",
   "metadata": {},
   "outputs": [
    {
     "name": "stdout",
     "output_type": "stream",
     "text": [
      "Local cdn resources have problems on chrome/safari when used in jupyter-notebook. \n"
     ]
    },
    {
     "data": {
      "text/html": [
       "\n",
       "        <iframe\n",
       "            width=\"1200px\"\n",
       "            height=\"1000px\"\n",
       "            src=\"Cynthia Breazeal.html\"\n",
       "            frameborder=\"0\"\n",
       "            allowfullscreen\n",
       "            \n",
       "        ></iframe>\n",
       "        "
      ],
      "text/plain": [
       "<IPython.lib.display.IFrame at 0x1f993c20be0>"
      ]
     },
     "execution_count": 111,
     "metadata": {},
     "output_type": "execute_result"
    }
   ],
   "source": [
    "#construct graph from the saved Named Entities and Relations (in kb file)\n",
    "net = Network(\n",
    "    directed=True, \n",
    "    width=\"1200px\", \n",
    "    height=\"1000px\", \n",
    "    bgcolor=\"#FFFFFF\",\n",
    "    notebook=True,\n",
    "    )\n",
    "    \n",
    "    # nodes\n",
    "color_entity = \"#00FF00\"\n",
    "for e in kb.entities:\n",
    "    #net.add_node(e, shape=\"circle\", color=color_entity)\n",
    "    net.add_node(e)\n",
    "\n",
    "#edges\n",
    "for r in kb.relations:\n",
    "    net.add_edge(r[\"head\"], r[\"tail\"], title=r[\"type\"], label=r[\"type\"])\n",
    "\n",
    "net.repulsion(\n",
    "    node_distance=230,\n",
    "    damping=0.01\n",
    "    )\n",
    "\n",
    "net.set_edge_smooth('dynamic')\n",
    "net.show('Cynthia Breazeal.html') #saved the graph html file to the same directory as this Jupyter Notebook"
   ]
  },
  {
   "cell_type": "markdown",
   "id": "ca4b97bd",
   "metadata": {},
   "source": [
    "### Knowledge Graph after including entities and relations from second text file"
   ]
  },
  {
   "cell_type": "code",
   "execution_count": 112,
   "id": "71f30eb4",
   "metadata": {},
   "outputs": [
    {
     "name": "stdout",
     "output_type": "stream",
     "text": [
      "Local cdn resources have problems on chrome/safari when used in jupyter-notebook. \n"
     ]
    },
    {
     "data": {
      "text/html": [
       "\n",
       "        <iframe\n",
       "            width=\"1200px\"\n",
       "            height=\"1000px\"\n",
       "            src=\"Cynthia Breazeal2.html\"\n",
       "            frameborder=\"0\"\n",
       "            allowfullscreen\n",
       "            \n",
       "        ></iframe>\n",
       "        "
      ],
      "text/plain": [
       "<IPython.lib.display.IFrame at 0x1f993c28e80>"
      ]
     },
     "execution_count": 112,
     "metadata": {},
     "output_type": "execute_result"
    }
   ],
   "source": [
    "#construct graph from the saved Named Entities and Relations (in kb file)\n",
    "net2 = Network(\n",
    "    directed=True, \n",
    "    width=\"1200px\", \n",
    "    height=\"1000px\", \n",
    "    bgcolor=\"#FFFFFF\",\n",
    "    notebook=True,\n",
    "    )\n",
    "    \n",
    "    # nodes\n",
    "color_entity = \"#00FF00\"\n",
    "for e in kb2.entities:\n",
    "    #net.add_node(e, shape=\"circle\", color=color_entity)\n",
    "    net2.add_node(e)\n",
    "\n",
    "#edges\n",
    "for r in kb2.relations:\n",
    "    net2.add_edge(r[\"head\"], r[\"tail\"], title=r[\"type\"], label=r[\"type\"])\n",
    "\n",
    "net2.repulsion(\n",
    "    node_distance=230,\n",
    "        #central_gravity=0.02,\n",
    "        #spring_length=200,\n",
    "        #spring_strength=0.05,\n",
    "    damping=0.01\n",
    "    )\n",
    "\n",
    "net2.set_edge_smooth('dynamic')    \n",
    "net2.show('Cynthia Breazeal2.html') #saved the graph html file to the same directory as this Jupyter Notebook"
   ]
  },
  {
   "cell_type": "markdown",
   "id": "a9444cf7",
   "metadata": {},
   "source": [
    "# NER and RE using StanfordCoreNLP"
   ]
  },
  {
   "cell_type": "markdown",
   "id": "8547817a",
   "metadata": {},
   "source": [
    "I have manually copied and pasted the entities and relations into two text csv files. \n",
    "\n",
    "The text files are then converted into dataframes. \n",
    "\n",
    "The csv files have three columns, head, type and tail.\n"
   ]
  },
  {
   "cell_type": "code",
   "execution_count": 97,
   "id": "263a46dd",
   "metadata": {},
   "outputs": [],
   "source": [
    "import pandas as pd\n",
    "\n",
    "stanford1 = pd.read_csv(\"stanford1.csv\")\n",
    "stanford2 = pd.read_csv(\"stanford2.csv\")"
   ]
  },
  {
   "cell_type": "code",
   "execution_count": 98,
   "id": "17adf341",
   "metadata": {},
   "outputs": [
    {
     "data": {
      "text/html": [
       "<div>\n",
       "<style scoped>\n",
       "    .dataframe tbody tr th:only-of-type {\n",
       "        vertical-align: middle;\n",
       "    }\n",
       "\n",
       "    .dataframe tbody tr th {\n",
       "        vertical-align: top;\n",
       "    }\n",
       "\n",
       "    .dataframe thead th {\n",
       "        text-align: right;\n",
       "    }\n",
       "</style>\n",
       "<table border=\"1\" class=\"dataframe\">\n",
       "  <thead>\n",
       "    <tr style=\"text-align: right;\">\n",
       "      <th></th>\n",
       "      <th>head</th>\n",
       "      <th>type</th>\n",
       "      <th>tail</th>\n",
       "    </tr>\n",
       "  </thead>\n",
       "  <tbody>\n",
       "    <tr>\n",
       "      <th>0</th>\n",
       "      <td>Cynthia Breazeal</td>\n",
       "      <td>Origin</td>\n",
       "      <td>American</td>\n",
       "    </tr>\n",
       "    <tr>\n",
       "      <th>1</th>\n",
       "      <td>Cynthia Breazeal</td>\n",
       "      <td>title</td>\n",
       "      <td>sientist</td>\n",
       "    </tr>\n",
       "    <tr>\n",
       "      <th>2</th>\n",
       "      <td>Cynthia Breazeal</td>\n",
       "      <td>title</td>\n",
       "      <td>entrepeneur</td>\n",
       "    </tr>\n",
       "    <tr>\n",
       "      <th>3</th>\n",
       "      <td>Cynthia Breazeal</td>\n",
       "      <td>title</td>\n",
       "      <td>professor</td>\n",
       "    </tr>\n",
       "    <tr>\n",
       "      <th>4</th>\n",
       "      <td>Cynthia Breazeal</td>\n",
       "      <td>schools_attended</td>\n",
       "      <td>University of California , Santa Barbara</td>\n",
       "    </tr>\n",
       "    <tr>\n",
       "      <th>5</th>\n",
       "      <td>Media Arts and Sciences</td>\n",
       "      <td>top_members_employees</td>\n",
       "      <td>Cynthia Breazeal</td>\n",
       "    </tr>\n",
       "    <tr>\n",
       "      <th>6</th>\n",
       "      <td>Cynthia Breazeal</td>\n",
       "      <td>employee_or_member_of</td>\n",
       "      <td>MIT</td>\n",
       "    </tr>\n",
       "    <tr>\n",
       "      <th>7</th>\n",
       "      <td>Cynthia Breazeal</td>\n",
       "      <td>employee_or_member_of</td>\n",
       "      <td>Media Lab</td>\n",
       "    </tr>\n",
       "    <tr>\n",
       "      <th>8</th>\n",
       "      <td>Media Lab</td>\n",
       "      <td>top_members_employees</td>\n",
       "      <td>Cynthia Breazeal</td>\n",
       "    </tr>\n",
       "    <tr>\n",
       "      <th>9</th>\n",
       "      <td>Personal Robotics</td>\n",
       "      <td>top_members_employees</td>\n",
       "      <td>Cynthia Breazeal</td>\n",
       "    </tr>\n",
       "    <tr>\n",
       "      <th>10</th>\n",
       "      <td>Cynthia Breazeal</td>\n",
       "      <td>title</td>\n",
       "      <td>director</td>\n",
       "    </tr>\n",
       "    <tr>\n",
       "      <th>11</th>\n",
       "      <td>Cynthia Breazeal</td>\n",
       "      <td>employee_or_member_of</td>\n",
       "      <td>Media Arts and Sciences</td>\n",
       "    </tr>\n",
       "    <tr>\n",
       "      <th>12</th>\n",
       "      <td>Cynthia Breazeal</td>\n",
       "      <td>employee_or_member_of</td>\n",
       "      <td>Personal Robotics</td>\n",
       "    </tr>\n",
       "    <tr>\n",
       "      <th>13</th>\n",
       "      <td>Cynthia Breazeal</td>\n",
       "      <td>employee_or_member_of</td>\n",
       "      <td>MIT Quest for Intelligence</td>\n",
       "    </tr>\n",
       "    <tr>\n",
       "      <th>14</th>\n",
       "      <td>Massachusetts Institute of Technology</td>\n",
       "      <td>alternate_names</td>\n",
       "      <td>MIT</td>\n",
       "    </tr>\n",
       "    <tr>\n",
       "      <th>15</th>\n",
       "      <td>Cynthia Breazeal</td>\n",
       "      <td>title</td>\n",
       "      <td>dean</td>\n",
       "    </tr>\n",
       "    <tr>\n",
       "      <th>16</th>\n",
       "      <td>Cynthia Breazeal</td>\n",
       "      <td>employee_or_member_of</td>\n",
       "      <td>MIT</td>\n",
       "    </tr>\n",
       "    <tr>\n",
       "      <th>17</th>\n",
       "      <td>Massachusetts Institute of Technology</td>\n",
       "      <td>top_members_employees</td>\n",
       "      <td>Cynthia Breazeal</td>\n",
       "    </tr>\n",
       "    <tr>\n",
       "      <th>18</th>\n",
       "      <td>Cynthia Breazeal</td>\n",
       "      <td>employee_or_member_of</td>\n",
       "      <td>Massachusetts Institute of Technology</td>\n",
       "    </tr>\n",
       "    <tr>\n",
       "      <th>19</th>\n",
       "      <td>MIT</td>\n",
       "      <td>top_members_employees</td>\n",
       "      <td>Cynthia Breazeal</td>\n",
       "    </tr>\n",
       "    <tr>\n",
       "      <th>20</th>\n",
       "      <td>Cynthia Breazeal</td>\n",
       "      <td>title</td>\n",
       "      <td>Bachelor</td>\n",
       "    </tr>\n",
       "  </tbody>\n",
       "</table>\n",
       "</div>"
      ],
      "text/plain": [
       "                                     head                   type  \\\n",
       "0                        Cynthia Breazeal                 Origin   \n",
       "1                        Cynthia Breazeal                  title   \n",
       "2                        Cynthia Breazeal                  title   \n",
       "3                        Cynthia Breazeal                  title   \n",
       "4                        Cynthia Breazeal       schools_attended   \n",
       "5                 Media Arts and Sciences  top_members_employees   \n",
       "6                        Cynthia Breazeal  employee_or_member_of   \n",
       "7                        Cynthia Breazeal  employee_or_member_of   \n",
       "8                               Media Lab  top_members_employees   \n",
       "9                       Personal Robotics  top_members_employees   \n",
       "10                       Cynthia Breazeal                  title   \n",
       "11                       Cynthia Breazeal  employee_or_member_of   \n",
       "12                       Cynthia Breazeal  employee_or_member_of   \n",
       "13                       Cynthia Breazeal  employee_or_member_of   \n",
       "14  Massachusetts Institute of Technology        alternate_names   \n",
       "15                       Cynthia Breazeal                  title   \n",
       "16                       Cynthia Breazeal  employee_or_member_of   \n",
       "17  Massachusetts Institute of Technology  top_members_employees   \n",
       "18                       Cynthia Breazeal  employee_or_member_of   \n",
       "19                                    MIT  top_members_employees   \n",
       "20                       Cynthia Breazeal                  title   \n",
       "\n",
       "                                        tail  \n",
       "0                                   American  \n",
       "1                                   sientist  \n",
       "2                                entrepeneur  \n",
       "3                                  professor  \n",
       "4   University of California , Santa Barbara  \n",
       "5                           Cynthia Breazeal  \n",
       "6                                        MIT  \n",
       "7                                  Media Lab  \n",
       "8                           Cynthia Breazeal  \n",
       "9                           Cynthia Breazeal  \n",
       "10                                  director  \n",
       "11                   Media Arts and Sciences  \n",
       "12                         Personal Robotics  \n",
       "13                MIT Quest for Intelligence  \n",
       "14                                       MIT  \n",
       "15                                      dean  \n",
       "16                                       MIT  \n",
       "17                          Cynthia Breazeal  \n",
       "18     Massachusetts Institute of Technology  \n",
       "19                          Cynthia Breazeal  \n",
       "20                                  Bachelor  "
      ]
     },
     "execution_count": 98,
     "metadata": {},
     "output_type": "execute_result"
    }
   ],
   "source": [
    "stanford1"
   ]
  },
  {
   "cell_type": "code",
   "execution_count": 99,
   "id": "7bbe1e5b",
   "metadata": {},
   "outputs": [],
   "source": [
    "# Add entities in the format of dictionary to match format of kb\n",
    "def format_data(ent):\n",
    "    \n",
    "    # url and summary leave as blanks as they are not necessary\n",
    "    entity_data = {\n",
    "        \"title\" :ent,\n",
    "        \"url\"   :\"\",\n",
    "        \"summary\":\"\"\n",
    "    }\n",
    "    return entity_data"
   ]
  },
  {
   "cell_type": "code",
   "execution_count": 100,
   "id": "74679d87",
   "metadata": {},
   "outputs": [],
   "source": [
    "# Add entities into the kb\n",
    "def add_stanford_entity(kb, df):\n",
    "     # Remove duplicate lists\n",
    "    entity_list = list(set(pd.concat([df['head'], df['tail']]).tolist()))\n",
    "    entities = [format_data(ent) for ent in entity_list]\n",
    "    \n",
    "    if any(ent is None for ent in entities):\n",
    "        return\n",
    "    \n",
    "    # Add entities into kb \n",
    "    for e in entities:\n",
    "        kb.add_entity(e)"
   ]
  },
  {
   "cell_type": "markdown",
   "id": "cd95abe9",
   "metadata": {},
   "source": [
    "## Using entities and relations from Stanford CoreNLP and extend previous kb"
   ]
  },
  {
   "cell_type": "code",
   "execution_count": 101,
   "id": "02521e12",
   "metadata": {},
   "outputs": [],
   "source": [
    "# increment kb from rebel\n",
    "kb = load_kb(\"C:/Users/jingy/OneDrive/Desktop/xmum_mjy/year 3 sem II/NLP/assignment2/kb/Cynthia Breazeal2.kb\")\n",
    "\n",
    "# convert the data into a dictionary\n",
    "stanford1_dict = stanford1.to_dict(orient='records')\n",
    "# add relations into kb from the dictionary\n",
    "kb.relations.extend(stanford1_dict)\n",
    "\n",
    "# add entities that are present in the relations\n",
    "add_stanford_entity(kb, stanford1)\n",
    "\n",
    "filename = \"Cynthia Breazeal_stanford1\"\n",
    "save_kb(kb, filename + \".kb\")"
   ]
  },
  {
   "cell_type": "code",
   "execution_count": 102,
   "id": "78bc6431",
   "metadata": {},
   "outputs": [
    {
     "name": "stdout",
     "output_type": "stream",
     "text": [
      "Entities extracted using StanfordCoreNLP + REBEL on first text file\n",
      "-------------------------------------------------\n",
      "cynthia breazeal\n",
      "2012\n",
      "personal assistant robot\n",
      "university of california, santa barbara\n",
      "massachusetts institute of technology\n",
      "mit museum\n",
      "Kismet\n",
      "Media Lab\n",
      "Media Arts and Sciences\n",
      "living with AI\n",
      "artificial intelligence\n",
      "\"living with AI\"\n",
      "Cynthia Breazeal's\n",
      "50 Best Inventions of 2008\n",
      "time (magazine)\n",
      "50 Best Inventions\n",
      "2008\n",
      "Mabu\n",
      "Catalia Health\n",
      "cooper hewitt, smithsonian design museum\n",
      "smithsonian institution\n",
      "cyberflora\n",
      "c-3po\n",
      "anthony daniels\n",
      "SARS-CoV2 pandemic\n",
      "2020\n",
      "innovators under 35\n",
      "mit technology review\n",
      "December 15, 2017\n",
      "Jibo Inc.\n",
      "Gilbreth Lectures Award\n",
      "national academy of engineering\n",
      "25 Best Inventions of 2017\n",
      "Best Inventions of 2017\n",
      "George R. Stibitz Computer & Communications Pioneer Award\n",
      "entrepeneur\n",
      "American\n",
      "Personal Robotics\n",
      "director\n",
      "MIT Quest for Intelligence\n",
      "sientist\n",
      "MIT\n",
      "Massachusetts Institute of Technology\n",
      "Cynthia Breazeal\n",
      "Bachelor\n",
      "dean\n",
      "University of California , Santa Barbara\n",
      "professor\n"
     ]
    }
   ],
   "source": [
    "print(\"Entities extracted using StanfordCoreNLP + REBEL on first text file\")\n",
    "print(\"-------------------------------------------------\")\n",
    "for e in kb.entities:\n",
    "    print(e)"
   ]
  },
  {
   "cell_type": "code",
   "execution_count": 103,
   "id": "1c1684eb",
   "metadata": {},
   "outputs": [
    {
     "name": "stdout",
     "output_type": "stream",
     "text": [
      "Relations extracted using StanfordCoreNLP + REBEL on first text file\n",
      "-------------------------------------------------\n",
      "{'head': 'cynthia breazeal', 'type': 'inception', 'tail': '2012', 'meta': {'': {'spans': [[0, 128]]}}}\n",
      "{'head': 'cynthia breazeal', 'type': 'founded by', 'tail': 'cynthia breazeal', 'meta': {'': {'spans': [[0, 128]]}}}\n",
      "{'head': 'cynthia breazeal', 'type': 'instance of', 'tail': 'personal assistant robot', 'meta': {'': {'spans': [[0, 128]]}}}\n",
      "{'head': 'cynthia breazeal', 'type': 'educated at', 'tail': 'university of california, santa barbara', 'meta': {'': {'spans': [[114, 242]]}}}\n",
      "{'head': 'cynthia breazeal', 'type': 'educated at', 'tail': 'massachusetts institute of technology', 'meta': {'': {'spans': [[114, 242], [570, 698]]}}}\n",
      "{'head': 'cynthia breazeal', 'type': 'has works in the collection', 'tail': 'mit museum', 'meta': {'': {'spans': [[228, 356]]}}}\n",
      "{'head': 'Kismet', 'type': 'designed by', 'tail': 'cynthia breazeal', 'meta': {'': {'spans': [[228, 356], [0, 128]]}}}\n",
      "{'head': 'massachusetts institute of technology', 'type': 'subsidiary', 'tail': 'Media Lab', 'meta': {'': {'spans': [[342, 470]]}}}\n",
      "{'head': 'Media Lab', 'type': 'part of', 'tail': 'massachusetts institute of technology', 'meta': {'': {'spans': [[342, 470]]}}}\n",
      "{'head': 'Media Arts and Sciences', 'type': 'part of', 'tail': 'massachusetts institute of technology', 'meta': {'': {'spans': [[342, 470]]}}}\n",
      "{'head': 'massachusetts institute of technology', 'type': 'subsidiary', 'tail': 'Media Arts and Sciences', 'meta': {'': {'spans': [[342, 470]]}}}\n",
      "{'head': 'cynthia breazeal', 'type': 'employer', 'tail': 'massachusetts institute of technology', 'meta': {'': {'spans': [[342, 470], [570, 698]]}}}\n",
      "{'head': 'cynthia breazeal', 'type': 'field of work', 'tail': 'living with AI', 'meta': {'': {'spans': [[456, 584]]}}}\n",
      "{'head': 'cynthia breazeal', 'type': 'field of work', 'tail': 'artificial intelligence', 'meta': {'': {'spans': [[456, 584]]}}}\n",
      "{'head': 'cynthia breazeal', 'type': 'field of work', 'tail': '\"living with AI\"', 'meta': {'': {'spans': [[456, 584]]}}}\n",
      "{'head': 'Kismet', 'type': 'creator', 'tail': 'cynthia breazeal', 'meta': {'': {'spans': [[0, 128]]}}}\n",
      "{'head': 'Kismet', 'type': 'creator', 'tail': \"Cynthia Breazeal's\", 'meta': {'': {'spans': [[0, 128]]}}}\n",
      "{'head': '50 Best Inventions of 2008', 'type': 'conferred by', 'tail': 'time (magazine)', 'meta': {'': {'spans': [[112, 240]]}}}\n",
      "{'head': '50 Best Inventions', 'type': 'conferred by', 'tail': 'time (magazine)', 'meta': {'': {'spans': [[112, 240]]}}}\n",
      "{'head': '50 Best Inventions of 2008', 'type': 'point in time', 'tail': '2008', 'meta': {'': {'spans': [[112, 240]]}}}\n",
      "{'head': 'Mabu', 'type': 'developer', 'tail': 'Catalia Health', 'meta': {'': {'spans': [[224, 352]]}}}\n",
      "{'head': 'Mabu', 'type': 'owned by', 'tail': 'Catalia Health', 'meta': {'': {'spans': [[224, 352]]}}}\n",
      "{'head': 'Mabu', 'type': 'manufacturer', 'tail': 'Catalia Health', 'meta': {'': {'spans': [[224, 352]]}}}\n",
      "{'head': 'cooper hewitt, smithsonian design museum', 'type': 'parent organization', 'tail': 'smithsonian institution', 'meta': {'': {'spans': [[336, 464]]}}}\n",
      "{'head': 'smithsonian institution', 'type': 'subsidiary', 'tail': 'cooper hewitt, smithsonian design museum', 'meta': {'': {'spans': [[336, 464]]}}}\n",
      "{'head': 'cyberflora', 'type': 'creator', 'tail': 'cynthia breazeal', 'meta': {'': {'spans': [[336, 464]]}}}\n",
      "{'head': 'c-3po', 'type': 'performer', 'tail': 'anthony daniels', 'meta': {'': {'spans': [[448, 576]]}}}\n",
      "{'head': 'SARS-CoV2 pandemic', 'type': 'point in time', 'tail': '2020', 'meta': {'': {'spans': [[448, 576], [560, 688]]}}}\n",
      "{'head': 'innovators under 35', 'type': 'conferred by', 'tail': 'mit technology review', 'meta': {'': {'spans': [[448, 576]]}}}\n",
      "{'head': 'cynthia breazeal', 'type': 'developer', 'tail': 'cynthia breazeal', 'meta': {'': {'spans': [[560, 688]]}}}\n",
      "{'head': 'cynthia breazeal', 'type': 'creator', 'tail': 'cynthia breazeal', 'meta': {'': {'spans': [[560, 688]]}}}\n",
      "{'head': 'cynthia breazeal', 'type': 'dissolved, abolished or demolished date', 'tail': 'December 15, 2017', 'meta': {'': {'spans': [[672, 800]]}}}\n",
      "{'head': 'Jibo Inc.', 'type': 'dissolved, abolished or demolished date', 'tail': 'December 15, 2017', 'meta': {'': {'spans': [[672, 800]]}}}\n",
      "{'head': 'Gilbreth Lectures Award', 'type': 'conferred by', 'tail': 'national academy of engineering', 'meta': {'': {'spans': [[784, 912]]}}}\n",
      "{'head': 'cynthia breazeal', 'type': 'award received', 'tail': 'Gilbreth Lectures Award', 'meta': {'': {'spans': [[784, 912]]}}}\n",
      "{'head': '25 Best Inventions of 2017', 'type': 'conferred by', 'tail': 'time (magazine)', 'meta': {'': {'spans': [[896, 1024]]}}}\n",
      "{'head': 'Best Inventions of 2017', 'type': 'conferred by', 'tail': 'time (magazine)', 'meta': {'': {'spans': [[896, 1024]]}}}\n",
      "{'head': 'cynthia breazeal', 'type': 'award received', 'tail': 'George R. Stibitz Computer & Communications Pioneer Award', 'meta': {'': {'spans': [[896, 1024]]}}}\n",
      "{'head': 'Cynthia Breazeal', 'type': 'Origin', 'tail': 'American'}\n",
      "{'head': 'Cynthia Breazeal', 'type': 'title', 'tail': 'sientist'}\n",
      "{'head': 'Cynthia Breazeal', 'type': 'title', 'tail': 'entrepeneur'}\n",
      "{'head': 'Cynthia Breazeal', 'type': 'title', 'tail': 'professor'}\n",
      "{'head': 'Cynthia Breazeal', 'type': 'schools_attended', 'tail': 'University of California , Santa Barbara'}\n",
      "{'head': 'Media Arts and Sciences', 'type': 'top_members_employees', 'tail': 'Cynthia Breazeal'}\n",
      "{'head': 'Cynthia Breazeal', 'type': 'employee_or_member_of', 'tail': 'MIT'}\n",
      "{'head': 'Cynthia Breazeal', 'type': 'employee_or_member_of', 'tail': 'Media Lab'}\n",
      "{'head': 'Media Lab', 'type': 'top_members_employees', 'tail': 'Cynthia Breazeal'}\n",
      "{'head': 'Personal Robotics', 'type': 'top_members_employees', 'tail': 'Cynthia Breazeal'}\n",
      "{'head': 'Cynthia Breazeal', 'type': 'title', 'tail': 'director'}\n",
      "{'head': 'Cynthia Breazeal', 'type': 'employee_or_member_of', 'tail': 'Media Arts and Sciences'}\n",
      "{'head': 'Cynthia Breazeal', 'type': 'employee_or_member_of', 'tail': 'Personal Robotics'}\n",
      "{'head': 'Cynthia Breazeal', 'type': 'employee_or_member_of', 'tail': 'MIT Quest for Intelligence'}\n",
      "{'head': 'Massachusetts Institute of Technology', 'type': 'alternate_names', 'tail': 'MIT'}\n",
      "{'head': 'Cynthia Breazeal', 'type': 'title', 'tail': 'dean'}\n",
      "{'head': 'Cynthia Breazeal', 'type': 'employee_or_member_of', 'tail': 'MIT'}\n",
      "{'head': 'Massachusetts Institute of Technology', 'type': 'top_members_employees', 'tail': 'Cynthia Breazeal'}\n",
      "{'head': 'Cynthia Breazeal', 'type': 'employee_or_member_of', 'tail': 'Massachusetts Institute of Technology'}\n",
      "{'head': 'MIT', 'type': 'top_members_employees', 'tail': 'Cynthia Breazeal'}\n",
      "{'head': 'Cynthia Breazeal', 'type': 'title', 'tail': 'Bachelor'}\n"
     ]
    }
   ],
   "source": [
    "print(\"Relations extracted using StanfordCoreNLP + REBEL on first text file\")\n",
    "print(\"-------------------------------------------------\")\n",
    "for r in kb.relations:\n",
    "    print(r)"
   ]
  },
  {
   "cell_type": "markdown",
   "id": "726d43d1",
   "metadata": {},
   "source": [
    "There a total of 13 newly extracted entities and 21 new relations"
   ]
  },
  {
   "cell_type": "code",
   "execution_count": 104,
   "id": "ca31e20f",
   "metadata": {},
   "outputs": [],
   "source": [
    "kb = load_kb(\"C:/Users/jingy/OneDrive/Desktop/xmum_mjy/year 3 sem II/NLP/assignment2/kb/Cynthia Breazeal_stanford1.kb\")\n",
    "\n",
    "# convert the data into a dictionary\n",
    "stanford2_dict = stanford2.to_dict(orient='records')\n",
    "# add relations into kb from the dictionary\n",
    "kb.relations.extend(stanford2_dict)\n",
    "\n",
    "# add entities that are present in the relations\n",
    "add_stanford_entity(kb, stanford2)\n",
    "\n",
    "filename = \"Cynthia Breazeal_stanford2\"\n",
    "save_kb(kb, filename + \".kb\")"
   ]
  },
  {
   "cell_type": "code",
   "execution_count": 105,
   "id": "571dc646",
   "metadata": {},
   "outputs": [
    {
     "name": "stdout",
     "output_type": "stream",
     "text": [
      "Entities extracted using REBEL after incrementing with second text file\n",
      "-------------------------------------------------\n",
      "cynthia breazeal\n",
      "2012\n",
      "personal assistant robot\n",
      "university of california, santa barbara\n",
      "massachusetts institute of technology\n",
      "mit museum\n",
      "Kismet\n",
      "Media Lab\n",
      "Media Arts and Sciences\n",
      "living with AI\n",
      "artificial intelligence\n",
      "\"living with AI\"\n",
      "Cynthia Breazeal's\n",
      "50 Best Inventions of 2008\n",
      "time (magazine)\n",
      "50 Best Inventions\n",
      "2008\n",
      "Mabu\n",
      "Catalia Health\n",
      "cooper hewitt, smithsonian design museum\n",
      "smithsonian institution\n",
      "cyberflora\n",
      "c-3po\n",
      "anthony daniels\n",
      "SARS-CoV2 pandemic\n",
      "2020\n",
      "innovators under 35\n",
      "mit technology review\n",
      "December 15, 2017\n",
      "Jibo Inc.\n",
      "Gilbreth Lectures Award\n",
      "national academy of engineering\n",
      "25 Best Inventions of 2017\n",
      "Best Inventions of 2017\n",
      "George R. Stibitz Computer & Communications Pioneer Award\n",
      "entrepeneur\n",
      "American\n",
      "Personal Robotics\n",
      "director\n",
      "MIT Quest for Intelligence\n",
      "sientist\n",
      "MIT\n",
      "Massachusetts Institute of Technology\n",
      "Cynthia Breazeal\n",
      "Bachelor\n",
      "dean\n",
      "University of California , Santa Barbara\n",
      "professor\n",
      "Coach\n",
      "Time magazine\n",
      "scientist\n",
      "Cory Kidd \n",
      "MIT Technology Review\n",
      "consultant\n",
      "top_members_employees\n",
      "Fortune magazine\n",
      "entrepreneur\n",
      "assistant\n"
     ]
    }
   ],
   "source": [
    "print(\"Entities extracted using REBEL after incrementing with second text file\")\n",
    "print(\"-------------------------------------------------\")\n",
    "for e in kb.entities:\n",
    "    print(e)"
   ]
  },
  {
   "cell_type": "code",
   "execution_count": 86,
   "id": "675d3238",
   "metadata": {},
   "outputs": [
    {
     "name": "stdout",
     "output_type": "stream",
     "text": [
      "Relations extracted using REBEL after incrementing with second text file\n",
      "-------------------------------------------------\n",
      "{'head': 'cynthia breazeal', 'type': 'inception', 'tail': '2012', 'meta': {'': {'spans': [[0, 128]]}}}\n",
      "{'head': 'cynthia breazeal', 'type': 'founded by', 'tail': 'cynthia breazeal', 'meta': {'': {'spans': [[0, 128]]}}}\n",
      "{'head': 'cynthia breazeal', 'type': 'instance of', 'tail': 'personal assistant robot', 'meta': {'': {'spans': [[0, 128]]}}}\n",
      "{'head': 'cynthia breazeal', 'type': 'educated at', 'tail': 'university of california, santa barbara', 'meta': {'': {'spans': [[114, 242]]}}}\n",
      "{'head': 'cynthia breazeal', 'type': 'educated at', 'tail': 'massachusetts institute of technology', 'meta': {'': {'spans': [[114, 242], [570, 698]]}}}\n",
      "{'head': 'cynthia breazeal', 'type': 'has works in the collection', 'tail': 'mit museum', 'meta': {'': {'spans': [[228, 356]]}}}\n",
      "{'head': 'Kismet', 'type': 'designed by', 'tail': 'cynthia breazeal', 'meta': {'': {'spans': [[228, 356], [0, 128]]}}}\n",
      "{'head': 'massachusetts institute of technology', 'type': 'subsidiary', 'tail': 'Media Lab', 'meta': {'': {'spans': [[342, 470]]}}}\n",
      "{'head': 'Media Lab', 'type': 'part of', 'tail': 'massachusetts institute of technology', 'meta': {'': {'spans': [[342, 470]]}}}\n",
      "{'head': 'Media Arts and Sciences', 'type': 'part of', 'tail': 'massachusetts institute of technology', 'meta': {'': {'spans': [[342, 470]]}}}\n",
      "{'head': 'massachusetts institute of technology', 'type': 'subsidiary', 'tail': 'Media Arts and Sciences', 'meta': {'': {'spans': [[342, 470]]}}}\n",
      "{'head': 'cynthia breazeal', 'type': 'employer', 'tail': 'massachusetts institute of technology', 'meta': {'': {'spans': [[342, 470], [570, 698]]}}}\n",
      "{'head': 'cynthia breazeal', 'type': 'field of work', 'tail': 'living with AI', 'meta': {'': {'spans': [[456, 584]]}}}\n",
      "{'head': 'cynthia breazeal', 'type': 'field of work', 'tail': 'artificial intelligence', 'meta': {'': {'spans': [[456, 584]]}}}\n",
      "{'head': 'cynthia breazeal', 'type': 'field of work', 'tail': '\"living with AI\"', 'meta': {'': {'spans': [[456, 584]]}}}\n",
      "{'head': 'Kismet', 'type': 'creator', 'tail': 'cynthia breazeal', 'meta': {'': {'spans': [[0, 128]]}}}\n",
      "{'head': 'Kismet', 'type': 'creator', 'tail': \"Cynthia Breazeal's\", 'meta': {'': {'spans': [[0, 128]]}}}\n",
      "{'head': '50 Best Inventions of 2008', 'type': 'conferred by', 'tail': 'time (magazine)', 'meta': {'': {'spans': [[112, 240]]}}}\n",
      "{'head': '50 Best Inventions', 'type': 'conferred by', 'tail': 'time (magazine)', 'meta': {'': {'spans': [[112, 240]]}}}\n",
      "{'head': '50 Best Inventions of 2008', 'type': 'point in time', 'tail': '2008', 'meta': {'': {'spans': [[112, 240]]}}}\n",
      "{'head': 'Mabu', 'type': 'developer', 'tail': 'Catalia Health', 'meta': {'': {'spans': [[224, 352]]}}}\n",
      "{'head': 'Mabu', 'type': 'owned by', 'tail': 'Catalia Health', 'meta': {'': {'spans': [[224, 352]]}}}\n",
      "{'head': 'Mabu', 'type': 'manufacturer', 'tail': 'Catalia Health', 'meta': {'': {'spans': [[224, 352]]}}}\n",
      "{'head': 'cooper hewitt, smithsonian design museum', 'type': 'parent organization', 'tail': 'smithsonian institution', 'meta': {'': {'spans': [[336, 464]]}}}\n",
      "{'head': 'smithsonian institution', 'type': 'subsidiary', 'tail': 'cooper hewitt, smithsonian design museum', 'meta': {'': {'spans': [[336, 464]]}}}\n",
      "{'head': 'cyberflora', 'type': 'creator', 'tail': 'cynthia breazeal', 'meta': {'': {'spans': [[336, 464]]}}}\n",
      "{'head': 'c-3po', 'type': 'performer', 'tail': 'anthony daniels', 'meta': {'': {'spans': [[448, 576]]}}}\n",
      "{'head': 'SARS-CoV2 pandemic', 'type': 'point in time', 'tail': '2020', 'meta': {'': {'spans': [[448, 576], [560, 688]]}}}\n",
      "{'head': 'innovators under 35', 'type': 'conferred by', 'tail': 'mit technology review', 'meta': {'': {'spans': [[448, 576]]}}}\n",
      "{'head': 'cynthia breazeal', 'type': 'developer', 'tail': 'cynthia breazeal', 'meta': {'': {'spans': [[560, 688]]}}}\n",
      "{'head': 'cynthia breazeal', 'type': 'creator', 'tail': 'cynthia breazeal', 'meta': {'': {'spans': [[560, 688]]}}}\n",
      "{'head': 'cynthia breazeal', 'type': 'dissolved, abolished or demolished date', 'tail': 'December 15, 2017', 'meta': {'': {'spans': [[672, 800]]}}}\n",
      "{'head': 'Jibo Inc.', 'type': 'dissolved, abolished or demolished date', 'tail': 'December 15, 2017', 'meta': {'': {'spans': [[672, 800]]}}}\n",
      "{'head': 'Gilbreth Lectures Award', 'type': 'conferred by', 'tail': 'national academy of engineering', 'meta': {'': {'spans': [[784, 912]]}}}\n",
      "{'head': 'cynthia breazeal', 'type': 'award received', 'tail': 'Gilbreth Lectures Award', 'meta': {'': {'spans': [[784, 912]]}}}\n",
      "{'head': '25 Best Inventions of 2017', 'type': 'conferred by', 'tail': 'time (magazine)', 'meta': {'': {'spans': [[896, 1024]]}}}\n",
      "{'head': 'Best Inventions of 2017', 'type': 'conferred by', 'tail': 'time (magazine)', 'meta': {'': {'spans': [[896, 1024]]}}}\n",
      "{'head': 'cynthia breazeal', 'type': 'award received', 'tail': 'George R. Stibitz Computer & Communications Pioneer Award', 'meta': {'': {'spans': [[896, 1024]]}}}\n",
      "{'head': 'Cynthia Breazeal', 'type': 'Origin', 'tail': 'American'}\n",
      "{'head': 'Cynthia Breazeal', 'type': 'title', 'tail': 'sientist'}\n",
      "{'head': 'Cynthia Breazeal', 'type': 'title', 'tail': 'entrepeneur'}\n",
      "{'head': 'Cynthia Breazeal', 'type': 'title', 'tail': 'professor'}\n",
      "{'head': 'Cynthia Breazeal', 'type': 'schools_attended', 'tail': 'University of California , Santa Barbara'}\n",
      "{'head': 'Media Arts and Sciences', 'type': 'top_members_employees', 'tail': 'Cynthia Breazeal'}\n",
      "{'head': 'Cynthia Breazeal', 'type': 'employee_or_member_of', 'tail': 'MIT'}\n",
      "{'head': 'Cynthia Breazeal', 'type': 'employee_or_member_of', 'tail': 'Media Lab'}\n",
      "{'head': 'Media Lab', 'type': 'top_members_employees', 'tail': 'Cynthia Breazeal'}\n",
      "{'head': 'Personal Robotics', 'type': 'top_members_employees', 'tail': 'Cynthia Breazeal'}\n",
      "{'head': 'Cynthia Breazeal', 'type': 'title', 'tail': 'director'}\n",
      "{'head': 'Cynthia Breazeal', 'type': 'employee_or_member_of', 'tail': 'Media Arts and Sciences'}\n",
      "{'head': 'Cynthia Breazeal', 'type': 'employee_or_member_of', 'tail': 'Personal Robotics'}\n",
      "{'head': 'Cynthia Breazeal', 'type': 'employee_or_member_of', 'tail': 'MIT Quest for Intelligence'}\n",
      "{'head': 'Massachusetts Institute of Technology', 'type': 'alternate_names', 'tail': 'MIT'}\n",
      "{'head': 'Cynthia Breazeal', 'type': 'title', 'tail': 'dean'}\n",
      "{'head': 'Cynthia Breazeal', 'type': 'employee_or_member_of', 'tail': 'MIT'}\n",
      "{'head': 'Massachusetts Institute of Technology', 'type': 'top_members_employees', 'tail': 'Cynthia Breazeal'}\n",
      "{'head': 'Cynthia Breazeal', 'type': 'employee_or_member_of', 'tail': 'Massachusetts Institute of Technology'}\n",
      "{'head': 'MIT', 'type': 'top_members_employees', 'tail': 'Cynthia Breazeal'}\n",
      "{'head': 'Cynthia Breazeal', 'type': 'title', 'tail': 'Bachelor'}\n",
      "{'head': 'Cory Kidd ', 'type': 'title', 'tail': 'Coach'}\n",
      "{'head': 'Mabu', 'type': 'employee_or_member_of', 'tail': 'Catalia Health'}\n",
      "{'head': 'Cynthia Breazeal', 'type': 'title', 'tail': 'consultant'}\n",
      "{'head': 'Cynthia Breazeal', 'type': 'employee_or_member_of', 'tail': 'MIT Technology Review'}\n",
      "{'head': 'Cynthia Breazeal', 'type': 'title', 'tail': 'assistant'}\n",
      "{'head': 'Cynthia Breazeal', 'type': 'title', 'tail': 'scientist'}\n",
      "{'head': 'Cynthia Breazeal', 'type': 'employee_or_member_of', 'tail': 'Time magazine'}\n",
      "{'head': 'top_members_employees', 'type': 'employee_or_member_of', 'tail': 'Cynthia Breazeal'}\n",
      "{'head': 'Cynthia Breazeal', 'type': 'title', 'tail': 'entrepreneur'}\n",
      "{'head': 'Cynthia Breazeal', 'type': 'employee_or_member_of', 'tail': 'Fortune magazine'}\n"
     ]
    }
   ],
   "source": [
    "print(\"Relations extracted using REBEL after incrementing with second text file\")\n",
    "print(\"-------------------------------------------------\")\n",
    "for r in kb.relations:\n",
    "    print(r)"
   ]
  },
  {
   "cell_type": "markdown",
   "id": "079dfcd5",
   "metadata": {},
   "source": [
    "There are 10 new entities and 10 relations extracted "
   ]
  },
  {
   "cell_type": "markdown",
   "id": "da608abf",
   "metadata": {},
   "source": [
    "# REBEL + StanfordcoreNLP Knowledge Graph"
   ]
  },
  {
   "cell_type": "code",
   "execution_count": 106,
   "id": "9a774e0c",
   "metadata": {},
   "outputs": [],
   "source": [
    "#load saved Named Entities and Relations (in kb file) from the KG_Construction.ipynb Jupyter Notebook\n",
    "kb3 = load_kb(\"C:/Users/jingy/OneDrive/Desktop/xmum_mjy/year 3 sem II/NLP/assignment2/kb/Cynthia Breazeal_stanford1.kb\")\n",
    "kb4 = load_kb(\"C:/Users/jingy/OneDrive/Desktop/xmum_mjy/year 3 sem II/NLP/assignment2/kb/Cynthia Breazeal_stanford2.kb\")"
   ]
  },
  {
   "cell_type": "code",
   "execution_count": 113,
   "id": "7bcc38f0",
   "metadata": {},
   "outputs": [
    {
     "name": "stdout",
     "output_type": "stream",
     "text": [
      "Local cdn resources have problems on chrome/safari when used in jupyter-notebook. \n"
     ]
    },
    {
     "data": {
      "text/html": [
       "\n",
       "        <iframe\n",
       "            width=\"1200px\"\n",
       "            height=\"1000px\"\n",
       "            src=\"Cynthia Breazeal_Stanford1.html\"\n",
       "            frameborder=\"0\"\n",
       "            allowfullscreen\n",
       "            \n",
       "        ></iframe>\n",
       "        "
      ],
      "text/plain": [
       "<IPython.lib.display.IFrame at 0x1f993c20820>"
      ]
     },
     "execution_count": 113,
     "metadata": {},
     "output_type": "execute_result"
    }
   ],
   "source": [
    "#construct graph from the saved Named Entities and Relations (in kb file)\n",
    "#construct graph from the saved Named Entities and Relations (in kb file)\n",
    "net3 = Network(\n",
    "    directed=True, \n",
    "    width=\"1200px\", \n",
    "    height=\"1000px\", \n",
    "    bgcolor=\"#FFFFFF\",\n",
    "    notebook=True,\n",
    "    )\n",
    "    \n",
    "# nodes\n",
    "color_entity = \"#00FF00\"\n",
    "for e in kb3.entities:\n",
    "    net3.add_node(e)\n",
    "\n",
    "#edges\n",
    "for r in kb3.relations:\n",
    "    net3.add_edge(r[\"head\"], r[\"tail\"], title=r[\"type\"], label=r[\"type\"])\n",
    "\n",
    "net3.repulsion(\n",
    "    node_distance=230,\n",
    "    damping=0.01\n",
    "    )\n",
    "\n",
    "net3.set_edge_smooth('dynamic')   \n",
    "net3.show('Cynthia Breazeal_Stanford1.html') #saved the graph html file to the same directory as this Jupyter Notebook"
   ]
  },
  {
   "cell_type": "code",
   "execution_count": 114,
   "id": "9496da21",
   "metadata": {},
   "outputs": [
    {
     "name": "stdout",
     "output_type": "stream",
     "text": [
      "Local cdn resources have problems on chrome/safari when used in jupyter-notebook. \n"
     ]
    },
    {
     "data": {
      "text/html": [
       "\n",
       "        <iframe\n",
       "            width=\"1200px\"\n",
       "            height=\"1000px\"\n",
       "            src=\"Cynthia Breazeal_stanford2.html\"\n",
       "            frameborder=\"0\"\n",
       "            allowfullscreen\n",
       "            \n",
       "        ></iframe>\n",
       "        "
      ],
      "text/plain": [
       "<IPython.lib.display.IFrame at 0x1f993c26d90>"
      ]
     },
     "execution_count": 114,
     "metadata": {},
     "output_type": "execute_result"
    }
   ],
   "source": [
    "#construct graph from the saved Named Entities and Relations (in kb file)\n",
    "net4 = Network(\n",
    "    directed=True, \n",
    "    width=\"1200px\", \n",
    "    height=\"1000px\", \n",
    "    bgcolor=\"#FFFFFF\",\n",
    "    notebook=True,\n",
    "    )\n",
    "\n",
    "# nodes\n",
    "color_entity = \"#00FF00\"\n",
    "for e in kb4.entities:\n",
    "    net4.add_node(e)\n",
    "\n",
    "\n",
    "#edges\n",
    "for r in kb4.relations:\n",
    "    net4.add_edge(r[\"head\"], r[\"tail\"], title=r[\"type\"], label=r[\"type\"])\n",
    "\n",
    "\n",
    "net4.repulsion(\n",
    "    node_distance=230,\n",
    "    damping=0.01\n",
    "    )\n",
    "\n",
    "net4.set_edge_smooth('dynamic')\n",
    "net4.show('Cynthia Breazeal_stanford2.html') #saved the graph html file to the same directory as this Jupyter Notebook"
   ]
  },
  {
   "cell_type": "markdown",
   "id": "99ec92dd",
   "metadata": {},
   "source": [
    "# Save to Neo4j"
   ]
  },
  {
   "cell_type": "code",
   "execution_count": 115,
   "id": "8d077cfd",
   "metadata": {},
   "outputs": [],
   "source": [
    "#save the Knowledge Graph to neo4j\n",
    "#install neo4j from the anaconda prompt with: pip install neo4j\n",
    "#study the neo4j with pyhton https://neo4j.com/docs/python-manual/current/\n",
    "from neo4j import GraphDatabase\n",
    "\n",
    "def save_kb_to_neo4j(kb, uri, username, password):\n",
    "    # Connect to Neo4j database\n",
    "    driver = GraphDatabase.driver(uri, auth=(username, password))\n",
    "    with driver.session() as session:\n",
    "        # Create entities\n",
    "        for entity_title, entity_data in kb.entities.items():\n",
    "            entity = {\n",
    "                \"title\": entity_title,\n",
    "                \"url\": entity_data.get(\"url\", \"\"),\n",
    "                \"summary\": entity_data.get(\"summary\", \"\")\n",
    "            }\n",
    "            session.run(\n",
    "                \"MERGE (e:Entity {title: $title}) \"\n",
    "                \"SET e.url = $url, e.summary = $summary\",\n",
    "                entity\n",
    "            )\n",
    "\n",
    "        # Create relations\n",
    "        for relation in kb.relations:\n",
    "            head = relation[\"head\"]\n",
    "            tail = relation[\"tail\"]\n",
    "            relation_type = relation[\"type\"]\n",
    "            session.run(\n",
    "                \"MATCH (h:Entity {title: $head}), (t:Entity {title: $tail}) \"\n",
    "                \"MERGE (h)-[r:RELATION {type: $type}]->(t)\",\n",
    "                {\"head\": head, \"tail\": tail, \"type\": relation_type}\n",
    "            )\n",
    "\n",
    "    # Close the connection\n",
    "    driver.close()\n",
    "    print(\"KB saved to Neo4j successfully.\")"
   ]
  },
  {
   "cell_type": "code",
   "execution_count": 116,
   "id": "c49c5817",
   "metadata": {},
   "outputs": [
    {
     "name": "stdout",
     "output_type": "stream",
     "text": [
      "KB saved to Neo4j successfully.\n"
     ]
    }
   ],
   "source": [
    "neo4j_uri = \"bolt://localhost:7687\"  \n",
    "neo4j_username = \"majyneo4j\"  #the user id created in the Neo4j Desktop\n",
    "neo4j_password = \"majyneo4j444444\" #the password created based on the user id\n",
    "\n",
    "# Save KB to Neo4j\n",
    "save_kb_to_neo4j(kb4, neo4j_uri, neo4j_username, neo4j_password)"
   ]
  },
  {
   "cell_type": "markdown",
   "id": "62cab584",
   "metadata": {},
   "source": [
    "# Question Answering"
   ]
  },
  {
   "cell_type": "markdown",
   "id": "1a54873b",
   "metadata": {},
   "source": [
    "Download dependencies"
   ]
  },
  {
   "cell_type": "code",
   "execution_count": 44,
   "id": "36894e0d",
   "metadata": {
    "scrolled": true
   },
   "outputs": [
    {
     "name": "stdout",
     "output_type": "stream",
     "text": [
      "Requirement already satisfied: packaging==20.9 in c:\\users\\jingy\\anaconda3\\lib\\site-packages (20.9)\n",
      "Requirement already satisfied: pyparsing>=2.0.2 in c:\\users\\jingy\\anaconda3\\lib\\site-packages (from packaging==20.9) (3.0.9)\n",
      "Note: you may need to restart the kernel to use updated packages.\n"
     ]
    }
   ],
   "source": [
    "#pip install packaging==20.9"
   ]
  },
  {
   "cell_type": "code",
   "execution_count": 6,
   "id": "ed9692ec",
   "metadata": {
    "scrolled": true
   },
   "outputs": [
    {
     "name": "stderr",
     "output_type": "stream",
     "text": [
      "ERROR: pip's dependency resolver does not currently take into account all the packages that are installed. This behaviour is the source of the following dependency conflicts."
     ]
    },
    {
     "name": "stdout",
     "output_type": "stream",
     "text": [
      "Collecting pydantic==1.10.9"
     ]
    },
    {
     "name": "stderr",
     "output_type": "stream",
     "text": [
      "\n"
     ]
    },
    {
     "name": "stdout",
     "output_type": "stream",
     "text": [
      "\n",
      "Note: you may need to restart the kernel to use updated packages."
     ]
    },
    {
     "name": "stderr",
     "output_type": "stream",
     "text": [
      "rasa 3.8.0a12 requires prompt-toolkit<3.0.29,>=3.0, but you have prompt-toolkit 3.0.41 which is incompatible."
     ]
    },
    {
     "name": "stdout",
     "output_type": "stream",
     "text": [
      "  Using cached pydantic-1.10.9-cp39-cp39-win_amd64.whl.metadata (149 kB)"
     ]
    },
    {
     "name": "stderr",
     "output_type": "stream",
     "text": [
      "\n"
     ]
    },
    {
     "name": "stdout",
     "output_type": "stream",
     "text": [
      "\n",
      "\n",
      "Requirement already satisfied: typing-extensions>=4.2.0 in c:\\users\\jingy\\appdata\\roaming\\python\\python39\\site-packages (from pydantic==1.10.9) (4.8.0)\n",
      "Using cached pydantic-1.10.9-cp39-cp39-win_amd64.whl (2.2 MB)\n",
      "Installing collected packages: pydantic\n",
      "  Attempting uninstall: pydantic\n",
      "    Found existing installation: pydantic 2.4.0\n",
      "    Uninstalling pydantic-2.4.0:\n",
      "      Successfully uninstalled pydantic-2.4.0\n",
      "Successfully installed pydantic-1.10.9\n"
     ]
    }
   ],
   "source": [
    "pip install pydantic==1.10.9"
   ]
  },
  {
   "cell_type": "code",
   "execution_count": 5,
   "id": "f581a6f0",
   "metadata": {},
   "outputs": [],
   "source": [
    "import rasa"
   ]
  },
  {
   "cell_type": "markdown",
   "id": "760bfd86",
   "metadata": {},
   "source": [
    "# Train the RASA Model"
   ]
  },
  {
   "cell_type": "code",
   "execution_count": 6,
   "id": "a526fec8",
   "metadata": {},
   "outputs": [
    {
     "name": "stdout",
     "output_type": "stream",
     "text": [
      "No stories or flows present. Just a Rasa NLU model will be trained.\n"
     ]
    },
    {
     "name": "stderr",
     "output_type": "stream",
     "text": [
      "C:\\Users\\jingy\\AppData\\Roaming\\Python\\Python39\\site-packages\\rasa\\engine\\recipes\\recipe.py:35: FutureWarning: From Rasa Open Source 4.0.0 onwards it will be required to specify a recipe in your model configuration. Defaulting to recipe 'default.v1'.\n",
      "  rasa.shared.utils.io.raise_deprecation_warning(\n",
      "C:\\Users\\jingy\\anaconda3\\lib\\site-packages\\matplotlib\\__init__.py:152: DeprecationWarning: distutils Version classes are deprecated. Use packaging.version instead.\n",
      "  if LooseVersion(module.__version__) < minver:\n",
      "C:\\Users\\jingy\\anaconda3\\lib\\site-packages\\setuptools\\_distutils\\version.py:345: DeprecationWarning: distutils Version classes are deprecated. Use packaging.version instead.\n",
      "  other = LooseVersion(other)\n"
     ]
    },
    {
     "name": "stdout",
     "output_type": "stream",
     "text": [
      "2023-12-19 10:38:48 [debug    ] graph.node.loading_component   clazz=FingerprintComponent constructor=create kwargs={} node_name=run_WhitespaceTokenizer0\n",
      "2023-12-19 10:38:48 [debug    ] graph.node.loading_component   clazz=FingerprintComponent constructor=create kwargs={} node_name=train_RegexFeaturizer1\n",
      "2023-12-19 10:38:48 [debug    ] graph.node.loading_component   clazz=FingerprintComponent constructor=create kwargs={} node_name=run_RegexFeaturizer1\n",
      "2023-12-19 10:38:48 [debug    ] graph.node.loading_component   clazz=FingerprintComponent constructor=create kwargs={} node_name=train_LexicalSyntacticFeaturizer2\n",
      "2023-12-19 10:38:48 [debug    ] graph.node.loading_component   clazz=FingerprintComponent constructor=create kwargs={} node_name=run_LexicalSyntacticFeaturizer2\n",
      "2023-12-19 10:38:48 [debug    ] graph.node.loading_component   clazz=FingerprintComponent constructor=create kwargs={} node_name=train_CountVectorsFeaturizer3\n",
      "2023-12-19 10:38:48 [debug    ] graph.node.loading_component   clazz=FingerprintComponent constructor=create kwargs={} node_name=run_CountVectorsFeaturizer3\n",
      "2023-12-19 10:38:48 [debug    ] graph.node.loading_component   clazz=FingerprintComponent constructor=create kwargs={} node_name=train_CountVectorsFeaturizer4\n",
      "2023-12-19 10:38:48 [debug    ] graph.node.loading_component   clazz=FingerprintComponent constructor=create kwargs={} node_name=run_CountVectorsFeaturizer4\n",
      "2023-12-19 10:38:48 [debug    ] graph.node.loading_component   clazz=FingerprintComponent constructor=create kwargs={} node_name=train_DIETClassifier5\n",
      "2023-12-19 10:38:48 [debug    ] graph.node.loading_component   clazz=FingerprintComponent constructor=create kwargs={} node_name=train_EntitySynonymMapper6\n",
      "2023-12-19 10:38:48 [debug    ] graph.node.loading_component   clazz=FingerprintComponent constructor=create kwargs={} node_name=train_ResponseSelector7\n",
      "2023-12-19 10:38:48 [debug    ] graph.node.loading_component   clazz=DefaultV1RecipeValidator constructor=create kwargs={} node_name=schema_validator\n",
      "2023-12-19 10:38:48 [debug    ] graph.node.running_component   clazz=DefaultV1RecipeValidator fn=validate node_name=schema_validator\n",
      "2023-12-19 10:38:48 [debug    ] graph.node.loading_component   clazz=FinetuningValidator constructor=create kwargs={} node_name=finetuning_validator\n",
      "2023-12-19 10:38:48 [debug    ] graph.node.running_component   clazz=FinetuningValidator fn=validate node_name=finetuning_validator\n",
      "2023-12-19 10:38:48 [debug    ] graph.node.loading_component   clazz=FlowsProvider constructor=create kwargs={} node_name=flows_provider\n",
      "2023-12-19 10:38:48 [debug    ] graph.node.running_component   clazz=FlowsProvider fn=provide_train node_name=flows_provider\n",
      "2023-12-19 10:38:48 [debug    ] graph.node.loading_component   clazz=NLUTrainingDataProvider constructor=create kwargs={} node_name=nlu_training_data_provider\n",
      "2023-12-19 10:38:48 [debug    ] graph.node.running_component   clazz=NLUTrainingDataProvider fn=provide node_name=nlu_training_data_provider\n",
      "2023-12-19 10:38:48 [debug    ] graph.node.running_component   clazz=FingerprintComponent fn=run node_name=run_WhitespaceTokenizer0\n",
      "2023-12-19 10:38:48 [debug    ] graph.node.running_component   clazz=FingerprintComponent fn=run node_name=train_RegexFeaturizer1\n",
      "2023-12-19 10:38:48 [debug    ] graph.node.running_component   clazz=FingerprintComponent fn=run node_name=run_RegexFeaturizer1\n",
      "2023-12-19 10:38:48 [debug    ] graph.node.running_component   clazz=FingerprintComponent fn=run node_name=train_LexicalSyntacticFeaturizer2\n",
      "2023-12-19 10:38:48 [debug    ] graph.node.running_component   clazz=FingerprintComponent fn=run node_name=run_LexicalSyntacticFeaturizer2\n",
      "2023-12-19 10:38:48 [debug    ] graph.node.running_component   clazz=FingerprintComponent fn=run node_name=train_CountVectorsFeaturizer3\n",
      "2023-12-19 10:38:48 [debug    ] graph.node.running_component   clazz=FingerprintComponent fn=run node_name=run_CountVectorsFeaturizer3\n",
      "2023-12-19 10:38:48 [debug    ] graph.node.running_component   clazz=FingerprintComponent fn=run node_name=train_CountVectorsFeaturizer4\n",
      "2023-12-19 10:38:49 [debug    ] graph.node.running_component   clazz=FingerprintComponent fn=run node_name=run_CountVectorsFeaturizer4\n",
      "2023-12-19 10:38:49 [debug    ] graph.node.running_component   clazz=FingerprintComponent fn=run node_name=train_DIETClassifier5\n",
      "2023-12-19 10:38:49 [debug    ] graph.node.running_component   clazz=FingerprintComponent fn=run node_name=train_EntitySynonymMapper6\n",
      "2023-12-19 10:38:49 [debug    ] graph.node.running_component   clazz=FingerprintComponent fn=run node_name=train_ResponseSelector7\n",
      "2023-12-19 10:38:49 [debug    ] graph.node.hook.on_before_node hook_name=LoggingHook node_name=flows_provider\n",
      "2023-12-19 10:38:49 [debug    ] graph.node.hook.on_before_node hook_name=TrainingHook node_name=flows_provider\n",
      "2023-12-19 10:38:49 [debug    ] graph.node.loading_component   clazz=PrecomputedValueProvider constructor=create kwargs={} node_name=flows_provider\n",
      "2023-12-19 10:38:49 [debug    ] graph.node.running_component   clazz=PrecomputedValueProvider fn=get_value node_name=flows_provider\n",
      "2023-12-19 10:38:49 [debug    ] graph.node.hook.on_after_node  hook_name=LoggingHook node_name=flows_provider\n",
      "2023-12-19 10:38:49 [debug    ] graph.node.hook.on_after_node  hook_name=TrainingHook node_name=flows_provider\n",
      "2023-12-19 10:38:49 [debug    ] graph.node.hook.on_before_node hook_name=LoggingHook node_name=train_CountVectorsFeaturizer3\n",
      "2023-12-19 10:38:49 [debug    ] graph.node.hook.on_before_node hook_name=TrainingHook node_name=train_CountVectorsFeaturizer3\n",
      "2023-12-19 10:38:49 [debug    ] graph.node.loading_component   clazz=PrecomputedValueProvider constructor=create kwargs={} node_name=train_CountVectorsFeaturizer3\n",
      "2023-12-19 10:38:49 [debug    ] graph.node.running_component   clazz=PrecomputedValueProvider fn=get_value node_name=train_CountVectorsFeaturizer3\n",
      "2023-12-19 10:38:49 [debug    ] graph.node.hook.on_after_node  hook_name=LoggingHook node_name=train_CountVectorsFeaturizer3\n",
      "2023-12-19 10:38:49 [debug    ] graph.node.hook.on_after_node  hook_name=TrainingHook node_name=train_CountVectorsFeaturizer3\n",
      "2023-12-19 10:38:49 [debug    ] graph.node.hook.on_before_node hook_name=LoggingHook node_name=train_CountVectorsFeaturizer4\n",
      "2023-12-19 10:38:49 [debug    ] graph.node.hook.on_before_node hook_name=TrainingHook node_name=train_CountVectorsFeaturizer4\n",
      "2023-12-19 10:38:49 [debug    ] graph.node.loading_component   clazz=PrecomputedValueProvider constructor=create kwargs={} node_name=train_CountVectorsFeaturizer4\n",
      "2023-12-19 10:38:49 [debug    ] graph.node.running_component   clazz=PrecomputedValueProvider fn=get_value node_name=train_CountVectorsFeaturizer4\n",
      "2023-12-19 10:38:49 [debug    ] graph.node.hook.on_after_node  hook_name=LoggingHook node_name=train_CountVectorsFeaturizer4\n",
      "2023-12-19 10:38:49 [debug    ] graph.node.hook.on_after_node  hook_name=TrainingHook node_name=train_CountVectorsFeaturizer4\n",
      "2023-12-19 10:38:49 [debug    ] graph.node.hook.on_before_node hook_name=LoggingHook node_name=train_DIETClassifier5\n",
      "2023-12-19 10:38:49 [debug    ] graph.node.hook.on_before_node hook_name=TrainingHook node_name=train_DIETClassifier5\n",
      "2023-12-19 10:38:49 [debug    ] graph.node.loading_component   clazz=PrecomputedValueProvider constructor=create kwargs={} node_name=train_DIETClassifier5\n",
      "2023-12-19 10:38:49 [debug    ] graph.node.running_component   clazz=PrecomputedValueProvider fn=get_value node_name=train_DIETClassifier5\n",
      "2023-12-19 10:38:49 [debug    ] graph.node.hook.on_after_node  hook_name=LoggingHook node_name=train_DIETClassifier5\n",
      "2023-12-19 10:38:49 [debug    ] graph.node.hook.on_after_node  hook_name=TrainingHook node_name=train_DIETClassifier5\n",
      "2023-12-19 10:38:49 [debug    ] graph.node.hook.on_before_node hook_name=LoggingHook node_name=train_EntitySynonymMapper6\n",
      "2023-12-19 10:38:49 [debug    ] graph.node.hook.on_before_node hook_name=TrainingHook node_name=train_EntitySynonymMapper6\n",
      "2023-12-19 10:38:49 [debug    ] graph.node.loading_component   clazz=PrecomputedValueProvider constructor=create kwargs={} node_name=train_EntitySynonymMapper6\n",
      "2023-12-19 10:38:50 [debug    ] graph.node.running_component   clazz=PrecomputedValueProvider fn=get_value node_name=train_EntitySynonymMapper6\n",
      "2023-12-19 10:38:50 [debug    ] graph.node.hook.on_after_node  hook_name=LoggingHook node_name=train_EntitySynonymMapper6\n",
      "2023-12-19 10:38:50 [debug    ] graph.node.hook.on_after_node  hook_name=TrainingHook node_name=train_EntitySynonymMapper6\n",
      "2023-12-19 10:38:50 [debug    ] graph.node.hook.on_before_node hook_name=LoggingHook node_name=train_LexicalSyntacticFeaturizer2\n",
      "2023-12-19 10:38:50 [debug    ] graph.node.hook.on_before_node hook_name=TrainingHook node_name=train_LexicalSyntacticFeaturizer2\n",
      "2023-12-19 10:38:50 [debug    ] graph.node.loading_component   clazz=PrecomputedValueProvider constructor=create kwargs={} node_name=train_LexicalSyntacticFeaturizer2\n",
      "2023-12-19 10:38:50 [debug    ] graph.node.running_component   clazz=PrecomputedValueProvider fn=get_value node_name=train_LexicalSyntacticFeaturizer2\n",
      "2023-12-19 10:38:50 [debug    ] graph.node.hook.on_after_node  hook_name=LoggingHook node_name=train_LexicalSyntacticFeaturizer2\n",
      "2023-12-19 10:38:50 [debug    ] graph.node.hook.on_after_node  hook_name=TrainingHook node_name=train_LexicalSyntacticFeaturizer2\n",
      "2023-12-19 10:38:50 [debug    ] graph.node.hook.on_before_node hook_name=LoggingHook node_name=train_RegexFeaturizer1\n",
      "2023-12-19 10:38:50 [debug    ] graph.node.hook.on_before_node hook_name=TrainingHook node_name=train_RegexFeaturizer1\n",
      "2023-12-19 10:38:50 [debug    ] graph.node.loading_component   clazz=PrecomputedValueProvider constructor=create kwargs={} node_name=train_RegexFeaturizer1\n",
      "2023-12-19 10:38:50 [debug    ] graph.node.running_component   clazz=PrecomputedValueProvider fn=get_value node_name=train_RegexFeaturizer1\n",
      "2023-12-19 10:38:50 [debug    ] graph.node.hook.on_after_node  hook_name=LoggingHook node_name=train_RegexFeaturizer1\n",
      "2023-12-19 10:38:50 [debug    ] graph.node.hook.on_after_node  hook_name=TrainingHook node_name=train_RegexFeaturizer1\n",
      "2023-12-19 10:38:50 [debug    ] graph.node.hook.on_before_node hook_name=LoggingHook node_name=train_ResponseSelector7\n",
      "2023-12-19 10:38:50 [debug    ] graph.node.hook.on_before_node hook_name=TrainingHook node_name=train_ResponseSelector7\n",
      "2023-12-19 10:38:50 [debug    ] graph.node.loading_component   clazz=PrecomputedValueProvider constructor=create kwargs={} node_name=train_ResponseSelector7\n",
      "2023-12-19 10:38:50 [debug    ] graph.node.running_component   clazz=PrecomputedValueProvider fn=get_value node_name=train_ResponseSelector7\n",
      "2023-12-19 10:38:50 [debug    ] graph.node.hook.on_after_node  hook_name=LoggingHook node_name=train_ResponseSelector7\n",
      "2023-12-19 10:38:50 [debug    ] graph.node.hook.on_after_node  hook_name=TrainingHook node_name=train_ResponseSelector7\n",
      "Your Rasa model is trained and saved at 'C:\\Users\\jingy\\OneDrive\\Desktop\\xmum_mjy\\year 3 sem II\\NLP\\assignment2\\rasa\\nlu-20231219-103847-magnetic-peach.tar.gz'.\n",
      "* * * * * * * * * * * *\n",
      "Model trained and saved to TrainingResult(model='C:\\\\Users\\\\jingy\\\\OneDrive\\\\Desktop\\\\xmum_mjy\\\\year 3 sem II\\\\NLP\\\\assignment2\\\\rasa\\\\nlu-20231219-103847-magnetic-peach.tar.gz', code=0, dry_run_results=None)\n"
     ]
    }
   ],
   "source": [
    "config_path = f\"C:/Users/jingy/OneDrive/Desktop/xmum_mjy/year 3 sem II/NLP/assignment2/rasa/config.yml\"\n",
    "training_data_path = f\"C:/Users/jingy/OneDrive/Desktop/xmum_mjy/year 3 sem II/NLP/assignment2/rasa/nlu.yml\"\n",
    "domain_path = f\"C:/Users/jingy/OneDrive/Desktop/xmum_mjy/year 3 sem II/NLP/assignment2/rasa/domain.yml\"\n",
    "output_path = 'C:/Users/jingy/OneDrive/Desktop/xmum_mjy/year 3 sem II/NLP/assignment2/rasa/'\n",
    "\n",
    "# Train the model\n",
    "model_path = rasa.train(domain=domain_path, config=config_path, training_files=training_data_path, output=output_path)\n",
    "\n",
    "print(\"* * * * * * * * * * * *\")\n",
    "print(f\"Model trained and saved to {model_path}\")"
   ]
  },
  {
   "cell_type": "code",
   "execution_count": 5,
   "id": "b8a39349",
   "metadata": {},
   "outputs": [
    {
     "name": "stderr",
     "output_type": "stream",
     "text": [
      "C:\\Users\\jingy\\anaconda3\\lib\\site-packages\\matplotlib\\__init__.py:152: DeprecationWarning: distutils Version classes are deprecated. Use packaging.version instead.\n",
      "  if LooseVersion(module.__version__) < minver:\n",
      "C:\\Users\\jingy\\anaconda3\\lib\\site-packages\\setuptools\\_distutils\\version.py:345: DeprecationWarning: distutils Version classes are deprecated. Use packaging.version instead.\n",
      "  other = LooseVersion(other)\n"
     ]
    },
    {
     "name": "stdout",
     "output_type": "stream",
     "text": [
      "2023-12-19 12:19:47 [debug    ] graph.node.loading_component   clazz=NLUMessageConverter constructor=load kwargs={} node_name=nlu_message_converter\n",
      "2023-12-19 12:19:47 [debug    ] graph.node.loading_component   clazz=FlowsProvider constructor=load kwargs={} node_name=flows_provider\n",
      "2023-12-19 12:19:47 [debug    ] graph.node.loading_component   clazz=WhitespaceTokenizer constructor=load kwargs={} node_name=run_WhitespaceTokenizer0\n",
      "2023-12-19 12:19:47 [debug    ] graph.node.loading_component   clazz=RegexFeaturizer constructor=load kwargs={} node_name=run_RegexFeaturizer1\n",
      "2023-12-19 12:19:47 [debug    ] graph.node.loading_component   clazz=LexicalSyntacticFeaturizer constructor=load kwargs={} node_name=run_LexicalSyntacticFeaturizer2\n",
      "2023-12-19 12:19:47 [debug    ] graph.node.loading_component   clazz=CountVectorsFeaturizer constructor=load kwargs={} node_name=run_CountVectorsFeaturizer3\n",
      "2023-12-19 12:19:47 [debug    ] graph.node.loading_component   clazz=CountVectorsFeaturizer constructor=load kwargs={} node_name=run_CountVectorsFeaturizer4\n",
      "2023-12-19 12:19:47 [debug    ] graph.node.loading_component   clazz=DIETClassifier constructor=load kwargs={} node_name=run_DIETClassifier5\n",
      "2023-12-19 12:20:00 [debug    ] graph.node.loading_component   clazz=EntitySynonymMapper constructor=load kwargs={} node_name=run_EntitySynonymMapper6\n",
      "2023-12-19 12:20:00 [debug    ] graph.node.loading_component   clazz=ResponseSelector constructor=load kwargs={} node_name=run_ResponseSelector7\n",
      "2023-12-19 12:20:00 [debug    ] graph.node.loading_component   clazz=FallbackClassifier constructor=load kwargs={} node_name=run_FallbackClassifier8\n",
      "2023-12-19 12:20:00 [debug    ] graph.node.loading_component   clazz=RegexMessageHandler constructor=load kwargs={} node_name=run_RegexMessageHandler\n"
     ]
    }
   ],
   "source": [
    "#load the trained model using Agent\n",
    "from rasa.core.agent import Agent\n",
    "\n",
    "# obtain agent path from file\n",
    "agent = Agent.load(model_path=\"C:/Users/jingy/OneDrive/Desktop/xmum_mjy/year 3 sem II/NLP/assignment2/rasa/nlu-20231219-053324-avocado-integer.tar.gz\")"
   ]
  },
  {
   "cell_type": "markdown",
   "id": "c3549511",
   "metadata": {},
   "source": [
    "### Train the RASA agent"
   ]
  },
  {
   "cell_type": "code",
   "execution_count": 8,
   "id": "4ea5da81",
   "metadata": {},
   "outputs": [
    {
     "name": "stdout",
     "output_type": "stream",
     "text": [
      "2023-12-19 10:39:08 [debug    ] graph.node.running_component   clazz=NLUMessageConverter fn=convert_user_message node_name=nlu_message_converter\n",
      "2023-12-19 10:39:08 [debug    ] graph.node.running_component   clazz=WhitespaceTokenizer fn=process node_name=run_WhitespaceTokenizer0\n",
      "2023-12-19 10:39:08 [debug    ] graph.node.running_component   clazz=RegexFeaturizer fn=process node_name=run_RegexFeaturizer1\n",
      "2023-12-19 10:39:08 [debug    ] graph.node.running_component   clazz=LexicalSyntacticFeaturizer fn=process node_name=run_LexicalSyntacticFeaturizer2\n",
      "2023-12-19 10:39:08 [debug    ] graph.node.running_component   clazz=CountVectorsFeaturizer fn=process node_name=run_CountVectorsFeaturizer3\n",
      "2023-12-19 10:39:08 [debug    ] graph.node.running_component   clazz=CountVectorsFeaturizer fn=process node_name=run_CountVectorsFeaturizer4\n",
      "2023-12-19 10:39:08 [debug    ] graph.node.running_component   clazz=DIETClassifier fn=process node_name=run_DIETClassifier5\n",
      "2023-12-19 10:39:08 [debug    ] graph.node.running_component   clazz=EntitySynonymMapper fn=process node_name=run_EntitySynonymMapper6\n",
      "2023-12-19 10:39:08 [debug    ] graph.node.running_component   clazz=ResponseSelector fn=process node_name=run_ResponseSelector7\n",
      "2023-12-19 10:39:08 [debug    ] graph.node.running_component   clazz=FallbackClassifier fn=process node_name=run_FallbackClassifier8\n",
      "2023-12-19 10:39:08 [debug    ] graph.node.running_component   clazz=RegexMessageHandler fn=process node_name=run_RegexMessageHandler\n",
      "2023-12-19 10:39:08 [debug    ] processor.message.parse        parse_data_entities=[] parse_data_intent={'name': 'invention', 'confidence': 1.0} parse_data_text=What is Cynthia Breazeal's invention\n",
      "Predicted Intent: invention\n"
     ]
    }
   ],
   "source": [
    "result = await agent.parse_message(\n",
    "                message_data=\"What is Cynthia Breazeal's invention\")\n",
    "\n",
    "#retrieve result from the response\n",
    "intent = result['intent']['name']\n",
    "#print(results)\n",
    "print(f\"Predicted Intent: {intent}\")"
   ]
  },
  {
   "cell_type": "markdown",
   "id": "dc4a1ae1",
   "metadata": {},
   "source": [
    "The predicted intent is correct, as the message is enquiring about invention"
   ]
  },
  {
   "cell_type": "code",
   "execution_count": 9,
   "id": "57366ea8",
   "metadata": {},
   "outputs": [
    {
     "name": "stdout",
     "output_type": "stream",
     "text": [
      "2023-12-19 10:39:08 [debug    ] graph.node.running_component   clazz=NLUMessageConverter fn=convert_user_message node_name=nlu_message_converter\n",
      "2023-12-19 10:39:08 [debug    ] graph.node.running_component   clazz=WhitespaceTokenizer fn=process node_name=run_WhitespaceTokenizer0\n",
      "2023-12-19 10:39:08 [debug    ] graph.node.running_component   clazz=RegexFeaturizer fn=process node_name=run_RegexFeaturizer1\n",
      "2023-12-19 10:39:08 [debug    ] graph.node.running_component   clazz=LexicalSyntacticFeaturizer fn=process node_name=run_LexicalSyntacticFeaturizer2\n",
      "2023-12-19 10:39:09 [debug    ] graph.node.running_component   clazz=CountVectorsFeaturizer fn=process node_name=run_CountVectorsFeaturizer3\n",
      "2023-12-19 10:39:09 [debug    ] graph.node.running_component   clazz=CountVectorsFeaturizer fn=process node_name=run_CountVectorsFeaturizer4\n",
      "2023-12-19 10:39:09 [debug    ] graph.node.running_component   clazz=DIETClassifier fn=process node_name=run_DIETClassifier5\n",
      "2023-12-19 10:39:09 [debug    ] graph.node.running_component   clazz=EntitySynonymMapper fn=process node_name=run_EntitySynonymMapper6\n",
      "2023-12-19 10:39:09 [debug    ] graph.node.running_component   clazz=ResponseSelector fn=process node_name=run_ResponseSelector7\n",
      "2023-12-19 10:39:09 [debug    ] graph.node.running_component   clazz=FallbackClassifier fn=process node_name=run_FallbackClassifier8\n",
      "2023-12-19 10:39:09 [debug    ] graph.node.running_component   clazz=RegexMessageHandler fn=process node_name=run_RegexMessageHandler\n",
      "2023-12-19 10:39:09 [debug    ] processor.message.parse        parse_data_entities=[] parse_data_intent={'name': 'invention', 'confidence': 0.9966488480567932} parse_data_text=What is your best invention\n",
      "Predicted Intent: invention\n"
     ]
    }
   ],
   "source": [
    "result = await agent.parse_message(\n",
    "                message_data='What is your best invention')\n",
    "\n",
    "#retrieve result from the response\n",
    "intent = result['intent']['name']\n",
    "#print(results)\n",
    "print(f\"Predicted Intent: {intent}\")"
   ]
  },
  {
   "cell_type": "code",
   "execution_count": 10,
   "id": "88ce21cd",
   "metadata": {},
   "outputs": [
    {
     "name": "stdout",
     "output_type": "stream",
     "text": [
      "2023-12-19 10:39:09 [debug    ] graph.node.running_component   clazz=NLUMessageConverter fn=convert_user_message node_name=nlu_message_converter\n",
      "2023-12-19 10:39:09 [debug    ] graph.node.running_component   clazz=WhitespaceTokenizer fn=process node_name=run_WhitespaceTokenizer0\n",
      "2023-12-19 10:39:09 [debug    ] graph.node.running_component   clazz=RegexFeaturizer fn=process node_name=run_RegexFeaturizer1\n",
      "2023-12-19 10:39:09 [debug    ] graph.node.running_component   clazz=LexicalSyntacticFeaturizer fn=process node_name=run_LexicalSyntacticFeaturizer2\n",
      "2023-12-19 10:39:09 [debug    ] graph.node.running_component   clazz=CountVectorsFeaturizer fn=process node_name=run_CountVectorsFeaturizer3\n",
      "2023-12-19 10:39:09 [debug    ] graph.node.running_component   clazz=CountVectorsFeaturizer fn=process node_name=run_CountVectorsFeaturizer4\n",
      "2023-12-19 10:39:09 [debug    ] graph.node.running_component   clazz=DIETClassifier fn=process node_name=run_DIETClassifier5\n",
      "2023-12-19 10:39:09 [debug    ] graph.node.running_component   clazz=EntitySynonymMapper fn=process node_name=run_EntitySynonymMapper6\n",
      "2023-12-19 10:39:09 [debug    ] graph.node.running_component   clazz=ResponseSelector fn=process node_name=run_ResponseSelector7\n",
      "2023-12-19 10:39:09 [debug    ] graph.node.running_component   clazz=FallbackClassifier fn=process node_name=run_FallbackClassifier8\n",
      "2023-12-19 10:39:09 [debug    ] graph.node.running_component   clazz=RegexMessageHandler fn=process node_name=run_RegexMessageHandler\n",
      "2023-12-19 10:39:09 [debug    ] processor.message.parse        parse_data_entities=[] parse_data_intent={'name': 'introduction', 'confidence': 1.0} parse_data_text=Who are you\n",
      "Predicted Intent: introduction\n"
     ]
    }
   ],
   "source": [
    "result = await agent.parse_message(\n",
    "                message_data='Who are you')\n",
    "\n",
    "#retrieve result from the response\n",
    "intent = result['intent']['name']\n",
    "#print(results)\n",
    "print(f\"Predicted Intent: {intent}\")"
   ]
  },
  {
   "cell_type": "markdown",
   "id": "9ba89f4e",
   "metadata": {},
   "source": [
    "# RASA and Spacy"
   ]
  },
  {
   "cell_type": "markdown",
   "id": "25c0aeca",
   "metadata": {},
   "source": [
    "Training RASA and using Spacy to identify entities"
   ]
  },
  {
   "cell_type": "code",
   "execution_count": 11,
   "id": "97243af0",
   "metadata": {
    "scrolled": true
   },
   "outputs": [
    {
     "name": "stdout",
     "output_type": "stream",
     "text": [
      "No stories or flows present. Just a Rasa NLU model will be trained.\n"
     ]
    },
    {
     "name": "stderr",
     "output_type": "stream",
     "text": [
      "C:\\Users\\jingy\\AppData\\Roaming\\Python\\Python39\\site-packages\\rasa\\engine\\recipes\\recipe.py:35: FutureWarning: From Rasa Open Source 4.0.0 onwards it will be required to specify a recipe in your model configuration. Defaulting to recipe 'default.v1'.\n",
      "  rasa.shared.utils.io.raise_deprecation_warning(\n"
     ]
    },
    {
     "name": "stdout",
     "output_type": "stream",
     "text": [
      "2023-12-19 10:39:16 [debug    ] graph.node.loading_component   clazz=FingerprintComponent constructor=create kwargs={} node_name=provide_SpacyNLP0\n",
      "2023-12-19 10:39:16 [debug    ] graph.node.loading_component   clazz=FingerprintComponent constructor=create kwargs={} node_name=run_SpacyNLP0\n",
      "2023-12-19 10:39:16 [debug    ] graph.node.loading_component   clazz=FingerprintComponent constructor=create kwargs={} node_name=run_SpacyTokenizer1\n",
      "2023-12-19 10:39:16 [debug    ] graph.node.loading_component   clazz=FingerprintComponent constructor=create kwargs={} node_name=run_SpacyFeaturizer3\n",
      "2023-12-19 10:39:16 [debug    ] graph.node.loading_component   clazz=FingerprintComponent constructor=create kwargs={} node_name=train_CountVectorsFeaturizer4\n",
      "2023-12-19 10:39:16 [debug    ] graph.node.loading_component   clazz=FingerprintComponent constructor=create kwargs={} node_name=run_CountVectorsFeaturizer4\n",
      "2023-12-19 10:39:16 [debug    ] graph.node.loading_component   clazz=FingerprintComponent constructor=create kwargs={} node_name=train_DIETClassifier5\n",
      "2023-12-19 10:39:16 [debug    ] graph.node.loading_component   clazz=DefaultV1RecipeValidator constructor=create kwargs={} node_name=schema_validator\n",
      "2023-12-19 10:39:16 [debug    ] graph.node.running_component   clazz=DefaultV1RecipeValidator fn=validate node_name=schema_validator\n",
      "2023-12-19 10:39:16 [debug    ] graph.node.loading_component   clazz=FinetuningValidator constructor=create kwargs={} node_name=finetuning_validator\n",
      "2023-12-19 10:39:16 [debug    ] graph.node.running_component   clazz=FinetuningValidator fn=validate node_name=finetuning_validator\n",
      "2023-12-19 10:39:16 [debug    ] graph.node.loading_component   clazz=FlowsProvider constructor=create kwargs={} node_name=flows_provider\n",
      "2023-12-19 10:39:16 [debug    ] graph.node.running_component   clazz=FlowsProvider fn=provide_train node_name=flows_provider\n",
      "2023-12-19 10:39:16 [debug    ] graph.node.loading_component   clazz=NLUTrainingDataProvider constructor=create kwargs={} node_name=nlu_training_data_provider\n",
      "2023-12-19 10:39:16 [debug    ] graph.node.running_component   clazz=NLUTrainingDataProvider fn=provide node_name=nlu_training_data_provider\n",
      "2023-12-19 10:39:16 [debug    ] graph.node.running_component   clazz=FingerprintComponent fn=run node_name=provide_SpacyNLP0\n",
      "2023-12-19 10:39:16 [debug    ] graph.node.running_component   clazz=FingerprintComponent fn=run node_name=run_SpacyNLP0\n",
      "2023-12-19 10:39:17 [debug    ] graph.node.running_component   clazz=FingerprintComponent fn=run node_name=run_SpacyTokenizer1\n",
      "2023-12-19 10:39:17 [debug    ] graph.node.running_component   clazz=FingerprintComponent fn=run node_name=run_SpacyFeaturizer3\n",
      "2023-12-19 10:39:17 [debug    ] graph.node.running_component   clazz=FingerprintComponent fn=run node_name=train_CountVectorsFeaturizer4\n",
      "2023-12-19 10:39:17 [debug    ] graph.node.running_component   clazz=FingerprintComponent fn=run node_name=run_CountVectorsFeaturizer4\n",
      "2023-12-19 10:39:17 [debug    ] graph.node.running_component   clazz=FingerprintComponent fn=run node_name=train_DIETClassifier5\n",
      "2023-12-19 10:39:17 [debug    ] graph.node.hook.on_before_node hook_name=LoggingHook node_name=flows_provider\n",
      "2023-12-19 10:39:17 [debug    ] graph.node.hook.on_before_node hook_name=TrainingHook node_name=flows_provider\n",
      "2023-12-19 10:39:17 [debug    ] graph.node.loading_component   clazz=PrecomputedValueProvider constructor=create kwargs={} node_name=flows_provider\n",
      "2023-12-19 10:39:17 [debug    ] graph.node.running_component   clazz=PrecomputedValueProvider fn=get_value node_name=flows_provider\n",
      "2023-12-19 10:39:17 [debug    ] graph.node.hook.on_after_node  hook_name=LoggingHook node_name=flows_provider\n",
      "2023-12-19 10:39:17 [debug    ] graph.node.hook.on_after_node  hook_name=TrainingHook node_name=flows_provider\n",
      "2023-12-19 10:39:17 [debug    ] graph.node.hook.on_before_node hook_name=LoggingHook node_name=train_CountVectorsFeaturizer4\n",
      "2023-12-19 10:39:17 [debug    ] graph.node.hook.on_before_node hook_name=TrainingHook node_name=train_CountVectorsFeaturizer4\n",
      "2023-12-19 10:39:17 [debug    ] graph.node.loading_component   clazz=PrecomputedValueProvider constructor=create kwargs={} node_name=train_CountVectorsFeaturizer4\n",
      "2023-12-19 10:39:17 [debug    ] graph.node.running_component   clazz=PrecomputedValueProvider fn=get_value node_name=train_CountVectorsFeaturizer4\n",
      "2023-12-19 10:39:17 [debug    ] graph.node.hook.on_after_node  hook_name=LoggingHook node_name=train_CountVectorsFeaturizer4\n",
      "2023-12-19 10:39:17 [debug    ] graph.node.hook.on_after_node  hook_name=TrainingHook node_name=train_CountVectorsFeaturizer4\n",
      "2023-12-19 10:39:17 [debug    ] graph.node.hook.on_before_node hook_name=LoggingHook node_name=train_DIETClassifier5\n",
      "2023-12-19 10:39:17 [debug    ] graph.node.hook.on_before_node hook_name=TrainingHook node_name=train_DIETClassifier5\n",
      "2023-12-19 10:39:17 [debug    ] graph.node.loading_component   clazz=PrecomputedValueProvider constructor=create kwargs={} node_name=train_DIETClassifier5\n",
      "2023-12-19 10:39:17 [debug    ] graph.node.running_component   clazz=PrecomputedValueProvider fn=get_value node_name=train_DIETClassifier5\n",
      "2023-12-19 10:39:17 [debug    ] graph.node.hook.on_after_node  hook_name=LoggingHook node_name=train_DIETClassifier5\n",
      "2023-12-19 10:39:17 [debug    ] graph.node.hook.on_after_node  hook_name=TrainingHook node_name=train_DIETClassifier5\n",
      "Your Rasa model is trained and saved at 'C:\\Users\\jingy\\OneDrive\\Desktop\\xmum_mjy\\year 3 sem II\\NLP\\assignment2\\rasa\\rasa+spacy\\nlu-20231219-103916-humane-engineer.tar.gz'.\n",
      "Model trained and saved to TrainingResult(model='C:\\\\Users\\\\jingy\\\\OneDrive\\\\Desktop\\\\xmum_mjy\\\\year 3 sem II\\\\NLP\\\\assignment2\\\\rasa\\\\rasa+spacy\\\\nlu-20231219-103916-humane-engineer.tar.gz', code=0, dry_run_results=None)\n"
     ]
    }
   ],
   "source": [
    "#integrate rasa with Spacy and train a new model with Named Entity Extraction\n",
    "config_path_spacy = \"C:/Users/jingy/OneDrive/Desktop/xmum_mjy/year 3 sem II/NLP/assignment2/rasa/config_spacy.yml\" #configuration with spacy\n",
    "training_data_path = f\"C:/Users/jingy/OneDrive/Desktop/xmum_mjy/year 3 sem II/NLP/assignment2/rasa/nlu.yml\"\n",
    "domain_path = \"C:/Users/jingy/OneDrive/Desktop/xmum_mjy/year 3 sem II/NLP/assignment2/rasa/domain.yml\"\n",
    "output_path = 'C:/Users/jingy/OneDrive/Desktop/xmum_mjy/year 3 sem II/NLP/assignment2/rasa/rasa+spacy/'\n",
    "# Train the model\n",
    "model_path = rasa.train(domain=domain_path, config=config_path_spacy, training_files=training_data_path, output=output_path)\n",
    "\n",
    "print(f\"Model trained and saved to {model_path}\")"
   ]
  },
  {
   "cell_type": "code",
   "execution_count": 6,
   "id": "837de15f",
   "metadata": {
    "scrolled": true
   },
   "outputs": [
    {
     "name": "stdout",
     "output_type": "stream",
     "text": [
      "2023-12-19 12:20:01 [debug    ] graph.node.loading_component   clazz=NLUMessageConverter constructor=load kwargs={} node_name=nlu_message_converter\n",
      "2023-12-19 12:20:01 [debug    ] graph.node.loading_component   clazz=FlowsProvider constructor=load kwargs={} node_name=flows_provider\n",
      "2023-12-19 12:20:01 [debug    ] graph.node.loading_component   clazz=SpacyNLP constructor=load kwargs={} node_name=provide_SpacyNLP0\n",
      "2023-12-19 12:20:02 [debug    ] graph.node.loading_component   clazz=SpacyNLP constructor=load kwargs={} node_name=run_SpacyNLP0\n",
      "2023-12-19 12:20:04 [debug    ] graph.node.loading_component   clazz=SpacyTokenizer constructor=load kwargs={} node_name=run_SpacyTokenizer1\n",
      "2023-12-19 12:20:04 [debug    ] graph.node.loading_component   clazz=SpacyEntityExtractor constructor=load kwargs={} node_name=run_SpacyEntityExtractor2\n",
      "2023-12-19 12:20:04 [debug    ] graph.node.loading_component   clazz=SpacyFeaturizer constructor=load kwargs={} node_name=run_SpacyFeaturizer3\n",
      "2023-12-19 12:20:04 [debug    ] graph.node.loading_component   clazz=CountVectorsFeaturizer constructor=load kwargs={} node_name=run_CountVectorsFeaturizer4\n",
      "2023-12-19 12:20:04 [debug    ] graph.node.loading_component   clazz=DIETClassifier constructor=load kwargs={} node_name=run_DIETClassifier5\n"
     ]
    },
    {
     "name": "stderr",
     "output_type": "stream",
     "text": [
      "C:\\Users\\jingy\\AppData\\Roaming\\Python\\Python39\\site-packages\\rasa\\utils\\train_utils.py:525: UserWarning: constrain_similarities is set to `False`. It is recommended to set it to `True` when using cross-entropy loss.\n",
      "  rasa.shared.utils.io.raise_warning(\n"
     ]
    },
    {
     "name": "stdout",
     "output_type": "stream",
     "text": [
      "2023-12-19 12:20:12 [debug    ] graph.node.loading_component   clazz=RegexMessageHandler constructor=load kwargs={} node_name=run_RegexMessageHandler\n"
     ]
    }
   ],
   "source": [
    "# agent for RASA + Spacy\n",
    "agent2 = Agent.load(model_path='C:/Users/jingy/OneDrive/Desktop/xmum_mjy/year 3 sem II/NLP/assignment2/rasa/rasa+spacy/nlu-20231219-053510-intense-mayonnaise.tar.gz')"
   ]
  },
  {
   "cell_type": "code",
   "execution_count": 13,
   "id": "ba7dde13",
   "metadata": {},
   "outputs": [
    {
     "name": "stdout",
     "output_type": "stream",
     "text": [
      "2023-12-19 10:39:31 [debug    ] graph.node.running_component   clazz=NLUMessageConverter fn=convert_user_message node_name=nlu_message_converter\n",
      "2023-12-19 10:39:31 [debug    ] graph.node.running_component   clazz=SpacyNLP fn=provide node_name=provide_SpacyNLP0\n",
      "2023-12-19 10:39:31 [debug    ] graph.node.running_component   clazz=SpacyNLP fn=process node_name=run_SpacyNLP0\n",
      "2023-12-19 10:39:31 [debug    ] graph.node.running_component   clazz=SpacyTokenizer fn=process node_name=run_SpacyTokenizer1\n",
      "2023-12-19 10:39:31 [debug    ] graph.node.running_component   clazz=SpacyEntityExtractor fn=process node_name=run_SpacyEntityExtractor2\n",
      "2023-12-19 10:39:31 [debug    ] graph.node.running_component   clazz=SpacyFeaturizer fn=process node_name=run_SpacyFeaturizer3\n",
      "2023-12-19 10:39:31 [debug    ] graph.node.running_component   clazz=CountVectorsFeaturizer fn=process node_name=run_CountVectorsFeaturizer4\n",
      "2023-12-19 10:39:31 [debug    ] graph.node.running_component   clazz=DIETClassifier fn=process node_name=run_DIETClassifier5\n",
      "2023-12-19 10:39:31 [debug    ] graph.node.running_component   clazz=RegexMessageHandler fn=process node_name=run_RegexMessageHandler\n",
      "2023-12-19 10:39:31 [debug    ] processor.message.parse        parse_data_entities=[] parse_data_intent={'name': 'introduction', 'confidence': 0.999524712562561} parse_data_text=Can you tell me who are you?\n"
     ]
    },
    {
     "data": {
      "text/plain": [
       "{'text': 'Can you tell me who are you?',\n",
       " 'intent': {'name': 'introduction', 'confidence': 0.999524712562561},\n",
       " 'entities': [],\n",
       " 'text_tokens': [(0, 3),\n",
       "  (4, 7),\n",
       "  (8, 12),\n",
       "  (13, 15),\n",
       "  (16, 19),\n",
       "  (20, 23),\n",
       "  (24, 27),\n",
       "  (27, 28)],\n",
       " 'intent_ranking': [{'name': 'introduction', 'confidence': 0.999524712562561},\n",
       "  {'name': 'career', 'confidence': 0.0003980153414886445},\n",
       "  {'name': 'study', 'confidence': 7.122199167497456e-05},\n",
       "  {'name': 'award', 'confidence': 3.257959861002746e-06},\n",
       "  {'name': 'invention', 'confidence': 2.8205456601426704e-06}]}"
      ]
     },
     "execution_count": 13,
     "metadata": {},
     "output_type": "execute_result"
    }
   ],
   "source": [
    "#Perform intent classification using the agent parse_message\n",
    "await agent2.parse_message( message_data='Can you tell me who are you?')"
   ]
  },
  {
   "cell_type": "code",
   "execution_count": 14,
   "id": "2ed0a882",
   "metadata": {},
   "outputs": [
    {
     "name": "stdout",
     "output_type": "stream",
     "text": [
      "2023-12-19 10:39:31 [debug    ] graph.node.running_component   clazz=NLUMessageConverter fn=convert_user_message node_name=nlu_message_converter\n",
      "2023-12-19 10:39:31 [debug    ] graph.node.running_component   clazz=SpacyNLP fn=provide node_name=provide_SpacyNLP0\n",
      "2023-12-19 10:39:31 [debug    ] graph.node.running_component   clazz=SpacyNLP fn=process node_name=run_SpacyNLP0\n",
      "2023-12-19 10:39:31 [debug    ] graph.node.running_component   clazz=SpacyTokenizer fn=process node_name=run_SpacyTokenizer1\n",
      "2023-12-19 10:39:31 [debug    ] graph.node.running_component   clazz=SpacyEntityExtractor fn=process node_name=run_SpacyEntityExtractor2\n",
      "2023-12-19 10:39:31 [debug    ] graph.node.running_component   clazz=SpacyFeaturizer fn=process node_name=run_SpacyFeaturizer3\n",
      "2023-12-19 10:39:31 [debug    ] graph.node.running_component   clazz=CountVectorsFeaturizer fn=process node_name=run_CountVectorsFeaturizer4\n",
      "2023-12-19 10:39:31 [debug    ] graph.node.running_component   clazz=DIETClassifier fn=process node_name=run_DIETClassifier5\n",
      "2023-12-19 10:39:31 [debug    ] graph.node.running_component   clazz=RegexMessageHandler fn=process node_name=run_RegexMessageHandler\n",
      "2023-12-19 10:39:31 [debug    ] processor.message.parse        parse_data_entities=[{'entity': 'PERSON', 'value': 'Cynthia Breazel', 'start': 8, 'confidence': None, 'end': 23, 'extractor': 'SpacyEntityExtractor'}] parse_data_intent={'name': 'introduction', 'confidence': 0.9975766539573669} parse_data_text=Are you Cynthia Breazel?\n"
     ]
    },
    {
     "name": "stderr",
     "output_type": "stream",
     "text": [
      "C:\\Users\\jingy\\AppData\\Roaming\\Python\\Python39\\site-packages\\rasa\\shared\\utils\\io.py:99: UserWarning: Parsed an entity 'PERSON' which is not defined in the domain. Please make sure all entities are listed in the domain.\n",
      "  More info at https://rasa.com/docs/rasa/domain\n"
     ]
    },
    {
     "data": {
      "text/plain": [
       "{'text': 'Are you Cynthia Breazel?',\n",
       " 'intent': {'name': 'introduction', 'confidence': 0.9975766539573669},\n",
       " 'entities': [{'entity': 'PERSON',\n",
       "   'value': 'Cynthia Breazel',\n",
       "   'start': 8,\n",
       "   'confidence': None,\n",
       "   'end': 23,\n",
       "   'extractor': 'SpacyEntityExtractor'}],\n",
       " 'text_tokens': [(0, 3), (4, 7), (8, 15), (16, 23), (23, 24)],\n",
       " 'intent_ranking': [{'name': 'introduction', 'confidence': 0.9975766539573669},\n",
       "  {'name': 'study', 'confidence': 0.0018980924505740404},\n",
       "  {'name': 'career', 'confidence': 0.00028909361572004855},\n",
       "  {'name': 'invention', 'confidence': 0.00020933257474098355},\n",
       "  {'name': 'award', 'confidence': 2.6825735403690487e-05}]}"
      ]
     },
     "execution_count": 14,
     "metadata": {},
     "output_type": "execute_result"
    }
   ],
   "source": [
    "#Perform intent classification using the agent parse_message\n",
    "await agent2.parse_message( message_data='Are you Cynthia Breazel?')"
   ]
  },
  {
   "cell_type": "markdown",
   "id": "7ea68a36",
   "metadata": {},
   "source": [
    "One entity is extracted, Cynthia Breazeal (PERSON)"
   ]
  },
  {
   "cell_type": "code",
   "execution_count": 15,
   "id": "21a6b196",
   "metadata": {},
   "outputs": [
    {
     "name": "stdout",
     "output_type": "stream",
     "text": [
      "2023-12-19 10:39:31 [debug    ] graph.node.running_component   clazz=NLUMessageConverter fn=convert_user_message node_name=nlu_message_converter\n",
      "2023-12-19 10:39:31 [debug    ] graph.node.running_component   clazz=SpacyNLP fn=provide node_name=provide_SpacyNLP0\n",
      "2023-12-19 10:39:31 [debug    ] graph.node.running_component   clazz=SpacyNLP fn=process node_name=run_SpacyNLP0\n",
      "2023-12-19 10:39:31 [debug    ] graph.node.running_component   clazz=SpacyTokenizer fn=process node_name=run_SpacyTokenizer1\n",
      "2023-12-19 10:39:31 [debug    ] graph.node.running_component   clazz=SpacyEntityExtractor fn=process node_name=run_SpacyEntityExtractor2\n",
      "2023-12-19 10:39:31 [debug    ] graph.node.running_component   clazz=SpacyFeaturizer fn=process node_name=run_SpacyFeaturizer3\n",
      "2023-12-19 10:39:31 [debug    ] graph.node.running_component   clazz=CountVectorsFeaturizer fn=process node_name=run_CountVectorsFeaturizer4\n",
      "2023-12-19 10:39:31 [debug    ] graph.node.running_component   clazz=DIETClassifier fn=process node_name=run_DIETClassifier5\n",
      "2023-12-19 10:39:31 [debug    ] graph.node.running_component   clazz=RegexMessageHandler fn=process node_name=run_RegexMessageHandler\n",
      "2023-12-19 10:39:31 [debug    ] processor.message.parse        parse_data_entities=[{'entity': 'PERSON', 'value': 'Cynthia Breazeal', 'start': 4, 'confidence': None, 'end': 20, 'extractor': 'SpacyEntityExtractor'}] parse_data_intent={'name': 'study', 'confidence': 0.9998600482940674} parse_data_text=Did Cynthia Breazeal study at MIT?\n"
     ]
    },
    {
     "data": {
      "text/plain": [
       "{'text': 'Did Cynthia Breazeal study at MIT?',\n",
       " 'intent': {'name': 'study', 'confidence': 0.9998600482940674},\n",
       " 'entities': [{'entity': 'PERSON',\n",
       "   'value': 'Cynthia Breazeal',\n",
       "   'start': 4,\n",
       "   'confidence': None,\n",
       "   'end': 20,\n",
       "   'extractor': 'SpacyEntityExtractor'}],\n",
       " 'text_tokens': [(0, 3),\n",
       "  (4, 11),\n",
       "  (12, 20),\n",
       "  (21, 26),\n",
       "  (27, 29),\n",
       "  (30, 33),\n",
       "  (33, 34)],\n",
       " 'intent_ranking': [{'name': 'study', 'confidence': 0.9998600482940674},\n",
       "  {'name': 'career', 'confidence': 7.842678314773366e-05},\n",
       "  {'name': 'introduction', 'confidence': 4.2062347347382456e-05},\n",
       "  {'name': 'invention', 'confidence': 1.001271630229894e-05},\n",
       "  {'name': 'award', 'confidence': 9.459186912863515e-06}]}"
      ]
     },
     "execution_count": 15,
     "metadata": {},
     "output_type": "execute_result"
    }
   ],
   "source": [
    "#Perform intent classification using the agent parse_message\n",
    "await agent2.parse_message( message_data='Did Cynthia Breazeal study at MIT?')"
   ]
  },
  {
   "cell_type": "markdown",
   "id": "89e0ee0b",
   "metadata": {},
   "source": [
    "One entities is extracted, Cynthia Breazeal (PERSON) "
   ]
  },
  {
   "cell_type": "code",
   "execution_count": 16,
   "id": "ac379637",
   "metadata": {},
   "outputs": [
    {
     "name": "stdout",
     "output_type": "stream",
     "text": [
      "2023-12-19 10:39:31 [debug    ] graph.node.running_component   clazz=NLUMessageConverter fn=convert_user_message node_name=nlu_message_converter\n",
      "2023-12-19 10:39:31 [debug    ] graph.node.running_component   clazz=SpacyNLP fn=provide node_name=provide_SpacyNLP0\n",
      "2023-12-19 10:39:31 [debug    ] graph.node.running_component   clazz=SpacyNLP fn=process node_name=run_SpacyNLP0\n",
      "2023-12-19 10:39:31 [debug    ] graph.node.running_component   clazz=SpacyTokenizer fn=process node_name=run_SpacyTokenizer1\n",
      "2023-12-19 10:39:32 [debug    ] graph.node.running_component   clazz=SpacyEntityExtractor fn=process node_name=run_SpacyEntityExtractor2\n",
      "2023-12-19 10:39:32 [debug    ] graph.node.running_component   clazz=SpacyFeaturizer fn=process node_name=run_SpacyFeaturizer3\n",
      "2023-12-19 10:39:32 [debug    ] graph.node.running_component   clazz=CountVectorsFeaturizer fn=process node_name=run_CountVectorsFeaturizer4\n",
      "2023-12-19 10:39:32 [debug    ] graph.node.running_component   clazz=DIETClassifier fn=process node_name=run_DIETClassifier5\n",
      "2023-12-19 10:39:32 [debug    ] graph.node.running_component   clazz=RegexMessageHandler fn=process node_name=run_RegexMessageHandler\n",
      "2023-12-19 10:39:32 [debug    ] processor.message.parse        parse_data_entities=[{'entity': 'PERSON', 'value': 'Cynthia Breazeal', 'start': 4, 'confidence': None, 'end': 20, 'extractor': 'SpacyEntityExtractor'}, {'entity': 'PERSON', 'value': 'Learnado', 'start': 28, 'confidence': None, 'end': 36, 'extractor': 'SpacyEntityExtractor'}, {'entity': 'PERSON', 'value': 'Jibo', 'start': 41, 'confidence': None, 'end': 45, 'extractor': 'SpacyEntityExtractor'}] parse_data_intent={'name': 'invention', 'confidence': 0.992759108543396} parse_data_text=Did Cynthia Breazeal invent Learnado and Jibo\n"
     ]
    },
    {
     "data": {
      "text/plain": [
       "{'text': 'Did Cynthia Breazeal invent Learnado and Jibo',\n",
       " 'intent': {'name': 'invention', 'confidence': 0.992759108543396},\n",
       " 'entities': [{'entity': 'PERSON',\n",
       "   'value': 'Cynthia Breazeal',\n",
       "   'start': 4,\n",
       "   'confidence': None,\n",
       "   'end': 20,\n",
       "   'extractor': 'SpacyEntityExtractor'},\n",
       "  {'entity': 'PERSON',\n",
       "   'value': 'Learnado',\n",
       "   'start': 28,\n",
       "   'confidence': None,\n",
       "   'end': 36,\n",
       "   'extractor': 'SpacyEntityExtractor'},\n",
       "  {'entity': 'PERSON',\n",
       "   'value': 'Jibo',\n",
       "   'start': 41,\n",
       "   'confidence': None,\n",
       "   'end': 45,\n",
       "   'extractor': 'SpacyEntityExtractor'}],\n",
       " 'text_tokens': [(0, 3),\n",
       "  (4, 11),\n",
       "  (12, 20),\n",
       "  (21, 27),\n",
       "  (28, 36),\n",
       "  (37, 40),\n",
       "  (41, 45)],\n",
       " 'intent_ranking': [{'name': 'invention', 'confidence': 0.992759108543396},\n",
       "  {'name': 'career', 'confidence': 0.005635673180222511},\n",
       "  {'name': 'study', 'confidence': 0.001261723111383617},\n",
       "  {'name': 'award', 'confidence': 0.0002824667899403721},\n",
       "  {'name': 'introduction', 'confidence': 6.106740329414606e-05}]}"
      ]
     },
     "execution_count": 16,
     "metadata": {},
     "output_type": "execute_result"
    }
   ],
   "source": [
    "#Perform intent classification using the agent parse_message\n",
    "await agent2.parse_message( message_data='Did Cynthia Breazeal invent Learnado and Jibo')"
   ]
  },
  {
   "cell_type": "markdown",
   "id": "2a381d8e",
   "metadata": {},
   "source": [
    "The agent indentified 3 entities, Cynthia Breazeal (PERSON), Learnado (PERSON) and Jibo (PERSON). The predicted intent is correct."
   ]
  },
  {
   "cell_type": "code",
   "execution_count": 17,
   "id": "e928385f",
   "metadata": {},
   "outputs": [
    {
     "name": "stdout",
     "output_type": "stream",
     "text": [
      "2023-12-19 10:39:32 [debug    ] graph.node.running_component   clazz=NLUMessageConverter fn=convert_user_message node_name=nlu_message_converter\n",
      "2023-12-19 10:39:32 [debug    ] graph.node.running_component   clazz=SpacyNLP fn=provide node_name=provide_SpacyNLP0\n",
      "2023-12-19 10:39:32 [debug    ] graph.node.running_component   clazz=SpacyNLP fn=process node_name=run_SpacyNLP0\n",
      "2023-12-19 10:39:32 [debug    ] graph.node.running_component   clazz=SpacyTokenizer fn=process node_name=run_SpacyTokenizer1\n",
      "2023-12-19 10:39:32 [debug    ] graph.node.running_component   clazz=SpacyEntityExtractor fn=process node_name=run_SpacyEntityExtractor2\n",
      "2023-12-19 10:39:32 [debug    ] graph.node.running_component   clazz=SpacyFeaturizer fn=process node_name=run_SpacyFeaturizer3\n",
      "2023-12-19 10:39:32 [debug    ] graph.node.running_component   clazz=CountVectorsFeaturizer fn=process node_name=run_CountVectorsFeaturizer4\n",
      "2023-12-19 10:39:32 [debug    ] graph.node.running_component   clazz=DIETClassifier fn=process node_name=run_DIETClassifier5\n",
      "2023-12-19 10:39:32 [debug    ] graph.node.running_component   clazz=RegexMessageHandler fn=process node_name=run_RegexMessageHandler\n",
      "2023-12-19 10:39:32 [debug    ] processor.message.parse        parse_data_entities=[{'entity': 'PERSON', 'value': 'Cynthia Breazeal', 'start': 0, 'confidence': None, 'end': 16, 'extractor': 'SpacyEntityExtractor'}, {'entity': 'GPE', 'value': 'Santa Barbara', 'start': 58, 'confidence': None, 'end': 71, 'extractor': 'SpacyEntityExtractor'}] parse_data_intent={'name': 'career', 'confidence': 0.5326156616210938} parse_data_text=Cynthia Breazeal studied at The University of California, Santa Barbara\n"
     ]
    },
    {
     "name": "stderr",
     "output_type": "stream",
     "text": [
      "C:\\Users\\jingy\\AppData\\Roaming\\Python\\Python39\\site-packages\\rasa\\shared\\utils\\io.py:99: UserWarning: Parsed an entity 'GPE' which is not defined in the domain. Please make sure all entities are listed in the domain.\n",
      "  More info at https://rasa.com/docs/rasa/domain\n"
     ]
    },
    {
     "data": {
      "text/plain": [
       "{'text': 'Cynthia Breazeal studied at The University of California, Santa Barbara',\n",
       " 'intent': {'name': 'career', 'confidence': 0.5326156616210938},\n",
       " 'entities': [{'entity': 'PERSON',\n",
       "   'value': 'Cynthia Breazeal',\n",
       "   'start': 0,\n",
       "   'confidence': None,\n",
       "   'end': 16,\n",
       "   'extractor': 'SpacyEntityExtractor'},\n",
       "  {'entity': 'GPE',\n",
       "   'value': 'Santa Barbara',\n",
       "   'start': 58,\n",
       "   'confidence': None,\n",
       "   'end': 71,\n",
       "   'extractor': 'SpacyEntityExtractor'}],\n",
       " 'text_tokens': [(0, 7),\n",
       "  (8, 16),\n",
       "  (17, 24),\n",
       "  (25, 27),\n",
       "  (28, 31),\n",
       "  (32, 42),\n",
       "  (43, 45),\n",
       "  (46, 56),\n",
       "  (56, 57),\n",
       "  (58, 63),\n",
       "  (64, 71)],\n",
       " 'intent_ranking': [{'name': 'career', 'confidence': 0.5326156616210938},\n",
       "  {'name': 'study', 'confidence': 0.45336779952049255},\n",
       "  {'name': 'invention', 'confidence': 0.009126434102654457},\n",
       "  {'name': 'introduction', 'confidence': 0.004122691694647074},\n",
       "  {'name': 'award', 'confidence': 0.0007674255757592618}]}"
      ]
     },
     "execution_count": 17,
     "metadata": {},
     "output_type": "execute_result"
    }
   ],
   "source": [
    "#Perform intent classification using the agent parse_message\n",
    "await agent2.parse_message( message_data='Cynthia Breazeal studied at The University of California, Santa Barbara')"
   ]
  },
  {
   "cell_type": "markdown",
   "id": "0c408efe",
   "metadata": {},
   "source": [
    "The agent indentified 2 entity, Cynthia Breazeal (PERSON) and Data"
   ]
  },
  {
   "cell_type": "markdown",
   "id": "c641536b",
   "metadata": {},
   "source": [
    "# Answer Retrieval"
   ]
  },
  {
   "cell_type": "code",
   "execution_count": 10,
   "id": "20d5ae2f",
   "metadata": {},
   "outputs": [],
   "source": [
    "nlp = spacy.load(\"en_core_web_sm\")\n",
    "\n",
    "async def get_entities_intent(ques):\n",
    "    result = await agent2.parse_message(message_data=ques)\n",
    "    \n",
    "    # retrieve entities\n",
    "    doc = nlp(ques)\n",
    "    entities = [(ent.text, ent.label_) for ent in doc.ents]\n",
    "        \n",
    "    #retrieve result from the response\n",
    "    intent = result['intent']['name']\n",
    "\n",
    "    return intent, entities"
   ]
  },
  {
   "cell_type": "code",
   "execution_count": 11,
   "id": "24389375",
   "metadata": {},
   "outputs": [
    {
     "name": "stdout",
     "output_type": "stream",
     "text": [
      "2023-12-19 12:20:28 [debug    ] graph.node.running_component   clazz=NLUMessageConverter fn=convert_user_message node_name=nlu_message_converter\n",
      "2023-12-19 12:20:28 [debug    ] graph.node.running_component   clazz=SpacyNLP fn=provide node_name=provide_SpacyNLP0\n",
      "2023-12-19 12:20:28 [debug    ] graph.node.running_component   clazz=SpacyNLP fn=process node_name=run_SpacyNLP0\n",
      "2023-12-19 12:20:28 [debug    ] graph.node.running_component   clazz=SpacyTokenizer fn=process node_name=run_SpacyTokenizer1\n",
      "2023-12-19 12:20:28 [debug    ] graph.node.running_component   clazz=SpacyEntityExtractor fn=process node_name=run_SpacyEntityExtractor2\n",
      "2023-12-19 12:20:28 [debug    ] graph.node.running_component   clazz=SpacyFeaturizer fn=process node_name=run_SpacyFeaturizer3\n",
      "2023-12-19 12:20:28 [debug    ] graph.node.running_component   clazz=CountVectorsFeaturizer fn=process node_name=run_CountVectorsFeaturizer4\n",
      "2023-12-19 12:20:28 [debug    ] graph.node.running_component   clazz=DIETClassifier fn=process node_name=run_DIETClassifier5\n",
      "2023-12-19 12:20:28 [debug    ] graph.node.running_component   clazz=RegexMessageHandler fn=process node_name=run_RegexMessageHandler\n",
      "2023-12-19 12:20:28 [debug    ] processor.message.parse        parse_data_entities=[{'entity': 'PERSON', 'value': 'Cynthia Breazeal', 'start': 15, 'confidence': None, 'end': 31, 'extractor': 'SpacyEntityExtractor'}] parse_data_intent={'name': 'award', 'confidence': 0.9999967813491821} parse_data_text=What award did Cynthia Breazeal win?\n"
     ]
    }
   ],
   "source": [
    "question = \"What award did Cynthia Breazeal win?\"\n",
    "intent, entities = await get_entities_intent(question)"
   ]
  },
  {
   "cell_type": "code",
   "execution_count": 12,
   "id": "688be9ef",
   "metadata": {},
   "outputs": [
    {
     "name": "stdout",
     "output_type": "stream",
     "text": [
      "award\n",
      "[('Cynthia Breazeal', 'PERSON')]\n"
     ]
    }
   ],
   "source": [
    "print(intent)\n",
    "print(entities)"
   ]
  },
  {
   "cell_type": "code",
   "execution_count": 13,
   "id": "059b32a1",
   "metadata": {},
   "outputs": [],
   "source": [
    "from neo4j import GraphDatabase\n",
    "\n",
    "# neo4j driver \n",
    "neo4j_uri = \"bolt://localhost:7687\"\n",
    "neo4j_user = \"majyneo4j\"\n",
    "neo4j_password = \"majyneo4j444444\"\n",
    "\n",
    "driver = GraphDatabase.driver(neo4j_uri, auth=(neo4j_user, neo4j_password))"
   ]
  },
  {
   "cell_type": "code",
   "execution_count": 51,
   "id": "7c4297d2",
   "metadata": {},
   "outputs": [],
   "source": [
    "def award_intent_question(entities, ques):\n",
    "    if not entities:\n",
    "        print(\"There are no entities\")\n",
    "    \n",
    "    entity_info = [(entity[0], entity[1]) for entity in entities if isinstance(entity, tuple)]\n",
    "    entity_titles = [info[0] for info in entity_info]\n",
    "    entity_labels = [info[1] for info in entity_info]\n",
    "    \n",
    "    # store responses\n",
    "    responses = set()\n",
    "    \n",
    "    with driver.session() as session:\n",
    "        # obtain entities which have relation of \"award received\" with entity\n",
    "        if ((entity_labels[0] == 'PERSON') and ('win' in ques or 'award' in ques or 'get' in ques)):\n",
    "            result = session.run(\"MATCH (p1:Entity {title: $title}) - [R:RELATION {type: $relation_type}] -\n",
    "                                 (p2:Entity) RETURN p2.title AS n\",\n",
    "                                 title=entity_titles[0], relation_type = \"award received\")\n",
    "           \n",
    "        # add the entity extracted into responses\n",
    "            for record in result:\n",
    "                output = record[\"n\"]\n",
    "                if output is not None:\n",
    "                    responses.add(''.join(output))\n",
    "                    \n",
    "        if responses:\n",
    "            return \"\\n\".join(responses)\n",
    "        else:\n",
    "            return f\"No award information related to {entity_titles[0]}.\""
   ]
  },
  {
   "cell_type": "code",
   "execution_count": 33,
   "id": "9fc57858",
   "metadata": {},
   "outputs": [],
   "source": [
    "def study_intent_question(entities, ques):\n",
    "    if not entities:\n",
    "        print(\"There are no entities\")\n",
    "    \n",
    "    entity_info = [(entity[0], entity[1]) for entity in entities if isinstance(entity, tuple)]\n",
    "    entity_titles = [info[0] for info in entity_info]\n",
    "    entity_labels = [info[1] for info in entity_info]\n",
    "    \n",
    "    responses = set()\n",
    "    \n",
    "    with driver.session() as session:\n",
    "        # obtain entities which have relation of \"educated at\" with entity\n",
    "        if ((entity_labels[0] == 'PERSON') and ('study' in ques or 'educated' in ques or 'university' in ques)):\n",
    "            result = session.run(\"MATCH (p1:Entity {title: $title}) - [R:RELATION {type: $relation_type}] - \n",
    "                                 (p2:Entity) RETURN p2.title AS n\",\n",
    "                               title=entity_titles[0], relation_type=\"educated at\")\n",
    "            \n",
    "            # add the entity extracted into responses\n",
    "            for record in result:\n",
    "                location_title = record[\"n\"]\n",
    "\n",
    "                if location_title is not None:\n",
    "                    responses.add(''.join(location_title))\n",
    "            \n",
    "        if responses:\n",
    "            return \"\\n\".join(responses)\n",
    "        else:\n",
    "            return f\"No study information related to {entity_titles[0]}.\""
   ]
  },
  {
   "cell_type": "code",
   "execution_count": 54,
   "id": "d90ade8e",
   "metadata": {},
   "outputs": [],
   "source": [
    "def career_intent_question(entities, ques):\n",
    "    if not entities:\n",
    "        print(\"There are no entities\")\n",
    "    \n",
    "    entity_info = [(entity[0], entity[1]) for entity in entities if isinstance(entity, tuple)]\n",
    "    entity_titles = [info[0] for info in entity_info]\n",
    "    entity_labels = [info[1] for info in entity_info]\n",
    "    \n",
    "    responses = set()\n",
    "    \n",
    "    with driver.session() as session:\n",
    "        # obtain entities which have relation of \"title\" and \"employee_or_member_of\" with entity\n",
    "        if ((entity_labels[0] == 'PERSON') and ('work' in ques or 'profession' in ques)):\n",
    "            result = session.run(\"MATCH (p1:Entity {title: $title}) - [R:RELATION {type: $relation_type}] - \n",
    "                                 (p2:Entity) RETURN p2.title AS n\",\n",
    "                                 title=entity_titles[0], relation_type=\"title\")\n",
    "            result2 = session.run(\"MATCH (p1:Entity {title: $title}) - [R:RELATION {type: $relation_type}] - \n",
    "                                  (p2:Entity) RETURN p2.title AS n\",\n",
    "                                 title=entity_titles[0], relation_type=\"employee_or_member_of\")\n",
    "            \n",
    "            # add the entity extracted into responses\n",
    "            for record in result:\n",
    "                output = record[\"n\"]\n",
    "                if output is not None:\n",
    "                    responses.add(''.join(output))\n",
    "                    \n",
    "            for record2 in result2:\n",
    "                output = record['n']\n",
    "                if output is not None:\n",
    "                    responses.add(''.join(output))\n",
    "                    \n",
    "        if responses:\n",
    "            return \"\\n\".join(responses)\n",
    "        else:\n",
    "            return f\"No career information related to {entity_titles[0]}.\""
   ]
  },
  {
   "cell_type": "code",
   "execution_count": 17,
   "id": "4568d840",
   "metadata": {},
   "outputs": [],
   "source": [
    "# have three functions for 3 intents\n",
    "async def answer_retrieval(ques):\n",
    "    intent, entities = await get_entities_intent(ques)\n",
    "    \n",
    "    if intent == 'award':\n",
    "        ans = award_intent_question(entities, ques)\n",
    "    elif intent == 'study':\n",
    "        ans = study_intent_question(entities, ques)\n",
    "    elif intent == 'career':\n",
    "        ans = career_intent_question(entities, ques)\n",
    "\n",
    "    else:\n",
    "        ans = \"Huh, question unavailable to answer.\"\n",
    "        \n",
    "    print(\"Question :\\n\", ques)\n",
    "    print(\"Ansewer :\\n\", ans)"
   ]
  },
  {
   "cell_type": "code",
   "execution_count": null,
   "id": "0e97e04c-2a67-4be6-b86d-65bfcbe3ff7b",
   "metadata": {},
   "outputs": [],
   "source": [
    "state_list = ['Penang', 'Sabah', 'Kuala Lumpur']\n",
    "preference_list = ['price', 'service', 'atmosphere', 'food', 'cleanliness', 'location']\n",
    "type_list = ['local', 'chinese', 'indian', 'thai', 'dessert', 'western', 'korean', 'japanese']"
   ]
  },
  {
   "cell_type": "markdown",
   "id": "7d9edea8",
   "metadata": {},
   "source": [
    "# Retrieving Information using answer_retrieval"
   ]
  },
  {
   "cell_type": "code",
   "execution_count": 52,
   "id": "64a4fde9",
   "metadata": {},
   "outputs": [
    {
     "name": "stdout",
     "output_type": "stream",
     "text": [
      "2023-12-19 12:48:24 [debug    ] graph.node.running_component   clazz=NLUMessageConverter fn=convert_user_message node_name=nlu_message_converter\n",
      "2023-12-19 12:48:24 [debug    ] graph.node.running_component   clazz=SpacyNLP fn=provide node_name=provide_SpacyNLP0\n",
      "2023-12-19 12:48:24 [debug    ] graph.node.running_component   clazz=SpacyNLP fn=process node_name=run_SpacyNLP0\n",
      "2023-12-19 12:48:25 [debug    ] graph.node.running_component   clazz=SpacyTokenizer fn=process node_name=run_SpacyTokenizer1\n",
      "2023-12-19 12:48:25 [debug    ] graph.node.running_component   clazz=SpacyEntityExtractor fn=process node_name=run_SpacyEntityExtractor2\n",
      "2023-12-19 12:48:25 [debug    ] graph.node.running_component   clazz=SpacyFeaturizer fn=process node_name=run_SpacyFeaturizer3\n",
      "2023-12-19 12:48:25 [debug    ] graph.node.running_component   clazz=CountVectorsFeaturizer fn=process node_name=run_CountVectorsFeaturizer4\n",
      "2023-12-19 12:48:25 [debug    ] graph.node.running_component   clazz=DIETClassifier fn=process node_name=run_DIETClassifier5\n",
      "2023-12-19 12:48:25 [debug    ] graph.node.running_component   clazz=RegexMessageHandler fn=process node_name=run_RegexMessageHandler\n",
      "2023-12-19 12:48:25 [debug    ] processor.message.parse        parse_data_entities=[{'entity': 'PERSON', 'value': 'Cynthia Breazeal', 'start': 15, 'confidence': None, 'end': 31, 'extractor': 'SpacyEntityExtractor'}] parse_data_intent={'name': 'award', 'confidence': 0.9999967813491821} parse_data_text=What award did Cynthia Breazeal win?\n",
      "Question :\n",
      " What award did Cynthia Breazeal win?\n",
      "Ansewer :\n",
      " Gilbreth Lectures Award\n",
      "Gilbreth Lectures Award*\n",
      "George R. Stibitz Computer & Communications Pioneer Award\n",
      "George R. Stibitz Computer & Communications Pioneer Award*\n"
     ]
    }
   ],
   "source": [
    "question = \"What award did Cynthia Breazeal win?\"\n",
    "await answer_retrieval(question)"
   ]
  },
  {
   "cell_type": "code",
   "execution_count": 49,
   "id": "80ac520e",
   "metadata": {},
   "outputs": [
    {
     "name": "stdout",
     "output_type": "stream",
     "text": [
      "2023-12-19 12:43:47 [debug    ] graph.node.running_component   clazz=NLUMessageConverter fn=convert_user_message node_name=nlu_message_converter\n",
      "2023-12-19 12:43:47 [debug    ] graph.node.running_component   clazz=SpacyNLP fn=provide node_name=provide_SpacyNLP0\n",
      "2023-12-19 12:43:47 [debug    ] graph.node.running_component   clazz=SpacyNLP fn=process node_name=run_SpacyNLP0\n",
      "2023-12-19 12:43:47 [debug    ] graph.node.running_component   clazz=SpacyTokenizer fn=process node_name=run_SpacyTokenizer1\n",
      "2023-12-19 12:43:47 [debug    ] graph.node.running_component   clazz=SpacyEntityExtractor fn=process node_name=run_SpacyEntityExtractor2\n",
      "2023-12-19 12:43:47 [debug    ] graph.node.running_component   clazz=SpacyFeaturizer fn=process node_name=run_SpacyFeaturizer3\n",
      "2023-12-19 12:43:47 [debug    ] graph.node.running_component   clazz=CountVectorsFeaturizer fn=process node_name=run_CountVectorsFeaturizer4\n",
      "2023-12-19 12:43:47 [debug    ] graph.node.running_component   clazz=DIETClassifier fn=process node_name=run_DIETClassifier5\n",
      "2023-12-19 12:43:47 [debug    ] graph.node.running_component   clazz=RegexMessageHandler fn=process node_name=run_RegexMessageHandler\n",
      "2023-12-19 12:43:47 [debug    ] processor.message.parse        parse_data_entities=[{'entity': 'PERSON', 'value': 'Cynthia Breazeal', 'start': 10, 'confidence': None, 'end': 26, 'extractor': 'SpacyEntityExtractor'}] parse_data_intent={'name': 'study', 'confidence': 0.9997832179069519} parse_data_text=Where did Cynthia Breazeal study at?\n",
      "Question :\n",
      " Where did Cynthia Breazeal study at?\n",
      "Ansewer :\n",
      " Massachusetts Institute of Technology\n",
      "University of California, Santa Barbara\n"
     ]
    }
   ],
   "source": [
    "question = \"Where did Cynthia Breazeal study at?\"\n",
    "await answer_retrieval(question)"
   ]
  },
  {
   "cell_type": "code",
   "execution_count": 57,
   "id": "2c93fb08",
   "metadata": {},
   "outputs": [
    {
     "name": "stdout",
     "output_type": "stream",
     "text": [
      "2023-12-19 12:50:32 [debug    ] graph.node.running_component   clazz=NLUMessageConverter fn=convert_user_message node_name=nlu_message_converter\n",
      "2023-12-19 12:50:32 [debug    ] graph.node.running_component   clazz=SpacyNLP fn=provide node_name=provide_SpacyNLP0\n",
      "2023-12-19 12:50:32 [debug    ] graph.node.running_component   clazz=SpacyNLP fn=process node_name=run_SpacyNLP0\n",
      "2023-12-19 12:50:32 [debug    ] graph.node.running_component   clazz=SpacyTokenizer fn=process node_name=run_SpacyTokenizer1\n",
      "2023-12-19 12:50:32 [debug    ] graph.node.running_component   clazz=SpacyEntityExtractor fn=process node_name=run_SpacyEntityExtractor2\n",
      "2023-12-19 12:50:32 [debug    ] graph.node.running_component   clazz=SpacyFeaturizer fn=process node_name=run_SpacyFeaturizer3\n",
      "2023-12-19 12:50:32 [debug    ] graph.node.running_component   clazz=CountVectorsFeaturizer fn=process node_name=run_CountVectorsFeaturizer4\n",
      "2023-12-19 12:50:32 [debug    ] graph.node.running_component   clazz=DIETClassifier fn=process node_name=run_DIETClassifier5\n",
      "2023-12-19 12:50:32 [debug    ] graph.node.running_component   clazz=RegexMessageHandler fn=process node_name=run_RegexMessageHandler\n",
      "2023-12-19 12:50:32 [debug    ] processor.message.parse        parse_data_entities=[{'entity': 'PERSON', 'value': 'Cynthia Breazeal', 'start': 10, 'confidence': None, 'end': 26, 'extractor': 'SpacyEntityExtractor'}] parse_data_intent={'name': 'career', 'confidence': 0.9968554973602295} parse_data_text=What does Cynthia Breazeal work as?\n",
      "Question :\n",
      " What does Cynthia Breazeal work as?\n",
      "Ansewer :\n",
      " entrepeneur\n",
      "consultant\n",
      "professor\n",
      "sientist\n",
      "assistant\n",
      "scientist\n",
      "entrepreneur\n",
      "Bachelor\n",
      "director\n",
      "dean\n"
     ]
    }
   ],
   "source": [
    "question = \"What does Cynthia Breazeal work as?\"\n",
    "await answer_retrieval(question)"
   ]
  },
  {
   "cell_type": "code",
   "execution_count": 27,
   "id": "85099a77",
   "metadata": {},
   "outputs": [
    {
     "name": "stdout",
     "output_type": "stream",
     "text": [
      "2023-12-19 12:34:17 [debug    ] graph.node.running_component   clazz=NLUMessageConverter fn=convert_user_message node_name=nlu_message_converter\n",
      "2023-12-19 12:34:17 [debug    ] graph.node.running_component   clazz=SpacyNLP fn=provide node_name=provide_SpacyNLP0\n",
      "2023-12-19 12:34:17 [debug    ] graph.node.running_component   clazz=SpacyNLP fn=process node_name=run_SpacyNLP0\n",
      "2023-12-19 12:34:17 [debug    ] graph.node.running_component   clazz=SpacyTokenizer fn=process node_name=run_SpacyTokenizer1\n",
      "2023-12-19 12:34:17 [debug    ] graph.node.running_component   clazz=SpacyEntityExtractor fn=process node_name=run_SpacyEntityExtractor2\n",
      "2023-12-19 12:34:17 [debug    ] graph.node.running_component   clazz=SpacyFeaturizer fn=process node_name=run_SpacyFeaturizer3\n",
      "2023-12-19 12:34:17 [debug    ] graph.node.running_component   clazz=CountVectorsFeaturizer fn=process node_name=run_CountVectorsFeaturizer4\n",
      "2023-12-19 12:34:17 [debug    ] graph.node.running_component   clazz=DIETClassifier fn=process node_name=run_DIETClassifier5\n",
      "2023-12-19 12:34:17 [debug    ] graph.node.running_component   clazz=RegexMessageHandler fn=process node_name=run_RegexMessageHandler\n",
      "2023-12-19 12:34:17 [debug    ] processor.message.parse        parse_data_entities=[{'entity': 'PERSON', 'value': 'Cynthia Breazeal', 'start': 0, 'confidence': None, 'end': 16, 'extractor': 'SpacyEntityExtractor'}] parse_data_intent={'name': 'career', 'confidence': 0.9997274279594421} parse_data_text=Cynthia Breazeal profession\n",
      "Question :\n",
      " Cynthia Breazeal profession\n",
      "Ansewer :\n",
      " entrepeneur\n",
      "consultant\n",
      "professor\n",
      "sientist\n",
      "assistant\n",
      "scientist\n",
      "entrepreneur\n",
      "Bachelor\n",
      "director\n",
      "dean\n"
     ]
    }
   ],
   "source": [
    "question = \"Cynthia Breazeal profession\"\n",
    "await answer_retrieval(question)"
   ]
  },
  {
   "cell_type": "markdown",
   "id": "fea0f58c",
   "metadata": {},
   "source": [
    "Successfully retrieved information regarding intent of career, study and award from knowledge graph in Neo4j."
   ]
  }
 ],
 "metadata": {
  "kernelspec": {
   "display_name": "Python 3 (ipykernel)",
   "language": "python",
   "name": "python3"
  },
  "language_info": {
   "codemirror_mode": {
    "name": "ipython",
    "version": 3
   },
   "file_extension": ".py",
   "mimetype": "text/x-python",
   "name": "python",
   "nbconvert_exporter": "python",
   "pygments_lexer": "ipython3",
   "version": "3.8.18"
  }
 },
 "nbformat": 4,
 "nbformat_minor": 5
}
